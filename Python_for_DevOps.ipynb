{
  "nbformat": 4,
  "nbformat_minor": 0,
  "metadata": {
    "colab": {
      "name": "Python_for_DevOps.ipynb",
      "provenance": [],
      "collapsed_sections": [
        "kn-P-e_hjvK5",
        "hQpf0vu_-Cnk",
        "C95FIjW5-rJc",
        "WrRrxofUSJqe",
        "JgPZWw-cA_0B"
      ],
      "toc_visible": true,
      "include_colab_link": true
    },
    "kernelspec": {
      "name": "python3",
      "display_name": "Python 3"
    },
    "accelerator": "GPU"
  },
  "cells": [
    {
      "cell_type": "markdown",
      "metadata": {
        "id": "view-in-github",
        "colab_type": "text"
      },
      "source": [
        "<a href=\"https://colab.research.google.com/github/adel-nouar/FirstBlogDjango/blob/main/Python_for_DevOps.ipynb\" target=\"_parent\"><img src=\"https://colab.research.google.com/assets/colab-badge.svg\" alt=\"Open In Colab\"/></a>"
      ]
    },
    {
      "cell_type": "markdown",
      "metadata": {
        "id": "4J2lIggJLUMS"
      },
      "source": [
        "# **Python for DevOps**\n",
        "\n"
      ]
    },
    {
      "cell_type": "markdown",
      "metadata": {
        "id": "FlQO5nXbFPle"
      },
      "source": [
        "![Python for DevOps](https://images-na.ssl-images-amazon.com/images/I/51pv-GUo2DL._SX379_BO1,204,203,200_.jpg)"
      ]
    },
    {
      "cell_type": "markdown",
      "metadata": {
        "id": "c_Id55m6Jsbu"
      },
      "source": [
        "## Pragmatic AI Labs\n",
        "\n"
      ]
    },
    {
      "cell_type": "markdown",
      "metadata": {
        "id": "e5p96AqpSDZa"
      },
      "source": [
        "![alt text](https://paiml.com/images/logo_with_slogan_white_background.png)\n",
        "\n",
        "This notebook was produced by [Pragmatic AI Labs](https://paiml.com/).  You can continue learning about these topics by:\n",
        "\n",
        "\n",
        "* [Testing in Python ](http://leanpub.com/testinginpython/c/Yrv4sFCIUMd6)\n",
        "* [Cloud Computing for Data Analysis](http://leanpub.com/cloud4data/c/SFInsbdIiLl2)  \n",
        "*   Buying a copy of [Python for DevOps:  Learn Ruthlessly Effective Automation](https://www.amazon.com/Python-DevOps-Ruthlessly-Effective-Automation/dp/149205769X)\n",
        "*   Buying a copy of [Pragmatic AI: An Introduction to Cloud-Based Machine Learning](http://www.informit.com/store/pragmatic-ai-an-introduction-to-cloud-based-machine-9780134863917)\n",
        "\n",
        "*   Reading an online copy of [Python for DevOps: Learn Ruthlessly Effective Automation](https://learning.oreilly.com/library/view/python-for-devops/9781492057680/)\n",
        "*   Reading an online copy of [Pragmatic AI: An Introduction to Cloud-Based Machine Learning](https://www.safaribooksonline.com/library/view/pragmatic-ai-an/9780134863924/)\n",
        "\n",
        "*   Viewing more content at [noahgift.com](https://noahgift.com/)\n",
        "\n",
        "### Additional Related Topics from Noah Gift\n",
        "\n",
        "His most recent books are:\n",
        "\n",
        "*   [Pragmatic A.I.:   An introduction to Cloud-Based Machine Learning (Pearson, 2018)](https://www.amazon.com/Pragmatic-AI-Introduction-Cloud-Based-Analytics/dp/0134863860)\n",
        "*   [Python for DevOps (O'Reilly, 2020)](https://www.amazon.com/Python-DevOps-Ruthlessly-Effective-Automation/dp/149205769X). \n",
        "\n",
        "His most recent video courses are:\n",
        "\n",
        "*   [Essential Machine Learning and A.I. with Python and Jupyter Notebook LiveLessons (Pearson, 2018)](https://learning.oreilly.com/videos/essential-machine-learning/9780135261118)\n",
        "*   [AWS Certified Machine Learning-Specialty (ML-S) (Pearson, 2019)](https://learning.oreilly.com/videos/aws-certified-machine/9780135556597)\n",
        "*   [Python for Data Science Complete Video Course Video Training (Pearson, 2019)](https://learning.oreilly.com/videos/python-for-data/9780135687253)\n",
        "*   [AWS Certified Big Data - Specialty Complete Video Course and Practice Test Video Training (Pearson, 2019)](https://learning.oreilly.com/videos/aws-certified-big/9780135772324)\n",
        "*   [Building A.I. Applications on Google Cloud Platform (Pearson, 2019)](https://learning.oreilly.com/videos/building-ai-applications/9780135973462)\n",
        "*   [Pragmatic AI and Machine Learning Core Principles (Pearson, 2019)](https://learning.oreilly.com/videos/pragmatic-ai-and/9780136554714)\n",
        "*   [Data Engineering with Python and AWS Lambda (Pearson, 2019)](https://learning.oreilly.com/videos/data-engineering-with/9780135964330)\n",
        "\n",
        "His most recent online courses are:\n",
        "\n",
        "*   [Microservices with this Udacity DevOps Nanodegree (Udacity, 2019)](https://www.udacity.com/course/cloud-dev-ops-nanodegree--nd9991)\n",
        "*   [Command Line Automation in Python (DataCamp, 2019)](https://www.datacamp.com/instructors/ndgift)\n",
        "\n"
      ]
    },
    {
      "cell_type": "markdown",
      "metadata": {
        "id": "V9ZjtXu7FbeR"
      },
      "source": [
        "## Introduction to Python for DevOps"
      ]
    },
    {
      "cell_type": "markdown",
      "metadata": {
        "id": "uyS1mgtkF31O"
      },
      "source": [
        "### Presentation: What is DevOps anyway?"
      ]
    },
    {
      "cell_type": "markdown",
      "metadata": {
        "id": "cBB-EIYmLqHI"
      },
      "source": [
        "According to AWS these are [DevOps Practices](https://aws.amazon.com/devops/what-is-devops/):\n",
        "\n",
        "* Continuous Integration\n",
        "* Continuous Delivery\n",
        "* Microservices\n",
        "* Monitoring and Logging (Use Data to make decisions)\n",
        "* Communication and Collaboration\n",
        "\n"
      ]
    },
    {
      "cell_type": "markdown",
      "metadata": {
        "id": "nP_6tcHM7yFm"
      },
      "source": [
        "### Using IPython, Jupyter, Colab and Python executable\n",
        "\n",
        "\n"
      ]
    },
    {
      "cell_type": "markdown",
      "metadata": {
        "id": "n7JKyOrPkITH"
      },
      "source": [
        "#### Using IPython\n",
        "\n",
        "Very similar to Jupyter, but run from terminal:\n",
        "\n",
        "*   IPython predates Jupyter\n",
        "*   Both Jupyter and IPython accept *!ls -l* format to execute shell commands\n",
        "\n"
      ]
    },
    {
      "cell_type": "code",
      "metadata": {
        "id": "YR3ZddpWM-uh",
        "colab": {
          "base_uri": "https://localhost:8080/"
        },
        "outputId": "2d82dec8-9e39-415b-e603-1accd5e84c1d"
      },
      "source": [
        "!ls -l"
      ],
      "execution_count": 1,
      "outputs": [
        {
          "output_type": "stream",
          "name": "stdout",
          "text": [
            "total 4\n",
            "drwxr-xr-x 1 root root 4096 Sep 16 13:40 sample_data\n"
          ]
        }
      ]
    },
    {
      "cell_type": "code",
      "metadata": {
        "id": "RETmEcecyCVf",
        "colab": {
          "base_uri": "https://localhost:8080/"
        },
        "outputId": "a67e902a-617b-4a55-c846-9c2c0fb0af36"
      },
      "source": [
        "var = !ls -l\n",
        "type(var)"
      ],
      "execution_count": 2,
      "outputs": [
        {
          "output_type": "execute_result",
          "data": {
            "text/plain": [
              "IPython.utils.text.SList"
            ]
          },
          "metadata": {},
          "execution_count": 2
        }
      ]
    },
    {
      "cell_type": "code",
      "metadata": {
        "id": "dQMhyAm8sxSc"
      },
      "source": [
        "#var.fields?"
      ],
      "execution_count": 3,
      "outputs": []
    },
    {
      "cell_type": "code",
      "metadata": {
        "id": "qGSSYqVOyJEP",
        "colab": {
          "base_uri": "https://localhost:8080/"
        },
        "outputId": "f668fbec-e0a0-4e17-b6a3-0422d483956b"
      },
      "source": [
        "var.grep(\"data\")"
      ],
      "execution_count": 4,
      "outputs": [
        {
          "output_type": "execute_result",
          "data": {
            "text/plain": [
              "['drwxr-xr-x 1 root root 4096 Sep 16 13:40 sample_data']"
            ]
          },
          "metadata": {},
          "execution_count": 4
        }
      ]
    },
    {
      "cell_type": "markdown",
      "metadata": {
        "id": "Pci2aotqPIME"
      },
      "source": [
        "#### Jupyter Notebook\n",
        "\n",
        "\n",
        "Many flavors of Jupyter Notebook.  A few popular ones:\n",
        "\n",
        "* ![Jupyter](https://user-images.githubusercontent.com/58792/40282633-395be25c-5c27-11e8-9e40-357ea4216562.png)\n",
        "* ![JupyterHug](https://user-images.githubusercontent.com/58792/40282632-387efe32-5c27-11e8-9f02-6f95f2fee223.png)\n",
        "* ![Colab](https://user-images.githubusercontent.com/58792/40282631-384f8cf6-5c27-11e8-9209-3f0d22de0d81.png)\n",
        "* ![Kaggle](https://user-images.githubusercontent.com/58792/40282634-3985c3a6-5c27-11e8-8c53-06fbdedce847.png)\n",
        "* ![Sagemaker](https://user-images.githubusercontent.com/58792/40282635-39a3bdd4-5c27-11e8-81d5-6533a3b84771.png)\n",
        "\n",
        "#### Hosted Commercial Flavors\n",
        "\n",
        "* [Google Colaboratory](https://colab.research.google.com/notebook):  Free\n",
        "* [Kaggle](https://www.kaggle.com/):  Free\n",
        "\n",
        "\n",
        "#### Pure Open Source\n",
        "\n",
        "* [Jupyter](http://jupyter.org/) standalone, original\n",
        "* [JupyterHub](https://github.com/jupyterhub/jupyterhub) multi-user, docker friendly\n",
        "\n",
        "#### Hybrid Solutions\n",
        "\n",
        "* Running Jupyter on [AWS Spot Instances](https://aws.amazon.com/ec2/spot/)\n",
        "* [Google Data Lab](https://cloud.google.com/datalab/)\n",
        "* [Azure Data Science Virtual Machines](https://azure.microsoft.com/en-us/services/virtual-machines/data-science-virtual-machines/)\n",
        "* [AWS Sagemaker](https://aws.amazon.com/sagemaker/)\n",
        "* [Azure Machine Learning Studio](https://studio.azureml.net/)\n"
      ]
    },
    {
      "cell_type": "markdown",
      "metadata": {
        "id": "lh4tsf3-p-lw"
      },
      "source": [
        "#### Colab Notebook Key Features\n",
        "\n",
        "* [12.1 Perform Colaboratory basics ](https://www.safaribooksonline.com/videos/essential-machine-learning/9780135261118/9780135261118-EMLA_01_12_01)\n",
        "\n",
        "* [12.2 Use Advanced Colab Features](https://www.safaribooksonline.com/videos/essential-machine-learning/9780135261118/9780135261118-EMLA_01_12_02)"
      ]
    },
    {
      "cell_type": "markdown",
      "metadata": {
        "id": "V-xv1E3YqDK4"
      },
      "source": [
        "*  Can enable both TPU and GPU runtimes\n",
        "*  Can upload regular Jupyter Notebooks into colab\n",
        "*  Can have a Google Drive Full of Colab Notebooks\n",
        "*  Can sync colab notebooks to Github.  Here is an example of a [gist of this notebook](https://gist.github.com/noahgift/c69200e05c057cf239fc7ea0be62e043)\n",
        "*  Can connect to a [local runtime](https://research.google.com/colaboratory/local-runtimes.html)\n",
        "* Can create [forms in Colab](https://colab.research.google.com/notebooks/forms.ipynb)\n",
        "\n",
        "\n",
        "\n"
      ]
    },
    {
      "cell_type": "markdown",
      "metadata": {
        "id": "hPWO_zyRopXN"
      },
      "source": [
        "##### Mount GDrive\n"
      ]
    },
    {
      "cell_type": "code",
      "metadata": {
        "id": "XI73HZNLobp4",
        "colab": {
          "base_uri": "https://localhost:8080/",
          "height": 572
        },
        "outputId": "7d882c19-0b10-43b2-878e-bec429c6845c"
      },
      "source": [
        "from google.colab import drive\n",
        "drive.mount('/content/gdrive', force_remount=True)"
      ],
      "execution_count": 5,
      "outputs": [
        {
          "output_type": "error",
          "ename": "KeyboardInterrupt",
          "evalue": "ignored",
          "traceback": [
            "\u001b[0;31m---------------------------------------------------------------------------\u001b[0m",
            "\u001b[0;31mKeyboardInterrupt\u001b[0m                         Traceback (most recent call last)",
            "\u001b[0;32m/usr/local/lib/python3.7/dist-packages/ipykernel/kernelbase.py\u001b[0m in \u001b[0;36m_input_request\u001b[0;34m(self, prompt, ident, parent, password)\u001b[0m\n\u001b[1;32m    728\u001b[0m             \u001b[0;32mtry\u001b[0m\u001b[0;34m:\u001b[0m\u001b[0;34m\u001b[0m\u001b[0;34m\u001b[0m\u001b[0m\n\u001b[0;32m--> 729\u001b[0;31m                 \u001b[0mident\u001b[0m\u001b[0;34m,\u001b[0m \u001b[0mreply\u001b[0m \u001b[0;34m=\u001b[0m \u001b[0mself\u001b[0m\u001b[0;34m.\u001b[0m\u001b[0msession\u001b[0m\u001b[0;34m.\u001b[0m\u001b[0mrecv\u001b[0m\u001b[0;34m(\u001b[0m\u001b[0mself\u001b[0m\u001b[0;34m.\u001b[0m\u001b[0mstdin_socket\u001b[0m\u001b[0;34m,\u001b[0m \u001b[0;36m0\u001b[0m\u001b[0;34m)\u001b[0m\u001b[0;34m\u001b[0m\u001b[0;34m\u001b[0m\u001b[0m\n\u001b[0m\u001b[1;32m    730\u001b[0m             \u001b[0;32mexcept\u001b[0m \u001b[0mException\u001b[0m\u001b[0;34m:\u001b[0m\u001b[0;34m\u001b[0m\u001b[0;34m\u001b[0m\u001b[0m\n",
            "\u001b[0;32m/usr/local/lib/python3.7/dist-packages/jupyter_client/session.py\u001b[0m in \u001b[0;36mrecv\u001b[0;34m(self, socket, mode, content, copy)\u001b[0m\n\u001b[1;32m    802\u001b[0m         \u001b[0;32mtry\u001b[0m\u001b[0;34m:\u001b[0m\u001b[0;34m\u001b[0m\u001b[0;34m\u001b[0m\u001b[0m\n\u001b[0;32m--> 803\u001b[0;31m             \u001b[0mmsg_list\u001b[0m \u001b[0;34m=\u001b[0m \u001b[0msocket\u001b[0m\u001b[0;34m.\u001b[0m\u001b[0mrecv_multipart\u001b[0m\u001b[0;34m(\u001b[0m\u001b[0mmode\u001b[0m\u001b[0;34m,\u001b[0m \u001b[0mcopy\u001b[0m\u001b[0;34m=\u001b[0m\u001b[0mcopy\u001b[0m\u001b[0;34m)\u001b[0m\u001b[0;34m\u001b[0m\u001b[0;34m\u001b[0m\u001b[0m\n\u001b[0m\u001b[1;32m    804\u001b[0m         \u001b[0;32mexcept\u001b[0m \u001b[0mzmq\u001b[0m\u001b[0;34m.\u001b[0m\u001b[0mZMQError\u001b[0m \u001b[0;32mas\u001b[0m \u001b[0me\u001b[0m\u001b[0;34m:\u001b[0m\u001b[0;34m\u001b[0m\u001b[0;34m\u001b[0m\u001b[0m\n",
            "\u001b[0;32m/usr/local/lib/python3.7/dist-packages/zmq/sugar/socket.py\u001b[0m in \u001b[0;36mrecv_multipart\u001b[0;34m(self, flags, copy, track)\u001b[0m\n\u001b[1;32m    624\u001b[0m         \"\"\"\n\u001b[0;32m--> 625\u001b[0;31m         \u001b[0mparts\u001b[0m \u001b[0;34m=\u001b[0m \u001b[0;34m[\u001b[0m\u001b[0mself\u001b[0m\u001b[0;34m.\u001b[0m\u001b[0mrecv\u001b[0m\u001b[0;34m(\u001b[0m\u001b[0mflags\u001b[0m\u001b[0;34m,\u001b[0m \u001b[0mcopy\u001b[0m\u001b[0;34m=\u001b[0m\u001b[0mcopy\u001b[0m\u001b[0;34m,\u001b[0m \u001b[0mtrack\u001b[0m\u001b[0;34m=\u001b[0m\u001b[0mtrack\u001b[0m\u001b[0;34m)\u001b[0m\u001b[0;34m]\u001b[0m\u001b[0;34m\u001b[0m\u001b[0;34m\u001b[0m\u001b[0m\n\u001b[0m\u001b[1;32m    626\u001b[0m         \u001b[0;31m# have first part already, only loop while more to receive\u001b[0m\u001b[0;34m\u001b[0m\u001b[0;34m\u001b[0m\u001b[0;34m\u001b[0m\u001b[0m\n",
            "\u001b[0;32mzmq/backend/cython/socket.pyx\u001b[0m in \u001b[0;36mzmq.backend.cython.socket.Socket.recv\u001b[0;34m()\u001b[0m\n",
            "\u001b[0;32mzmq/backend/cython/socket.pyx\u001b[0m in \u001b[0;36mzmq.backend.cython.socket.Socket.recv\u001b[0;34m()\u001b[0m\n",
            "\u001b[0;32mzmq/backend/cython/socket.pyx\u001b[0m in \u001b[0;36mzmq.backend.cython.socket._recv_copy\u001b[0;34m()\u001b[0m\n",
            "\u001b[0;32m/usr/local/lib/python3.7/dist-packages/zmq/backend/cython/checkrc.pxd\u001b[0m in \u001b[0;36mzmq.backend.cython.checkrc._check_rc\u001b[0;34m()\u001b[0m\n",
            "\u001b[0;31mKeyboardInterrupt\u001b[0m: ",
            "\nDuring handling of the above exception, another exception occurred:\n",
            "\u001b[0;31mKeyboardInterrupt\u001b[0m                         Traceback (most recent call last)",
            "\u001b[0;32m<ipython-input-5-80bea5481fc3>\u001b[0m in \u001b[0;36m<module>\u001b[0;34m()\u001b[0m\n\u001b[1;32m      1\u001b[0m \u001b[0;32mfrom\u001b[0m \u001b[0mgoogle\u001b[0m\u001b[0;34m.\u001b[0m\u001b[0mcolab\u001b[0m \u001b[0;32mimport\u001b[0m \u001b[0mdrive\u001b[0m\u001b[0;34m\u001b[0m\u001b[0;34m\u001b[0m\u001b[0m\n\u001b[0;32m----> 2\u001b[0;31m \u001b[0mdrive\u001b[0m\u001b[0;34m.\u001b[0m\u001b[0mmount\u001b[0m\u001b[0;34m(\u001b[0m\u001b[0;34m'/content/gdrive'\u001b[0m\u001b[0;34m,\u001b[0m \u001b[0mforce_remount\u001b[0m\u001b[0;34m=\u001b[0m\u001b[0;32mTrue\u001b[0m\u001b[0;34m)\u001b[0m\u001b[0;34m\u001b[0m\u001b[0;34m\u001b[0m\u001b[0m\n\u001b[0m",
            "\u001b[0;32m/usr/local/lib/python3.7/dist-packages/google/colab/drive.py\u001b[0m in \u001b[0;36mmount\u001b[0;34m(mountpoint, force_remount, timeout_ms, use_metadata_server)\u001b[0m\n\u001b[1;32m    111\u001b[0m       \u001b[0mtimeout_ms\u001b[0m\u001b[0;34m=\u001b[0m\u001b[0mtimeout_ms\u001b[0m\u001b[0;34m,\u001b[0m\u001b[0;34m\u001b[0m\u001b[0;34m\u001b[0m\u001b[0m\n\u001b[1;32m    112\u001b[0m       \u001b[0muse_metadata_server\u001b[0m\u001b[0;34m=\u001b[0m\u001b[0muse_metadata_server\u001b[0m\u001b[0;34m,\u001b[0m\u001b[0;34m\u001b[0m\u001b[0;34m\u001b[0m\u001b[0m\n\u001b[0;32m--> 113\u001b[0;31m       ephemeral=ephemeral)\n\u001b[0m\u001b[1;32m    114\u001b[0m \u001b[0;34m\u001b[0m\u001b[0m\n\u001b[1;32m    115\u001b[0m \u001b[0;34m\u001b[0m\u001b[0m\n",
            "\u001b[0;32m/usr/local/lib/python3.7/dist-packages/google/colab/drive.py\u001b[0m in \u001b[0;36m_mount\u001b[0;34m(mountpoint, force_remount, timeout_ms, use_metadata_server, ephemeral)\u001b[0m\n\u001b[1;32m    290\u001b[0m       \u001b[0;32mwith\u001b[0m \u001b[0m_output\u001b[0m\u001b[0;34m.\u001b[0m\u001b[0muse_tags\u001b[0m\u001b[0;34m(\u001b[0m\u001b[0;34m'dfs-auth-dance'\u001b[0m\u001b[0;34m)\u001b[0m\u001b[0;34m:\u001b[0m\u001b[0;34m\u001b[0m\u001b[0;34m\u001b[0m\u001b[0m\n\u001b[1;32m    291\u001b[0m         \u001b[0;32mwith\u001b[0m \u001b[0mopen\u001b[0m\u001b[0;34m(\u001b[0m\u001b[0mfifo\u001b[0m\u001b[0;34m,\u001b[0m \u001b[0;34m'w'\u001b[0m\u001b[0;34m)\u001b[0m \u001b[0;32mas\u001b[0m \u001b[0mfifo_file\u001b[0m\u001b[0;34m:\u001b[0m\u001b[0;34m\u001b[0m\u001b[0;34m\u001b[0m\u001b[0m\n\u001b[0;32m--> 292\u001b[0;31m           \u001b[0mfifo_file\u001b[0m\u001b[0;34m.\u001b[0m\u001b[0mwrite\u001b[0m\u001b[0;34m(\u001b[0m\u001b[0mget_code\u001b[0m\u001b[0;34m(\u001b[0m\u001b[0mauth_prompt\u001b[0m\u001b[0;34m)\u001b[0m \u001b[0;34m+\u001b[0m \u001b[0;34m'\\n'\u001b[0m\u001b[0;34m)\u001b[0m\u001b[0;34m\u001b[0m\u001b[0;34m\u001b[0m\u001b[0m\n\u001b[0m\u001b[1;32m    293\u001b[0m       \u001b[0mwrote_to_fifo\u001b[0m \u001b[0;34m=\u001b[0m \u001b[0;32mTrue\u001b[0m\u001b[0;34m\u001b[0m\u001b[0;34m\u001b[0m\u001b[0m\n\u001b[1;32m    294\u001b[0m     \u001b[0;32melif\u001b[0m \u001b[0mcase\u001b[0m \u001b[0;34m==\u001b[0m \u001b[0;36m5\u001b[0m\u001b[0;34m:\u001b[0m\u001b[0;34m\u001b[0m\u001b[0;34m\u001b[0m\u001b[0m\n",
            "\u001b[0;32m/usr/local/lib/python3.7/dist-packages/ipykernel/kernelbase.py\u001b[0m in \u001b[0;36mraw_input\u001b[0;34m(self, prompt)\u001b[0m\n\u001b[1;32m    702\u001b[0m             \u001b[0mself\u001b[0m\u001b[0;34m.\u001b[0m\u001b[0m_parent_ident\u001b[0m\u001b[0;34m,\u001b[0m\u001b[0;34m\u001b[0m\u001b[0;34m\u001b[0m\u001b[0m\n\u001b[1;32m    703\u001b[0m             \u001b[0mself\u001b[0m\u001b[0;34m.\u001b[0m\u001b[0m_parent_header\u001b[0m\u001b[0;34m,\u001b[0m\u001b[0;34m\u001b[0m\u001b[0;34m\u001b[0m\u001b[0m\n\u001b[0;32m--> 704\u001b[0;31m             \u001b[0mpassword\u001b[0m\u001b[0;34m=\u001b[0m\u001b[0;32mFalse\u001b[0m\u001b[0;34m,\u001b[0m\u001b[0;34m\u001b[0m\u001b[0;34m\u001b[0m\u001b[0m\n\u001b[0m\u001b[1;32m    705\u001b[0m         )\n\u001b[1;32m    706\u001b[0m \u001b[0;34m\u001b[0m\u001b[0m\n",
            "\u001b[0;32m/usr/local/lib/python3.7/dist-packages/ipykernel/kernelbase.py\u001b[0m in \u001b[0;36m_input_request\u001b[0;34m(self, prompt, ident, parent, password)\u001b[0m\n\u001b[1;32m    732\u001b[0m             \u001b[0;32mexcept\u001b[0m \u001b[0mKeyboardInterrupt\u001b[0m\u001b[0;34m:\u001b[0m\u001b[0;34m\u001b[0m\u001b[0;34m\u001b[0m\u001b[0m\n\u001b[1;32m    733\u001b[0m                 \u001b[0;31m# re-raise KeyboardInterrupt, to truncate traceback\u001b[0m\u001b[0;34m\u001b[0m\u001b[0;34m\u001b[0m\u001b[0;34m\u001b[0m\u001b[0m\n\u001b[0;32m--> 734\u001b[0;31m                 \u001b[0;32mraise\u001b[0m \u001b[0mKeyboardInterrupt\u001b[0m\u001b[0;34m\u001b[0m\u001b[0;34m\u001b[0m\u001b[0m\n\u001b[0m\u001b[1;32m    735\u001b[0m             \u001b[0;32melse\u001b[0m\u001b[0;34m:\u001b[0m\u001b[0;34m\u001b[0m\u001b[0;34m\u001b[0m\u001b[0m\n\u001b[1;32m    736\u001b[0m                 \u001b[0;32mbreak\u001b[0m\u001b[0;34m\u001b[0m\u001b[0;34m\u001b[0m\u001b[0m\n",
            "\u001b[0;31mKeyboardInterrupt\u001b[0m: "
          ]
        }
      ]
    },
    {
      "cell_type": "code",
      "metadata": {
        "id": "UNyzZwgmoxwm",
        "colab": {
          "base_uri": "https://localhost:8080/",
          "height": 166
        },
        "outputId": "2c89201a-9c52-4ee4-dfac-e3d61f7195bb"
      },
      "source": [
        "import os;os.listdir(\"/content/gdrive/My Drive/awsml\")"
      ],
      "execution_count": 6,
      "outputs": [
        {
          "output_type": "error",
          "ename": "FileNotFoundError",
          "evalue": "ignored",
          "traceback": [
            "\u001b[0;31m---------------------------------------------------------------------------\u001b[0m",
            "\u001b[0;31mFileNotFoundError\u001b[0m                         Traceback (most recent call last)",
            "\u001b[0;32m<ipython-input-6-7616dfbd1883>\u001b[0m in \u001b[0;36m<module>\u001b[0;34m()\u001b[0m\n\u001b[0;32m----> 1\u001b[0;31m \u001b[0;32mimport\u001b[0m \u001b[0mos\u001b[0m\u001b[0;34m;\u001b[0m\u001b[0mos\u001b[0m\u001b[0;34m.\u001b[0m\u001b[0mlistdir\u001b[0m\u001b[0;34m(\u001b[0m\u001b[0;34m\"/content/gdrive/My Drive/awsml\"\u001b[0m\u001b[0;34m)\u001b[0m\u001b[0;34m\u001b[0m\u001b[0;34m\u001b[0m\u001b[0m\n\u001b[0m",
            "\u001b[0;31mFileNotFoundError\u001b[0m: [Errno 2] No such file or directory: '/content/gdrive/My Drive/awsml'"
          ]
        }
      ]
    },
    {
      "cell_type": "markdown",
      "metadata": {
        "id": "3jX9349SpLbr"
      },
      "source": [
        "#### Magic Commands"
      ]
    },
    {
      "cell_type": "markdown",
      "metadata": {
        "id": "Zf35CYV9PrjS"
      },
      "source": [
        "##### %timeit"
      ]
    },
    {
      "cell_type": "code",
      "metadata": {
        "id": "tMpMJH0rfAEg",
        "colab": {
          "base_uri": "https://localhost:8080/"
        },
        "outputId": "4b6e0c11-50d7-4489-98e0-69f5efe20de9"
      },
      "source": [
        "too_many_decimals = 1.912345897\n",
        "\n",
        "print(\"built in Python Round\")\n",
        "%timeit round(too_many_decimals, 2)\n"
      ],
      "execution_count": 7,
      "outputs": [
        {
          "output_type": "stream",
          "name": "stdout",
          "text": [
            "built in Python Round\n",
            "The slowest run took 18.31 times longer than the fastest. This could mean that an intermediate result is being cached.\n",
            "1000000 loops, best of 5: 567 ns per loop\n"
          ]
        }
      ]
    },
    {
      "cell_type": "markdown",
      "metadata": {
        "id": "p_KLutZKq5yN"
      },
      "source": [
        "##### %alias"
      ]
    },
    {
      "cell_type": "code",
      "metadata": {
        "id": "jyIZLH6UpMou"
      },
      "source": [
        "alias lscsv ls -l sample_data/*.csv "
      ],
      "execution_count": 9,
      "outputs": []
    },
    {
      "cell_type": "code",
      "metadata": {
        "id": "BNJ6bKtGpVn3",
        "colab": {
          "base_uri": "https://localhost:8080/"
        },
        "outputId": "5b3d399a-bc2b-412d-f528-ffaf0a5a7e6b"
      },
      "source": [
        "lscsv"
      ],
      "execution_count": 10,
      "outputs": [
        {
          "output_type": "stream",
          "name": "stdout",
          "text": [
            "-rw-r--r-- 1 root root   301141 Sep 16 13:40 sample_data/california_housing_test.csv\n",
            "-rw-r--r-- 1 root root  1706430 Sep 16 13:40 sample_data/california_housing_train.csv\n",
            "-rw-r--r-- 1 root root 18289443 Sep 16 13:40 sample_data/mnist_test.csv\n",
            "-rw-r--r-- 1 root root 36523880 Sep 16 13:40 sample_data/mnist_train_small.csv\n"
          ]
        }
      ]
    },
    {
      "cell_type": "markdown",
      "metadata": {
        "id": "AE1cfp41rcwL"
      },
      "source": [
        "[Reference These]\n",
        "https://ipython.readthedocs.io/en/stable/interactive/magics.html"
      ]
    },
    {
      "cell_type": "markdown",
      "metadata": {
        "id": "MnsQIiDurIPp"
      },
      "source": [
        "##### %who"
      ]
    },
    {
      "cell_type": "markdown",
      "metadata": {
        "id": "ljy17rdjrWD9"
      },
      "source": [
        "Print variables"
      ]
    },
    {
      "cell_type": "code",
      "metadata": {
        "id": "mUFS07KpPfE6"
      },
      "source": [
        "var1=1"
      ],
      "execution_count": 11,
      "outputs": []
    },
    {
      "cell_type": "code",
      "metadata": {
        "id": "ACyoq3IsrNZV",
        "colab": {
          "base_uri": "https://localhost:8080/"
        },
        "outputId": "f9497d63-7b3c-4cca-c66a-d94a3945286b"
      },
      "source": [
        "who"
      ],
      "execution_count": 14,
      "outputs": [
        {
          "output_type": "stream",
          "name": "stdout",
          "text": [
            "drive\t os\t too_many_decimals\t var\t var1\t \n"
          ]
        }
      ]
    },
    {
      "cell_type": "code",
      "metadata": {
        "id": "MURtyzAMrZ1Z",
        "colab": {
          "base_uri": "https://localhost:8080/"
        },
        "outputId": "866bb87d-c6b4-4120-bc70-604f8d21cb51"
      },
      "source": [
        "too_many_decimals"
      ],
      "execution_count": 13,
      "outputs": [
        {
          "output_type": "execute_result",
          "data": {
            "text/plain": [
              "1.912345897"
            ]
          },
          "metadata": {},
          "execution_count": 13
        }
      ]
    },
    {
      "cell_type": "markdown",
      "metadata": {
        "id": "l9z-cAQow-BO"
      },
      "source": [
        "##### %writefile"
      ]
    },
    {
      "cell_type": "code",
      "metadata": {
        "id": "luIP2qKqxJmB",
        "colab": {
          "base_uri": "https://localhost:8080/"
        },
        "outputId": "b5b3a573-fc82-4210-e327-a1985b1e06ca"
      },
      "source": [
        "%%writefile magic_stuff.py\n",
        "import pandas as pd\n",
        "df = pd.read_csv(\n",
        "    \"https://raw.githubusercontent.com/noahgift/food/master/data/features.en.openfoodfacts.org.products.csv\")\n",
        "df.drop([\"Unnamed: 0\", \"exceeded\", \"g_sum\", \"energy_100g\"], axis=1, inplace=True) #drop two rows we don't need\n",
        "df = df.drop(df.index[[1,11877]]) #drop outlier\n",
        "df.rename(index=str, columns={\"reconstructed_energy\": \"energy_100g\"}, inplace=True)\n",
        "print(df.head())"
      ],
      "execution_count": 15,
      "outputs": [
        {
          "output_type": "stream",
          "name": "stdout",
          "text": [
            "Writing magic_stuff.py\n"
          ]
        }
      ]
    },
    {
      "cell_type": "code",
      "metadata": {
        "id": "uok6ppvvxRo9",
        "colab": {
          "base_uri": "https://localhost:8080/"
        },
        "outputId": "0f98d30d-9a30-4be3-daa2-b192e5fff913"
      },
      "source": [
        "cat magic_stuff.py"
      ],
      "execution_count": 16,
      "outputs": [
        {
          "output_type": "stream",
          "name": "stdout",
          "text": [
            "import pandas as pd\n",
            "df = pd.read_csv(\n",
            "    \"https://raw.githubusercontent.com/noahgift/food/master/data/features.en.openfoodfacts.org.products.csv\")\n",
            "df.drop([\"Unnamed: 0\", \"exceeded\", \"g_sum\", \"energy_100g\"], axis=1, inplace=True) #drop two rows we don't need\n",
            "df = df.drop(df.index[[1,11877]]) #drop outlier\n",
            "df.rename(index=str, columns={\"reconstructed_energy\": \"energy_100g\"}, inplace=True)\n",
            "print(df.head())"
          ]
        }
      ]
    },
    {
      "cell_type": "code",
      "metadata": {
        "id": "STjEo5XFPxM0",
        "colab": {
          "base_uri": "https://localhost:8080/"
        },
        "outputId": "475531ca-b76f-4686-8769-5a72f4abab76"
      },
      "source": [
        "!python magic_stuff.py"
      ],
      "execution_count": 17,
      "outputs": [
        {
          "output_type": "stream",
          "name": "stdout",
          "text": [
            "   fat_100g  ...                         product\n",
            "0     28.57  ...  Banana Chips Sweetened (Whole)\n",
            "2     57.14  ...          Organic Salted Nut Mix\n",
            "3     18.75  ...                  Organic Muesli\n",
            "4     36.67  ...                   Zen Party Mix\n",
            "5     18.18  ...            Cinnamon Nut Granola\n",
            "\n",
            "[5 rows x 7 columns]\n"
          ]
        }
      ]
    },
    {
      "cell_type": "code",
      "metadata": {
        "id": "0jUCwijQ0_-t",
        "colab": {
          "base_uri": "https://localhost:8080/"
        },
        "outputId": "f0058d97-c61a-4443-9f4e-afba38fd1b25"
      },
      "source": [
        "!pip install -q pylint"
      ],
      "execution_count": 18,
      "outputs": [
        {
          "output_type": "stream",
          "name": "stdout",
          "text": [
            "\u001b[K     |████████████████████████████████| 392 kB 4.3 MB/s \n",
            "\u001b[K     |████████████████████████████████| 242 kB 35.2 MB/s \n",
            "\u001b[K     |████████████████████████████████| 106 kB 42.8 MB/s \n",
            "\u001b[K     |████████████████████████████████| 743 kB 24.4 MB/s \n",
            "\u001b[K     |████████████████████████████████| 55 kB 3.6 MB/s \n",
            "\u001b[31mERROR: pip's dependency resolver does not currently take into account all the packages that are installed. This behaviour is the source of the following dependency conflicts.\n",
            "tensorflow 2.6.0 requires typing-extensions~=3.7.4, but you have typing-extensions 3.10.0.2 which is incompatible.\u001b[0m\n",
            "\u001b[?25h"
          ]
        }
      ]
    },
    {
      "cell_type": "code",
      "metadata": {
        "id": "Xf8MwJfy1FqQ",
        "colab": {
          "base_uri": "https://localhost:8080/"
        },
        "outputId": "fc5d6d03-8b66-47c7-ed2c-9e740ea669d3"
      },
      "source": [
        "!pylint magic_stuff.py"
      ],
      "execution_count": 19,
      "outputs": [
        {
          "output_type": "stream",
          "name": "stdout",
          "text": [
            "************* Module magic_stuff\n",
            "magic_stuff.py:3:0: C0301: Line too long (109/100) (line-too-long)\n",
            "magic_stuff.py:4:0: C0301: Line too long (110/100) (line-too-long)\n",
            "magic_stuff.py:7:0: C0304: Final newline missing (missing-final-newline)\n",
            "magic_stuff.py:1:0: C0114: Missing module docstring (missing-module-docstring)\n",
            "magic_stuff.py:5:5: E1101: Instance of 'TextFileReader' has no 'drop' member (no-member)\n",
            "magic_stuff.py:5:13: E1101: Instance of 'TextFileReader' has no 'index' member (no-member)\n",
            "\n",
            "-------------------------------------\n",
            "Your code has been rated at -13.33/10\n",
            "\n"
          ]
        }
      ]
    },
    {
      "cell_type": "markdown",
      "metadata": {
        "id": "TtVDMB8EwJqG"
      },
      "source": [
        "##### Bash"
      ]
    },
    {
      "cell_type": "code",
      "metadata": {
        "id": "YC03T7XUuF1k",
        "colab": {
          "base_uri": "https://localhost:8080/"
        },
        "outputId": "a70ba0cf-34ee-409e-b53e-18db8a160c86"
      },
      "source": [
        "%%bash\n",
        "uname -a\n",
        "ls\n",
        "ps"
      ],
      "execution_count": 20,
      "outputs": [
        {
          "output_type": "stream",
          "name": "stdout",
          "text": [
            "Linux 2937cd821877 5.4.104+ #1 SMP Sat Jun 5 09:50:34 PDT 2021 x86_64 x86_64 x86_64 GNU/Linux\n",
            "magic_stuff.py\n",
            "sample_data\n",
            "    PID TTY          TIME CMD\n",
            "      1 ?        00:00:01 node\n",
            "     17 ?        00:00:00 tail\n",
            "     64 ?        00:00:01 jupyter-noteboo\n",
            "     65 ?        00:00:00 dap_multiplexer\n",
            "     76 ?        00:00:06 python3\n",
            "     96 ?        00:00:00 python3\n",
            "    126 ?        00:00:00 bash\n",
            "    141 ?        00:00:00 bash\n",
            "    145 ?        00:00:00 bash\n",
            "    146 ?        00:00:00 drive\n",
            "    147 ?        00:00:00 grep\n",
            "    150 ?        00:00:00 drive\n",
            "    536 ?        00:00:00 sleep\n",
            "    537 ?        00:00:00 bash\n",
            "    540 ?        00:00:00 ps\n"
          ]
        }
      ]
    },
    {
      "cell_type": "code",
      "metadata": {
        "id": "HI8JuclMt0p2",
        "colab": {
          "base_uri": "https://localhost:8080/"
        },
        "outputId": "58ce16bd-8288-46d3-cc32-81cf2dcb6e36"
      },
      "source": [
        "!uname -a"
      ],
      "execution_count": 21,
      "outputs": [
        {
          "output_type": "stream",
          "name": "stdout",
          "text": [
            "Linux 2937cd821877 5.4.104+ #1 SMP Sat Jun 5 09:50:34 PDT 2021 x86_64 x86_64 x86_64 GNU/Linux\n"
          ]
        }
      ]
    },
    {
      "cell_type": "markdown",
      "metadata": {
        "id": "ohA_HAOewNMT"
      },
      "source": [
        "##### Python2"
      ]
    },
    {
      "cell_type": "code",
      "metadata": {
        "id": "eioZW4txwO7-",
        "colab": {
          "base_uri": "https://localhost:8080/"
        },
        "outputId": "d5be7d8f-aa26-4063-f116-eef1002100d3"
      },
      "source": [
        "%%python2\n",
        "print \"old school\"\n"
      ],
      "execution_count": 22,
      "outputs": [
        {
          "output_type": "stream",
          "name": "stdout",
          "text": [
            "old school\n"
          ]
        }
      ]
    },
    {
      "cell_type": "markdown",
      "metadata": {
        "id": "A2sW1aQ-wuPH"
      },
      "source": [
        "##### HTML"
      ]
    },
    {
      "cell_type": "code",
      "metadata": {
        "id": "C8ueccG-wv8Z",
        "colab": {
          "base_uri": "https://localhost:8080/",
          "height": 74
        },
        "outputId": "ffa5e576-f784-473a-b3c8-7695232d903a"
      },
      "source": [
        "%%html\n",
        "<h1>Only The Best Tags and People</h>"
      ],
      "execution_count": 24,
      "outputs": [
        {
          "output_type": "display_data",
          "data": {
            "text/html": [
              "<h1>Only The Best Tags and People</h>"
            ],
            "text/plain": [
              "<IPython.core.display.HTML object>"
            ]
          },
          "metadata": {}
        }
      ]
    },
    {
      "cell_type": "markdown",
      "metadata": {
        "id": "Lgxm56T_u38j"
      },
      "source": [
        "##### Upload to Colab"
      ]
    },
    {
      "cell_type": "code",
      "metadata": {
        "id": "iXE_tpgYvr7p"
      },
      "source": [
        "!pip install --upgrade -q gspread"
      ],
      "execution_count": 23,
      "outputs": []
    },
    {
      "cell_type": "code",
      "metadata": {
        "id": "C3OJaHBSvr69",
        "colab": {
          "base_uri": "https://localhost:8080/",
          "height": 572
        },
        "outputId": "e1016679-c7e6-4fff-824d-c6b2f88a1159"
      },
      "source": [
        "from google.colab import auth\n",
        "auth.authenticate_user()\n",
        "\n",
        "import gspread\n",
        "from oauth2client.client import GoogleCredentials\n",
        "\n",
        "gc = gspread.authorize(GoogleCredentials.get_application_default())\n",
        "\n",
        "worksheet = gc.open('DevOp-Wonder').sheet1\n",
        "\n",
        "# get_all_values gives a list of rows.\n",
        "rows = worksheet.get_all_values()\n",
        "print(rows)\n",
        "\n",
        "# Convert to a DataFrame and render.\n",
        "import pandas as pd\n",
        "df = pd.DataFrame.from_records(rows)\n",
        "df"
      ],
      "execution_count": 25,
      "outputs": [
        {
          "output_type": "error",
          "ename": "KeyboardInterrupt",
          "evalue": "ignored",
          "traceback": [
            "\u001b[0;31m---------------------------------------------------------------------------\u001b[0m",
            "\u001b[0;31mKeyboardInterrupt\u001b[0m                         Traceback (most recent call last)",
            "\u001b[0;32m/usr/local/lib/python3.7/dist-packages/ipykernel/kernelbase.py\u001b[0m in \u001b[0;36m_input_request\u001b[0;34m(self, prompt, ident, parent, password)\u001b[0m\n\u001b[1;32m    728\u001b[0m             \u001b[0;32mtry\u001b[0m\u001b[0;34m:\u001b[0m\u001b[0;34m\u001b[0m\u001b[0;34m\u001b[0m\u001b[0m\n\u001b[0;32m--> 729\u001b[0;31m                 \u001b[0mident\u001b[0m\u001b[0;34m,\u001b[0m \u001b[0mreply\u001b[0m \u001b[0;34m=\u001b[0m \u001b[0mself\u001b[0m\u001b[0;34m.\u001b[0m\u001b[0msession\u001b[0m\u001b[0;34m.\u001b[0m\u001b[0mrecv\u001b[0m\u001b[0;34m(\u001b[0m\u001b[0mself\u001b[0m\u001b[0;34m.\u001b[0m\u001b[0mstdin_socket\u001b[0m\u001b[0;34m,\u001b[0m \u001b[0;36m0\u001b[0m\u001b[0;34m)\u001b[0m\u001b[0;34m\u001b[0m\u001b[0;34m\u001b[0m\u001b[0m\n\u001b[0m\u001b[1;32m    730\u001b[0m             \u001b[0;32mexcept\u001b[0m \u001b[0mException\u001b[0m\u001b[0;34m:\u001b[0m\u001b[0;34m\u001b[0m\u001b[0;34m\u001b[0m\u001b[0m\n",
            "\u001b[0;32m/usr/local/lib/python3.7/dist-packages/jupyter_client/session.py\u001b[0m in \u001b[0;36mrecv\u001b[0;34m(self, socket, mode, content, copy)\u001b[0m\n\u001b[1;32m    802\u001b[0m         \u001b[0;32mtry\u001b[0m\u001b[0;34m:\u001b[0m\u001b[0;34m\u001b[0m\u001b[0;34m\u001b[0m\u001b[0m\n\u001b[0;32m--> 803\u001b[0;31m             \u001b[0mmsg_list\u001b[0m \u001b[0;34m=\u001b[0m \u001b[0msocket\u001b[0m\u001b[0;34m.\u001b[0m\u001b[0mrecv_multipart\u001b[0m\u001b[0;34m(\u001b[0m\u001b[0mmode\u001b[0m\u001b[0;34m,\u001b[0m \u001b[0mcopy\u001b[0m\u001b[0;34m=\u001b[0m\u001b[0mcopy\u001b[0m\u001b[0;34m)\u001b[0m\u001b[0;34m\u001b[0m\u001b[0;34m\u001b[0m\u001b[0m\n\u001b[0m\u001b[1;32m    804\u001b[0m         \u001b[0;32mexcept\u001b[0m \u001b[0mzmq\u001b[0m\u001b[0;34m.\u001b[0m\u001b[0mZMQError\u001b[0m \u001b[0;32mas\u001b[0m \u001b[0me\u001b[0m\u001b[0;34m:\u001b[0m\u001b[0;34m\u001b[0m\u001b[0;34m\u001b[0m\u001b[0m\n",
            "\u001b[0;32m/usr/local/lib/python3.7/dist-packages/zmq/sugar/socket.py\u001b[0m in \u001b[0;36mrecv_multipart\u001b[0;34m(self, flags, copy, track)\u001b[0m\n\u001b[1;32m    624\u001b[0m         \"\"\"\n\u001b[0;32m--> 625\u001b[0;31m         \u001b[0mparts\u001b[0m \u001b[0;34m=\u001b[0m \u001b[0;34m[\u001b[0m\u001b[0mself\u001b[0m\u001b[0;34m.\u001b[0m\u001b[0mrecv\u001b[0m\u001b[0;34m(\u001b[0m\u001b[0mflags\u001b[0m\u001b[0;34m,\u001b[0m \u001b[0mcopy\u001b[0m\u001b[0;34m=\u001b[0m\u001b[0mcopy\u001b[0m\u001b[0;34m,\u001b[0m \u001b[0mtrack\u001b[0m\u001b[0;34m=\u001b[0m\u001b[0mtrack\u001b[0m\u001b[0;34m)\u001b[0m\u001b[0;34m]\u001b[0m\u001b[0;34m\u001b[0m\u001b[0;34m\u001b[0m\u001b[0m\n\u001b[0m\u001b[1;32m    626\u001b[0m         \u001b[0;31m# have first part already, only loop while more to receive\u001b[0m\u001b[0;34m\u001b[0m\u001b[0;34m\u001b[0m\u001b[0;34m\u001b[0m\u001b[0m\n",
            "\u001b[0;32mzmq/backend/cython/socket.pyx\u001b[0m in \u001b[0;36mzmq.backend.cython.socket.Socket.recv\u001b[0;34m()\u001b[0m\n",
            "\u001b[0;32mzmq/backend/cython/socket.pyx\u001b[0m in \u001b[0;36mzmq.backend.cython.socket.Socket.recv\u001b[0;34m()\u001b[0m\n",
            "\u001b[0;32mzmq/backend/cython/socket.pyx\u001b[0m in \u001b[0;36mzmq.backend.cython.socket._recv_copy\u001b[0;34m()\u001b[0m\n",
            "\u001b[0;32m/usr/local/lib/python3.7/dist-packages/zmq/backend/cython/checkrc.pxd\u001b[0m in \u001b[0;36mzmq.backend.cython.checkrc._check_rc\u001b[0;34m()\u001b[0m\n",
            "\u001b[0;31mKeyboardInterrupt\u001b[0m: ",
            "\nDuring handling of the above exception, another exception occurred:\n",
            "\u001b[0;31mKeyboardInterrupt\u001b[0m                         Traceback (most recent call last)",
            "\u001b[0;32m<ipython-input-25-f1370e6df63f>\u001b[0m in \u001b[0;36m<module>\u001b[0;34m()\u001b[0m\n\u001b[1;32m      1\u001b[0m \u001b[0;32mfrom\u001b[0m \u001b[0mgoogle\u001b[0m\u001b[0;34m.\u001b[0m\u001b[0mcolab\u001b[0m \u001b[0;32mimport\u001b[0m \u001b[0mauth\u001b[0m\u001b[0;34m\u001b[0m\u001b[0;34m\u001b[0m\u001b[0m\n\u001b[0;32m----> 2\u001b[0;31m \u001b[0mauth\u001b[0m\u001b[0;34m.\u001b[0m\u001b[0mauthenticate_user\u001b[0m\u001b[0;34m(\u001b[0m\u001b[0;34m)\u001b[0m\u001b[0;34m\u001b[0m\u001b[0;34m\u001b[0m\u001b[0m\n\u001b[0m\u001b[1;32m      3\u001b[0m \u001b[0;34m\u001b[0m\u001b[0m\n\u001b[1;32m      4\u001b[0m \u001b[0;32mimport\u001b[0m \u001b[0mgspread\u001b[0m\u001b[0;34m\u001b[0m\u001b[0;34m\u001b[0m\u001b[0m\n\u001b[1;32m      5\u001b[0m \u001b[0;32mfrom\u001b[0m \u001b[0moauth2client\u001b[0m\u001b[0;34m.\u001b[0m\u001b[0mclient\u001b[0m \u001b[0;32mimport\u001b[0m \u001b[0mGoogleCredentials\u001b[0m\u001b[0;34m\u001b[0m\u001b[0;34m\u001b[0m\u001b[0m\n",
            "\u001b[0;32m/usr/local/lib/python3.7/dist-packages/google/colab/auth.py\u001b[0m in \u001b[0;36mauthenticate_user\u001b[0;34m(clear_output)\u001b[0m\n\u001b[1;32m    151\u001b[0m     \u001b[0mcontext_manager\u001b[0m \u001b[0;34m=\u001b[0m \u001b[0m_output\u001b[0m\u001b[0;34m.\u001b[0m\u001b[0mtemporary\u001b[0m \u001b[0;32mif\u001b[0m \u001b[0mclear_output\u001b[0m \u001b[0;32melse\u001b[0m \u001b[0m_noop\u001b[0m\u001b[0;34m\u001b[0m\u001b[0;34m\u001b[0m\u001b[0m\n\u001b[1;32m    152\u001b[0m     \u001b[0;32mwith\u001b[0m \u001b[0mcontext_manager\u001b[0m\u001b[0;34m(\u001b[0m\u001b[0;34m)\u001b[0m\u001b[0;34m:\u001b[0m\u001b[0;34m\u001b[0m\u001b[0;34m\u001b[0m\u001b[0m\n\u001b[0;32m--> 153\u001b[0;31m       \u001b[0m_gcloud_login\u001b[0m\u001b[0;34m(\u001b[0m\u001b[0;34m)\u001b[0m\u001b[0;34m\u001b[0m\u001b[0;34m\u001b[0m\u001b[0m\n\u001b[0m\u001b[1;32m    154\u001b[0m     \u001b[0m_install_adc\u001b[0m\u001b[0;34m(\u001b[0m\u001b[0;34m)\u001b[0m\u001b[0;34m\u001b[0m\u001b[0;34m\u001b[0m\u001b[0m\n\u001b[1;32m    155\u001b[0m     \u001b[0mcolab_tpu_addr\u001b[0m \u001b[0;34m=\u001b[0m \u001b[0m_os\u001b[0m\u001b[0;34m.\u001b[0m\u001b[0menviron\u001b[0m\u001b[0;34m.\u001b[0m\u001b[0mget\u001b[0m\u001b[0;34m(\u001b[0m\u001b[0;34m'COLAB_TPU_ADDR'\u001b[0m\u001b[0;34m,\u001b[0m \u001b[0;34m''\u001b[0m\u001b[0;34m)\u001b[0m\u001b[0;34m\u001b[0m\u001b[0;34m\u001b[0m\u001b[0m\n",
            "\u001b[0;32m/usr/local/lib/python3.7/dist-packages/google/colab/auth.py\u001b[0m in \u001b[0;36m_gcloud_login\u001b[0;34m()\u001b[0m\n\u001b[1;32m     93\u001b[0m     \u001b[0;31m# https://github.com/jupyter/notebook/issues/3159\u001b[0m\u001b[0;34m\u001b[0m\u001b[0;34m\u001b[0m\u001b[0;34m\u001b[0m\u001b[0m\n\u001b[1;32m     94\u001b[0m     \u001b[0mprompt\u001b[0m \u001b[0;34m=\u001b[0m \u001b[0mprompt\u001b[0m\u001b[0;34m.\u001b[0m\u001b[0mrstrip\u001b[0m\u001b[0;34m(\u001b[0m\u001b[0;34m)\u001b[0m\u001b[0;34m\u001b[0m\u001b[0;34m\u001b[0m\u001b[0m\n\u001b[0;32m---> 95\u001b[0;31m     \u001b[0mcode\u001b[0m \u001b[0;34m=\u001b[0m \u001b[0mget_code\u001b[0m\u001b[0;34m(\u001b[0m\u001b[0mprompt\u001b[0m \u001b[0;34m+\u001b[0m \u001b[0;34m' '\u001b[0m\u001b[0;34m)\u001b[0m\u001b[0;34m\u001b[0m\u001b[0;34m\u001b[0m\u001b[0m\n\u001b[0m\u001b[1;32m     96\u001b[0m     \u001b[0mgcloud_process\u001b[0m\u001b[0;34m.\u001b[0m\u001b[0mcommunicate\u001b[0m\u001b[0;34m(\u001b[0m\u001b[0mcode\u001b[0m\u001b[0;34m.\u001b[0m\u001b[0mstrip\u001b[0m\u001b[0;34m(\u001b[0m\u001b[0;34m)\u001b[0m\u001b[0;34m)\u001b[0m\u001b[0;34m\u001b[0m\u001b[0;34m\u001b[0m\u001b[0m\n\u001b[1;32m     97\u001b[0m   \u001b[0;32mfinally\u001b[0m\u001b[0;34m:\u001b[0m\u001b[0;34m\u001b[0m\u001b[0;34m\u001b[0m\u001b[0m\n",
            "\u001b[0;32m/usr/local/lib/python3.7/dist-packages/ipykernel/kernelbase.py\u001b[0m in \u001b[0;36mraw_input\u001b[0;34m(self, prompt)\u001b[0m\n\u001b[1;32m    702\u001b[0m             \u001b[0mself\u001b[0m\u001b[0;34m.\u001b[0m\u001b[0m_parent_ident\u001b[0m\u001b[0;34m,\u001b[0m\u001b[0;34m\u001b[0m\u001b[0;34m\u001b[0m\u001b[0m\n\u001b[1;32m    703\u001b[0m             \u001b[0mself\u001b[0m\u001b[0;34m.\u001b[0m\u001b[0m_parent_header\u001b[0m\u001b[0;34m,\u001b[0m\u001b[0;34m\u001b[0m\u001b[0;34m\u001b[0m\u001b[0m\n\u001b[0;32m--> 704\u001b[0;31m             \u001b[0mpassword\u001b[0m\u001b[0;34m=\u001b[0m\u001b[0;32mFalse\u001b[0m\u001b[0;34m,\u001b[0m\u001b[0;34m\u001b[0m\u001b[0;34m\u001b[0m\u001b[0m\n\u001b[0m\u001b[1;32m    705\u001b[0m         )\n\u001b[1;32m    706\u001b[0m \u001b[0;34m\u001b[0m\u001b[0m\n",
            "\u001b[0;32m/usr/local/lib/python3.7/dist-packages/ipykernel/kernelbase.py\u001b[0m in \u001b[0;36m_input_request\u001b[0;34m(self, prompt, ident, parent, password)\u001b[0m\n\u001b[1;32m    732\u001b[0m             \u001b[0;32mexcept\u001b[0m \u001b[0mKeyboardInterrupt\u001b[0m\u001b[0;34m:\u001b[0m\u001b[0;34m\u001b[0m\u001b[0;34m\u001b[0m\u001b[0m\n\u001b[1;32m    733\u001b[0m                 \u001b[0;31m# re-raise KeyboardInterrupt, to truncate traceback\u001b[0m\u001b[0;34m\u001b[0m\u001b[0;34m\u001b[0m\u001b[0;34m\u001b[0m\u001b[0m\n\u001b[0;32m--> 734\u001b[0;31m                 \u001b[0;32mraise\u001b[0m \u001b[0mKeyboardInterrupt\u001b[0m\u001b[0;34m\u001b[0m\u001b[0;34m\u001b[0m\u001b[0m\n\u001b[0m\u001b[1;32m    735\u001b[0m             \u001b[0;32melse\u001b[0m\u001b[0;34m:\u001b[0m\u001b[0;34m\u001b[0m\u001b[0;34m\u001b[0m\u001b[0m\n\u001b[1;32m    736\u001b[0m                 \u001b[0;32mbreak\u001b[0m\u001b[0;34m\u001b[0m\u001b[0;34m\u001b[0m\u001b[0m\n",
            "\u001b[0;31mKeyboardInterrupt\u001b[0m: "
          ]
        }
      ]
    },
    {
      "cell_type": "code",
      "metadata": {
        "id": "6zYhaWrjXqxf"
      },
      "source": [
        "df.median()"
      ],
      "execution_count": null,
      "outputs": []
    },
    {
      "cell_type": "markdown",
      "metadata": {
        "id": "S64tLQHY16jh"
      },
      "source": [
        "Upload your file here (request.csv)"
      ]
    },
    {
      "cell_type": "code",
      "metadata": {
        "id": "ww-HcdVwuwEM"
      },
      "source": [
        "from google.colab import files\n",
        "uploaded = files.upload()"
      ],
      "execution_count": null,
      "outputs": []
    },
    {
      "cell_type": "code",
      "metadata": {
        "id": "O1cgxOH25NmQ"
      },
      "source": [
        "!ls -l"
      ],
      "execution_count": null,
      "outputs": []
    },
    {
      "cell_type": "code",
      "metadata": {
        "id": "w4bssBq6QngE"
      },
      "source": [
        "import pandas as pd\n",
        "df = pd.read_csv(\"automl-tables_notebooks_census_income.csv\")\n",
        "df.head(2)"
      ],
      "execution_count": null,
      "outputs": []
    },
    {
      "cell_type": "code",
      "metadata": {
        "id": "rUqRwiunUDxP"
      },
      "source": [
        "import pandas as pd\n",
        "df = pd.read_csv(\"https://raw.githubusercontent.com/noahgift/sugar/master/data/education_sugar_cdc_2003.csv\")\n",
        "df.head()"
      ],
      "execution_count": null,
      "outputs": []
    },
    {
      "cell_type": "code",
      "metadata": {
        "id": "X97XO2e8_reX",
        "colab": {
          "base_uri": "https://localhost:8080/",
          "height": 171
        },
        "outputId": "e9cb5064-e892-4b66-ab6f-17259a8cbea7"
      },
      "source": [
        "df.describe()"
      ],
      "execution_count": null,
      "outputs": [
        {
          "output_type": "execute_result",
          "data": {
            "text/html": [
              "<div>\n",
              "<style scoped>\n",
              "    .dataframe tbody tr th:only-of-type {\n",
              "        vertical-align: middle;\n",
              "    }\n",
              "\n",
              "    .dataframe tbody tr th {\n",
              "        vertical-align: top;\n",
              "    }\n",
              "\n",
              "    .dataframe thead th {\n",
              "        text-align: right;\n",
              "    }\n",
              "</style>\n",
              "<table border=\"1\" class=\"dataframe\">\n",
              "  <thead>\n",
              "    <tr style=\"text-align: right;\">\n",
              "      <th></th>\n",
              "      <th>State</th>\n",
              "      <th>Employed</th>\n",
              "      <th>Not employed</th>\n",
              "      <th>Retired</th>\n",
              "      <th>&lt;High school</th>\n",
              "      <th>High school</th>\n",
              "      <th>Some college</th>\n",
              "      <th>College graduate</th>\n",
              "    </tr>\n",
              "  </thead>\n",
              "  <tbody>\n",
              "    <tr>\n",
              "      <th>count</th>\n",
              "      <td>24</td>\n",
              "      <td>24</td>\n",
              "      <td>24</td>\n",
              "      <td>24</td>\n",
              "      <td>24</td>\n",
              "      <td>24</td>\n",
              "      <td>24</td>\n",
              "      <td>24</td>\n",
              "    </tr>\n",
              "    <tr>\n",
              "      <th>unique</th>\n",
              "      <td>24</td>\n",
              "      <td>24</td>\n",
              "      <td>24</td>\n",
              "      <td>24</td>\n",
              "      <td>24</td>\n",
              "      <td>24</td>\n",
              "      <td>23</td>\n",
              "      <td>24</td>\n",
              "    </tr>\n",
              "    <tr>\n",
              "      <th>top</th>\n",
              "      <td>New York</td>\n",
              "      <td>18.9 (17.1–20.9)</td>\n",
              "      <td>47.7 (44.7–50.8)</td>\n",
              "      <td>20.8 (18.7–23.1)</td>\n",
              "      <td>35.5 (27.5–44.5)</td>\n",
              "      <td>29.5 (25.4–33.9)</td>\n",
              "      <td>24.2 (21.0–27.8)</td>\n",
              "      <td>14.6 (11.6–18.3)</td>\n",
              "    </tr>\n",
              "    <tr>\n",
              "      <th>freq</th>\n",
              "      <td>1</td>\n",
              "      <td>1</td>\n",
              "      <td>1</td>\n",
              "      <td>1</td>\n",
              "      <td>1</td>\n",
              "      <td>1</td>\n",
              "      <td>2</td>\n",
              "      <td>1</td>\n",
              "    </tr>\n",
              "  </tbody>\n",
              "</table>\n",
              "</div>"
            ],
            "text/plain": [
              "           State          Employed  ...      Some college  College graduate\n",
              "count         24                24  ...                24                24\n",
              "unique        24                24  ...                23                24\n",
              "top     New York  18.9 (17.1–20.9)  ...  24.2 (21.0–27.8)  14.6 (11.6–18.3)\n",
              "freq           1                 1  ...                 2                 1\n",
              "\n",
              "[4 rows x 8 columns]"
            ]
          },
          "metadata": {
            "tags": []
          },
          "execution_count": 28
        }
      ]
    },
    {
      "cell_type": "markdown",
      "metadata": {
        "id": "0kmgxW7Sxa6j"
      },
      "source": [
        "##### Forms in Colab"
      ]
    },
    {
      "cell_type": "code",
      "metadata": {
        "id": "ZqHMr_brxdkA"
      },
      "source": [
        "Use_Python = False #@param [\"False\", \"True\"] {type:\"raw\"}"
      ],
      "execution_count": null,
      "outputs": []
    },
    {
      "cell_type": "code",
      "metadata": {
        "id": "d1z9fz5_x_bf",
        "colab": {
          "base_uri": "https://localhost:8080/"
        },
        "outputId": "70b54aa1-9618-410c-c032-87702c2e02e3"
      },
      "source": [
        "print(f\"You select it is {Use_Python} you use Python\")"
      ],
      "execution_count": null,
      "outputs": [
        {
          "output_type": "stream",
          "text": [
            "You select it is True you use Python\n"
          ],
          "name": "stdout"
        }
      ]
    },
    {
      "cell_type": "markdown",
      "metadata": {
        "id": "kn-P-e_hjvK5"
      },
      "source": [
        "#### Python executable\n",
        "\n",
        "Can run scripts, REPL and even run python statements with -c flag and semicolon to string together multiple statements"
      ]
    },
    {
      "cell_type": "code",
      "metadata": {
        "id": "p2aDegQxjegv",
        "colab": {
          "base_uri": "https://localhost:8080/",
          "height": 35
        },
        "outputId": "5935e352-e9b0-459f-95fc-72d7e13aa4ed"
      },
      "source": [
        "!python -c \"import os;print(os.listdir())\""
      ],
      "execution_count": null,
      "outputs": [
        {
          "output_type": "stream",
          "text": [
            "['.config', 'magic_stuff.py', 'adc.json', 'sample_data']\n"
          ],
          "name": "stdout"
        }
      ]
    },
    {
      "cell_type": "code",
      "metadata": {
        "id": "WaXhDeUM_49R",
        "colab": {
          "base_uri": "https://localhost:8080/",
          "height": 87
        },
        "outputId": "a7e93d6a-c415-4674-ae77-38313512825e"
      },
      "source": [
        "!ls -l"
      ],
      "execution_count": null,
      "outputs": [
        {
          "output_type": "stream",
          "text": [
            "total 12\n",
            "-rw-r--r-- 1 root root 2610 Jan  8 13:34 adc.json\n",
            "-rw-r--r-- 1 root root  407 Jan  8 13:27 magic_stuff.py\n",
            "drwxr-xr-x 1 root root 4096 Dec 18 16:52 sample_data\n"
          ],
          "name": "stdout"
        }
      ]
    },
    {
      "cell_type": "code",
      "metadata": {
        "id": "58zCAVUC_8JP"
      },
      "source": [
        "!pip install -q boto3"
      ],
      "execution_count": null,
      "outputs": []
    },
    {
      "cell_type": "code",
      "metadata": {
        "id": "egHxTJUGNYCA",
        "colab": {
          "base_uri": "https://localhost:8080/",
          "height": 69
        },
        "outputId": "2f00f806-4451-4874-f08c-e925457ad576"
      },
      "source": [
        "#this is how you capture input to a program\n",
        "import sys;sys.argv"
      ],
      "execution_count": null,
      "outputs": [
        {
          "output_type": "execute_result",
          "data": {
            "text/plain": [
              "['/usr/local/lib/python3.6/dist-packages/ipykernel_launcher.py',\n",
              " '-f',\n",
              " '/root/.local/share/jupyter/runtime/kernel-10c490d0-6434-4157-b5c7-7cb291feb224.json']"
            ]
          },
          "metadata": {
            "tags": []
          },
          "execution_count": 35
        }
      ]
    },
    {
      "cell_type": "markdown",
      "metadata": {
        "id": "6HJtGuiKUYFU"
      },
      "source": [
        "### Introductory Concepts\n",
        "*  **Procedural Statements**\n",
        "*  Strings and String Formatting\n",
        "*  Numbers and Arithmetic Operations\n",
        "*  Data Structures\n",
        "\n"
      ]
    },
    {
      "cell_type": "markdown",
      "metadata": {
        "id": "BwmnQEziVQ9k"
      },
      "source": [
        " #### Procedural Statements\n",
        " Procedural statements are literally statements that  can be issued one line at a time.  Below are types of procedural statements.  These statements can be run in:\n",
        " * Jupyter Notebook\n",
        " * IPython shell\n",
        " * Python interpreter\n",
        " * Python scripts"
      ]
    },
    {
      "cell_type": "markdown",
      "metadata": {
        "id": "yTePE3imVqfP"
      },
      "source": [
        "**Printing**"
      ]
    },
    {
      "cell_type": "code",
      "metadata": {
        "id": "n1r0n2V3Vs70",
        "colab": {
          "base_uri": "https://localhost:8080/"
        },
        "outputId": "5b4e9b3e-fa9b-46a4-9296-78df42bcd186"
      },
      "source": [
        "print(\"Hello world\")"
      ],
      "execution_count": 26,
      "outputs": [
        {
          "output_type": "stream",
          "name": "stdout",
          "text": [
            "Hello world\n"
          ]
        }
      ]
    },
    {
      "cell_type": "markdown",
      "metadata": {
        "id": "8nUjNnApV6cC"
      },
      "source": [
        "**Create Variable and Use Variable**"
      ]
    },
    {
      "cell_type": "code",
      "metadata": {
        "id": "mhjO2LpSVx9V",
        "colab": {
          "base_uri": "https://localhost:8080/",
          "height": 35
        },
        "outputId": "dca0b982-4449-42f7-d58c-56c2722dc779"
      },
      "source": [
        "variable = \"armbar\"\n",
        "variable"
      ],
      "execution_count": 27,
      "outputs": [
        {
          "output_type": "execute_result",
          "data": {
            "application/vnd.google.colaboratory.intrinsic+json": {
              "type": "string"
            },
            "text/plain": [
              "'armbar'"
            ]
          },
          "metadata": {},
          "execution_count": 27
        }
      ]
    },
    {
      "cell_type": "markdown",
      "metadata": {
        "id": "H004n8R-WDGF"
      },
      "source": [
        "**Multiple procedural statements**"
      ]
    },
    {
      "cell_type": "code",
      "metadata": {
        "id": "xrZWZEFmV_bN",
        "colab": {
          "base_uri": "https://localhost:8080/"
        },
        "outputId": "d3ff1870-c0c5-4c28-8f72-60d2d97bf74d"
      },
      "source": [
        "attack_one = \"kimura\"\n",
        "attack_two = \"arm triangle\"\n",
        "print(\"In Brazilian Jiu Jitsu a common attack is a:\", attack_one)\n",
        "print(\"Another common attack is a:\", attack_two)"
      ],
      "execution_count": 28,
      "outputs": [
        {
          "output_type": "stream",
          "name": "stdout",
          "text": [
            "In Brazilian Jiu Jitsu a common attack is a: kimura\n",
            "Another common attack is a: arm triangle\n"
          ]
        }
      ]
    },
    {
      "cell_type": "markdown",
      "metadata": {
        "id": "6IiZ6RnLWKsq"
      },
      "source": [
        "**Adding Numbers**"
      ]
    },
    {
      "cell_type": "code",
      "metadata": {
        "id": "h049FhlhWPRm",
        "colab": {
          "base_uri": "https://localhost:8080/"
        },
        "outputId": "fb090ffc-b7a4-48f5-e960-6ddafadea623"
      },
      "source": [
        "1+1"
      ],
      "execution_count": 29,
      "outputs": [
        {
          "output_type": "execute_result",
          "data": {
            "text/plain": [
              "2"
            ]
          },
          "metadata": {},
          "execution_count": 29
        }
      ]
    },
    {
      "cell_type": "markdown",
      "metadata": {
        "id": "mlszsN87WmcO"
      },
      "source": [
        "**Adding Phrases**"
      ]
    },
    {
      "cell_type": "code",
      "metadata": {
        "id": "FaE5GnCaWgbI",
        "colab": {
          "base_uri": "https://localhost:8080/",
          "height": 35
        },
        "outputId": "c0efb9e9-ed4a-4b51-b056-6a8ea308c2d5"
      },
      "source": [
        "\"arm\" + \" bar\"+\" 4\"+\" morestuff \" + \"lemon\""
      ],
      "execution_count": 30,
      "outputs": [
        {
          "output_type": "execute_result",
          "data": {
            "application/vnd.google.colaboratory.intrinsic+json": {
              "type": "string"
            },
            "text/plain": [
              "'arm bar 4 morestuff lemon'"
            ]
          },
          "metadata": {},
          "execution_count": 30
        }
      ]
    },
    {
      "cell_type": "markdown",
      "metadata": {
        "id": "WSrfrIO1XYts"
      },
      "source": [
        "**Complex statements**\n",
        "\n",
        "More complex statements can be created that use data structures like the belts variable, which is a list."
      ]
    },
    {
      "cell_type": "code",
      "metadata": {
        "id": "0nf0W0e3XSQS",
        "colab": {
          "base_uri": "https://localhost:8080/"
        },
        "outputId": "7da92522-e522-4e32-99af-b695cccaea98"
      },
      "source": [
        "belts = [\"white\", \"blue\", \"purple\", \"brown\", \"black\"]\n",
        "for belt in belts:\n",
        "    if \"black\" in belt:\n",
        "        print(\"The belt I want to be is:\", belt)\n",
        "    else:\n",
        "        print(\"This is not the belt I want to end up at:\", belt)"
      ],
      "execution_count": 31,
      "outputs": [
        {
          "output_type": "stream",
          "name": "stdout",
          "text": [
            "This is not the belt I want to end up at: white\n",
            "This is not the belt I want to end up at: blue\n",
            "This is not the belt I want to end up at: purple\n",
            "This is not the belt I want to end up at: brown\n",
            "The belt I want to be is: black\n"
          ]
        }
      ]
    },
    {
      "cell_type": "markdown",
      "metadata": {
        "id": "UYzPEDtnXlbx"
      },
      "source": [
        "#### Strings and String Formatting\n",
        "\n",
        "Strings are a sequence of characters and they are often programmatically formatted.  Almost all Python programs have strings because they can be used to send messages to users who use the program.  When creating strings there are few core concepts to understand:\n",
        "\n",
        "* Strings can be create with the single, double and triple/double quotes\n",
        "* Strings are can be formatted\n",
        "* One complication of strings is they can be encoded in several formats including unicode\n",
        "* Many methods are available to operate on strings.  In an editor or IPython shell you can see these methods by tab completion: \n",
        "```\n",
        "basic_string.\n",
        "            capitalize()   format()       islower()      lower()        rpartition()   title()         \n",
        "            casefold()     format_map()   isnumeric()    lstrip()       rsplit()       translate()     \n",
        "            center()       index()        isprintable()  maketrans()    rstrip()       upper()         \n",
        "            count()        isalnum()      isspace()      partition()    split()        zfill()         \n",
        "            encode()       isalpha()      istitle()      replace()      splitlines()                  \n",
        "            endswith()     isdecimal()    isupper()      rfind()        startswith()                  \n",
        "            expandtabs()   isdigit()      join()         rindex()       strip()                       \n",
        "            find()         isidentifier() ljust()        rjust()        swapcase()        \n",
        "```"
      ]
    },
    {
      "cell_type": "code",
      "metadata": {
        "id": "eHJX2ZFiXbFC"
      },
      "source": [
        "my_string = \"this is a string I am using this time\"\n",
        "#my_string.split()\n",
        "#my_string.upper()\n",
        "#my_string.title()\n",
        "#my_string.count(\"this\")"
      ],
      "execution_count": 32,
      "outputs": []
    },
    {
      "cell_type": "code",
      "metadata": {
        "id": "j1uXZqdXZdHf",
        "colab": {
          "base_uri": "https://localhost:8080/",
          "height": 35
        },
        "outputId": "4f680628-7ae9-48ef-e77b-455087773c25"
      },
      "source": [
        "my_string.title()"
      ],
      "execution_count": 33,
      "outputs": [
        {
          "output_type": "execute_result",
          "data": {
            "application/vnd.google.colaboratory.intrinsic+json": {
              "type": "string"
            },
            "text/plain": [
              "'This Is A String I Am Using This Time'"
            ]
          },
          "metadata": {},
          "execution_count": 33
        }
      ]
    },
    {
      "cell_type": "code",
      "metadata": {
        "id": "DMBeWJv5claa",
        "colab": {
          "base_uri": "https://localhost:8080/",
          "height": 35
        },
        "outputId": "5dd61442-016c-4f77-8a1e-6f21efc8ab05"
      },
      "source": [
        "my_string.capitalize()"
      ],
      "execution_count": 34,
      "outputs": [
        {
          "output_type": "execute_result",
          "data": {
            "application/vnd.google.colaboratory.intrinsic+json": {
              "type": "string"
            },
            "text/plain": [
              "'This is a string i am using this time'"
            ]
          },
          "metadata": {},
          "execution_count": 34
        }
      ]
    },
    {
      "cell_type": "code",
      "metadata": {
        "id": "-qK6mSH0xxCY",
        "colab": {
          "base_uri": "https://localhost:8080/"
        },
        "outputId": "e814ce4d-a144-4310-ec2e-8b3d89cdf2fd"
      },
      "source": [
        "my_string.isnumeric()\n",
        "\n"
      ],
      "execution_count": 35,
      "outputs": [
        {
          "output_type": "execute_result",
          "data": {
            "text/plain": [
              "False"
            ]
          },
          "metadata": {},
          "execution_count": 35
        }
      ]
    },
    {
      "cell_type": "code",
      "metadata": {
        "id": "jKa_uTtpwwtm",
        "colab": {
          "base_uri": "https://localhost:8080/"
        },
        "outputId": "5ee16b7f-cc80-4b0f-f257-8db4af02e381"
      },
      "source": [
        "print(my_string)\n",
        "var2 = my_string.swapcase()\n",
        "print(var2)\n",
        "print(var2.swapcase())"
      ],
      "execution_count": 36,
      "outputs": [
        {
          "output_type": "stream",
          "name": "stdout",
          "text": [
            "this is a string I am using this time\n",
            "THIS IS A STRING i AM USING THIS TIME\n",
            "this is a string I am using this time\n"
          ]
        }
      ]
    },
    {
      "cell_type": "markdown",
      "metadata": {
        "id": "8afQjS25YDvQ"
      },
      "source": [
        "**Basic String**"
      ]
    },
    {
      "cell_type": "code",
      "metadata": {
        "id": "yfhfvyIpX-pc"
      },
      "source": [
        "basic_string = \"Brazilian Jiu Jitsu\""
      ],
      "execution_count": 37,
      "outputs": []
    },
    {
      "cell_type": "markdown",
      "metadata": {
        "id": "GMYqc-cKYJlL"
      },
      "source": [
        "**Splitting String**\n",
        "\n",
        "Turn a string in a list by splitting on spaces, or some other thing"
      ]
    },
    {
      "cell_type": "code",
      "metadata": {
        "id": "eJaoPyTzYGSk",
        "colab": {
          "base_uri": "https://localhost:8080/"
        },
        "outputId": "4f18d15a-1a39-4094-9b19-6b1622dd3ed8"
      },
      "source": [
        "#split on spaces (default)\n",
        "basic_string.split()"
      ],
      "execution_count": 38,
      "outputs": [
        {
          "output_type": "execute_result",
          "data": {
            "text/plain": [
              "['Brazilian', 'Jiu', 'Jitsu']"
            ]
          },
          "metadata": {},
          "execution_count": 38
        }
      ]
    },
    {
      "cell_type": "code",
      "metadata": {
        "id": "jt4NbwL15MBl",
        "colab": {
          "base_uri": "https://localhost:8080/"
        },
        "outputId": "c4340b12-4c73-4b06-e177-a2c9695d3768"
      },
      "source": [
        "result = basic_string.split()\n",
        "len(result)"
      ],
      "execution_count": 39,
      "outputs": [
        {
          "output_type": "execute_result",
          "data": {
            "text/plain": [
              "3"
            ]
          },
          "metadata": {},
          "execution_count": 39
        }
      ]
    },
    {
      "cell_type": "code",
      "metadata": {
        "id": "z94Ajl0NZXBP",
        "colab": {
          "base_uri": "https://localhost:8080/"
        },
        "outputId": "8ce0446e-b399-465d-bf29-f6621f7e6ae0"
      },
      "source": [
        "#split on hyphen\n",
        "string_with_hyphen = \"Brazilian-Jiu-Jitsu\"\n",
        "string_with_hyphen.split(\"-\")"
      ],
      "execution_count": 40,
      "outputs": [
        {
          "output_type": "execute_result",
          "data": {
            "text/plain": [
              "['Brazilian', 'Jiu', 'Jitsu']"
            ]
          },
          "metadata": {},
          "execution_count": 40
        }
      ]
    },
    {
      "cell_type": "code",
      "metadata": {
        "id": "EsPKeSMA5dnP",
        "colab": {
          "base_uri": "https://localhost:8080/"
        },
        "outputId": "da3387ad-f73e-4d0d-f135-27b09961e585"
      },
      "source": [
        "#split on comma\n",
        "string_with_hyphen = \"Brazilian,Jiu,Jitsu\"\n",
        "string_with_hyphen.split(\",\")"
      ],
      "execution_count": 41,
      "outputs": [
        {
          "output_type": "execute_result",
          "data": {
            "text/plain": [
              "['Brazilian', 'Jiu', 'Jitsu']"
            ]
          },
          "metadata": {},
          "execution_count": 41
        }
      ]
    },
    {
      "cell_type": "markdown",
      "metadata": {
        "id": "Ti9hySuGZbbX"
      },
      "source": [
        "**All Capital**\n",
        "\n",
        "Turn a string into all Capital Letter"
      ]
    },
    {
      "cell_type": "code",
      "metadata": {
        "id": "y2NEPM8PZZT_",
        "colab": {
          "base_uri": "https://localhost:8080/",
          "height": 35
        },
        "outputId": "c683ebbe-c6e6-40a6-cdd7-76693cc97304"
      },
      "source": [
        "basic_string.capitalize()"
      ],
      "execution_count": 42,
      "outputs": [
        {
          "output_type": "execute_result",
          "data": {
            "application/vnd.google.colaboratory.intrinsic+json": {
              "type": "string"
            },
            "text/plain": [
              "'Brazilian jiu jitsu'"
            ]
          },
          "metadata": {},
          "execution_count": 42
        }
      ]
    },
    {
      "cell_type": "markdown",
      "metadata": {
        "id": "ZlifO6c4Zk5W"
      },
      "source": [
        "**Slicing Strings**\n",
        "\n",
        "Strings can be referenced by length and sliced"
      ]
    },
    {
      "cell_type": "code",
      "metadata": {
        "id": "tBXlXz0TZh1Q",
        "colab": {
          "base_uri": "https://localhost:8080/",
          "height": 35
        },
        "outputId": "cc8b0b83-9462-48e8-d170-1f56be7d05b5"
      },
      "source": [
        "#Get the last character\n",
        "basic_string[-1:]"
      ],
      "execution_count": 43,
      "outputs": [
        {
          "output_type": "execute_result",
          "data": {
            "application/vnd.google.colaboratory.intrinsic+json": {
              "type": "string"
            },
            "text/plain": [
              "'u'"
            ]
          },
          "metadata": {},
          "execution_count": 43
        }
      ]
    },
    {
      "cell_type": "code",
      "metadata": {
        "id": "dvNrJzBNyvZz",
        "colab": {
          "base_uri": "https://localhost:8080/"
        },
        "outputId": "a30f8838-a19a-4a19-cf8f-8850ceaa9e92"
      },
      "source": [
        "len(basic_string[2:])"
      ],
      "execution_count": 44,
      "outputs": [
        {
          "output_type": "execute_result",
          "data": {
            "text/plain": [
              "17"
            ]
          },
          "metadata": {},
          "execution_count": 44
        }
      ]
    },
    {
      "cell_type": "code",
      "metadata": {
        "id": "EhgFdziaZtPv",
        "colab": {
          "base_uri": "https://localhost:8080/",
          "height": 35
        },
        "outputId": "209c64d6-ae19-4b8a-eced-26e6c188ea23"
      },
      "source": [
        "#Get length of string\n",
        "len(basic_string)"
      ],
      "execution_count": null,
      "outputs": [
        {
          "output_type": "execute_result",
          "data": {
            "text/plain": [
              "19"
            ]
          },
          "metadata": {
            "tags": []
          },
          "execution_count": 62
        }
      ]
    },
    {
      "cell_type": "code",
      "metadata": {
        "id": "neXScIYHD75C",
        "colab": {
          "base_uri": "https://localhost:8080/",
          "height": 35
        },
        "outputId": "55e768a8-7a0d-42f9-df9e-4a780eb07897"
      },
      "source": [
        "basic_string[-18:]"
      ],
      "execution_count": null,
      "outputs": [
        {
          "output_type": "execute_result",
          "data": {
            "text/plain": [
              "'razilian Jiu Jitsu'"
            ]
          },
          "metadata": {
            "tags": []
          },
          "execution_count": 63
        }
      ]
    },
    {
      "cell_type": "markdown",
      "metadata": {
        "id": "lxvtolozZy1f"
      },
      "source": [
        "**Strings Can Be Added Together**"
      ]
    },
    {
      "cell_type": "code",
      "metadata": {
        "id": "eIVgqMsRZvNQ",
        "colab": {
          "base_uri": "https://localhost:8080/",
          "height": 35
        },
        "outputId": "9f76f4ab-2610-4955-fab4-d041206ea5d6"
      },
      "source": [
        "basic_string + \" is my favorite Martial Art\""
      ],
      "execution_count": null,
      "outputs": [
        {
          "output_type": "execute_result",
          "data": {
            "text/plain": [
              "'Brazilian Jiu Jitsu is my favorite Martial Art'"
            ]
          },
          "metadata": {
            "tags": []
          },
          "execution_count": 64
        }
      ]
    },
    {
      "cell_type": "code",
      "metadata": {
        "id": "tdga91RBzMb_",
        "colab": {
          "base_uri": "https://localhost:8080/",
          "height": 35
        },
        "outputId": "9d3dfc12-cb4e-4b59-fec6-47f92afd6d08"
      },
      "source": [
        "items = [\"-\",1,2,3]\n",
        "for item in items:\n",
        "  basic_string += str(item)\n",
        "basic_string"
      ],
      "execution_count": null,
      "outputs": [
        {
          "output_type": "execute_result",
          "data": {
            "text/plain": [
              "'Brazilian Jiu Jitsu-123'"
            ]
          },
          "metadata": {
            "tags": []
          },
          "execution_count": 65
        }
      ]
    },
    {
      "cell_type": "code",
      "metadata": {
        "id": "trK8HQJ1Mx6E",
        "colab": {
          "base_uri": "https://localhost:8080/",
          "height": 35
        },
        "outputId": "780fa121-265e-4e58-dd76-a085e4928f8f"
      },
      "source": [
        "\"this is a string format: %s\" % \"wow\""
      ],
      "execution_count": null,
      "outputs": [
        {
          "output_type": "execute_result",
          "data": {
            "text/plain": [
              "'this is a string format: wow'"
            ]
          },
          "metadata": {
            "tags": []
          },
          "execution_count": 66
        }
      ]
    },
    {
      "cell_type": "markdown",
      "metadata": {
        "id": "nNYxshNHZ6O8"
      },
      "source": [
        "**F-Strings Can Be Formatted in More Complex Ways**\n",
        "\n",
        "One of the best ways to format a string in modern Python 3 is to use f-strings"
      ]
    },
    {
      "cell_type": "code",
      "metadata": {
        "id": "u_NAcD5sZ1l4",
        "colab": {
          "base_uri": "https://localhost:8080/",
          "height": 35
        },
        "outputId": "642376d6-16ca-44b7-9199-c747ed772f31"
      },
      "source": [
        "f'I love practicing my favorite Martial Art, {basic_string}'"
      ],
      "execution_count": null,
      "outputs": [
        {
          "output_type": "execute_result",
          "data": {
            "text/plain": [
              "'I love practicing my favorite Martial Art, Brazilian Jiu Jitsu-123'"
            ]
          },
          "metadata": {
            "tags": []
          },
          "execution_count": 67
        }
      ]
    },
    {
      "cell_type": "markdown",
      "metadata": {
        "id": "wlpMuwdmbui0"
      },
      "source": [
        "**Strings Can Use Triple Quotes to Wrap**"
      ]
    },
    {
      "cell_type": "code",
      "metadata": {
        "id": "YWmNAWzqbT4k",
        "colab": {
          "base_uri": "https://localhost:8080/",
          "height": 55
        },
        "outputId": "82d3355c-d766-4d48-a65d-36965122b9be"
      },
      "source": [
        "f\"\"\"\n",
        "This phrase is multiple sentenances long.\n",
        "There phrase can be formatted like simpler sentances,\n",
        "for example, I can still talk about my favorite Martial Art {basic_string}\n",
        "\"\"\""
      ],
      "execution_count": null,
      "outputs": [
        {
          "output_type": "execute_result",
          "data": {
            "text/plain": [
              "'\\nThis phrase is multiple sentenances long.\\nThere phrase can be formatted like simpler sentances,\\nfor example, I can still talk about my favorite Martial Art Brazilian Jiu Jitsu-123\\n'"
            ]
          },
          "metadata": {
            "tags": []
          },
          "execution_count": 69
        }
      ]
    },
    {
      "cell_type": "markdown",
      "metadata": {
        "id": "mBuMTMQWb239"
      },
      "source": [
        "**Line Breaks Can Be Removed with Replace**\n",
        "\n",
        "The last long line contained line breaks, which are the **\\n** character, and they can be removed by using the replace method"
      ]
    },
    {
      "cell_type": "code",
      "metadata": {
        "id": "K8AVf6Pibz3H",
        "colab": {
          "base_uri": "https://localhost:8080/",
          "height": 55
        },
        "outputId": "3c43e6fd-35cb-4c48-ff65-5cf1e1e1ef59"
      },
      "source": [
        "f\"\"\"\n",
        "This phrase is multiple sentenances long.\n",
        "There phrase can be formatted like simpler sentances,\n",
        "for example, I can still talk about my favorite Martial Art {basic_string}\n",
        "\"\"\".replace(\"\\n\", \" \")"
      ],
      "execution_count": null,
      "outputs": [
        {
          "output_type": "execute_result",
          "data": {
            "text/plain": [
              "' This phrase is multiple sentenances long. There phrase can be formatted like simpler sentances, for example, I can still talk about my favorite Martial Art Brazilian Jiu Jitsu-123 '"
            ]
          },
          "metadata": {
            "tags": []
          },
          "execution_count": 70
        }
      ]
    },
    {
      "cell_type": "markdown",
      "metadata": {
        "id": "eRmipgSocZ9i"
      },
      "source": [
        "#### Numbers and Arithmetic Operations\n",
        "\n",
        "Python is also a built-in calculator. Without installing any additional libraries it can do many simple and complex arithmetic operations."
      ]
    },
    {
      "cell_type": "markdown",
      "metadata": {
        "id": "xd6LxgEXcgP8"
      },
      "source": [
        "**Adding and Subtracting Numbers**"
      ]
    },
    {
      "cell_type": "code",
      "metadata": {
        "id": "mKwZGBoMb6_A",
        "colab": {
          "base_uri": "https://localhost:8080/",
          "height": 35
        },
        "outputId": "791121d7-546b-4635-a65b-c4c15bab01e8"
      },
      "source": [
        "steps = (1+1)-1\n",
        "print(f\"Two Steps Forward:  One Step Back = {steps}\")"
      ],
      "execution_count": null,
      "outputs": [
        {
          "output_type": "stream",
          "text": [
            "Two Steps Forward:  One Step Back = 1\n"
          ],
          "name": "stdout"
        }
      ]
    },
    {
      "cell_type": "markdown",
      "metadata": {
        "id": "nMKS0ZYkdjvp"
      },
      "source": [
        "**Multiplication with Decimals**\n",
        "\n",
        "Can use float type to solve decimal problems"
      ]
    },
    {
      "cell_type": "code",
      "metadata": {
        "id": "Xgrw0LDucinh",
        "colab": {
          "base_uri": "https://localhost:8080/",
          "height": 35
        },
        "outputId": "2072365a-bcaa-4ca9-bc34-d8f88c1b37a2"
      },
      "source": [
        "body_fat_percentage = 0.10\n",
        "weight = 200\n",
        "fat_total = body_fat_percentage * weight\n",
        "print(f\"I weight 200lbs, and {fat_total}lbs of that is fat\")"
      ],
      "execution_count": null,
      "outputs": [
        {
          "output_type": "stream",
          "text": [
            "I weight 200lbs, and 20.0lbs of that is fat\n"
          ],
          "name": "stdout"
        }
      ]
    },
    {
      "cell_type": "markdown",
      "metadata": {
        "id": "gjMkBnuxiCQW"
      },
      "source": [
        "Can also use Decimal Library to set precision and deal with repeating decimal\n"
      ]
    },
    {
      "cell_type": "code",
      "metadata": {
        "id": "GN_PYDuDiBHg",
        "colab": {
          "base_uri": "https://localhost:8080/",
          "height": 35
        },
        "outputId": "39f1669e-0b12-4473-9143-29cd3a4ac33c"
      },
      "source": [
        "from decimal import (Decimal, getcontext)\n",
        "\n",
        "getcontext().prec = 5\n",
        "Decimal(1)/Decimal(3)\n",
        "\n"
      ],
      "execution_count": null,
      "outputs": [
        {
          "output_type": "execute_result",
          "data": {
            "text/plain": [
              "Decimal('0.33333')"
            ]
          },
          "metadata": {
            "tags": []
          },
          "execution_count": 76
        }
      ]
    },
    {
      "cell_type": "markdown",
      "metadata": {
        "id": "f1_B6OUrdxlU"
      },
      "source": [
        "**Using Exponents**\n",
        "\n",
        "Using the Python math library it is straightforward to call 2 to the 3rd power"
      ]
    },
    {
      "cell_type": "code",
      "metadata": {
        "id": "Q2oC1HVhdmB9",
        "colab": {
          "base_uri": "https://localhost:8080/",
          "height": 35
        },
        "outputId": "d522b640-d8e1-45d8-e2ec-8d5df5a5c4c7"
      },
      "source": [
        "import math\n",
        "math.pow(2,4)"
      ],
      "execution_count": null,
      "outputs": [
        {
          "output_type": "execute_result",
          "data": {
            "text/plain": [
              "16.0"
            ]
          },
          "metadata": {
            "tags": []
          },
          "execution_count": 77
        }
      ]
    },
    {
      "cell_type": "markdown",
      "metadata": {
        "id": "nkPcDry7jWt-"
      },
      "source": [
        "Can also use built in exponent operator to accomplish same thing"
      ]
    },
    {
      "cell_type": "code",
      "metadata": {
        "id": "9aV-R-DljXEj",
        "colab": {
          "base_uri": "https://localhost:8080/",
          "height": 35
        },
        "outputId": "75f8176c-2f8c-4154-8fb7-ab21270c5f18"
      },
      "source": [
        "2**4"
      ],
      "execution_count": null,
      "outputs": [
        {
          "output_type": "execute_result",
          "data": {
            "text/plain": [
              "16"
            ]
          },
          "metadata": {
            "tags": []
          },
          "execution_count": 79
        }
      ]
    },
    {
      "cell_type": "code",
      "metadata": {
        "id": "EOHXLdCU8R6i",
        "colab": {
          "base_uri": "https://localhost:8080/",
          "height": 35
        },
        "outputId": "21408286-186c-4400-eb58-f6b8a958409a"
      },
      "source": [
        "2**4"
      ],
      "execution_count": null,
      "outputs": [
        {
          "output_type": "execute_result",
          "data": {
            "text/plain": [
              "16"
            ]
          },
          "metadata": {
            "tags": []
          },
          "execution_count": 80
        }
      ]
    },
    {
      "cell_type": "markdown",
      "metadata": {
        "id": "aYA_mApaI-Y7"
      },
      "source": [
        "this is regular multiplication"
      ]
    },
    {
      "cell_type": "code",
      "metadata": {
        "id": "6A_Vdvl_I8lg",
        "colab": {
          "base_uri": "https://localhost:8080/",
          "height": 35
        },
        "outputId": "2c50d568-3a66-4e30-bd82-a68d98a84045"
      },
      "source": [
        "2*3"
      ],
      "execution_count": null,
      "outputs": [
        {
          "output_type": "execute_result",
          "data": {
            "text/plain": [
              "6"
            ]
          },
          "metadata": {
            "tags": []
          },
          "execution_count": 81
        }
      ]
    },
    {
      "cell_type": "markdown",
      "metadata": {
        "id": "P6gOf9qtd6Nt"
      },
      "source": [
        "**Converting Between different numerical types**\n",
        "\n",
        "There are many numerical forms to be aware of in Python.\n",
        "A couple of the most common are:\n",
        "\n",
        "* Integers\n",
        "* Floats"
      ]
    },
    {
      "cell_type": "code",
      "metadata": {
        "id": "XCWg7yX-d210",
        "colab": {
          "base_uri": "https://localhost:8080/",
          "height": 35
        },
        "outputId": "558f25c5-a077-4b0d-f22f-591ae821e570"
      },
      "source": [
        "number = 100\n",
        "num_type = type(number).__name__\n",
        "print(f\"{number} is type [{num_type}]\")"
      ],
      "execution_count": null,
      "outputs": [
        {
          "output_type": "stream",
          "text": [
            "100 is type [int]\n"
          ],
          "name": "stdout"
        }
      ]
    },
    {
      "cell_type": "code",
      "metadata": {
        "id": "iW2f1Ik7eAzd",
        "colab": {
          "base_uri": "https://localhost:8080/",
          "height": 35
        },
        "outputId": "8ebeebca-b548-4ad2-b09b-db3007332426"
      },
      "source": [
        "number = float(100)\n",
        "num_type = type(number).__name__\n",
        "print(f\"{number} is type [{num_type}]\")"
      ],
      "execution_count": null,
      "outputs": [
        {
          "output_type": "stream",
          "text": [
            "100.0 is type [float]\n"
          ],
          "name": "stdout"
        }
      ]
    },
    {
      "cell_type": "code",
      "metadata": {
        "id": "zrlLg22C6KbR",
        "colab": {
          "base_uri": "https://localhost:8080/",
          "height": 35
        },
        "outputId": "55fcd6b3-9516-45e7-abb3-fab587c26d78"
      },
      "source": [
        "num2 = 100.20\n",
        "type(num2)"
      ],
      "execution_count": null,
      "outputs": [
        {
          "output_type": "execute_result",
          "data": {
            "text/plain": [
              "float"
            ]
          },
          "metadata": {
            "tags": []
          },
          "execution_count": 86
        }
      ]
    },
    {
      "cell_type": "code",
      "metadata": {
        "id": "5dnSfoXZFQuP"
      },
      "source": [
        "class Foo:pass\n",
        "f = Foo()"
      ],
      "execution_count": null,
      "outputs": []
    },
    {
      "cell_type": "code",
      "metadata": {
        "id": "44v5W-HdFU4J",
        "colab": {
          "base_uri": "https://localhost:8080/",
          "height": 35
        },
        "outputId": "ec912a86-418a-4469-c0e2-d986fd841d8c"
      },
      "source": [
        "type(f)"
      ],
      "execution_count": null,
      "outputs": [
        {
          "output_type": "execute_result",
          "data": {
            "text/plain": [
              "__main__.Foo"
            ]
          },
          "metadata": {
            "tags": []
          },
          "execution_count": 88
        }
      ]
    },
    {
      "cell_type": "markdown",
      "metadata": {
        "id": "MrrFXb99gQ1Z"
      },
      "source": [
        "**Numbers can also be rounded**\n",
        "\n",
        "Python Built in round "
      ]
    },
    {
      "cell_type": "code",
      "metadata": {
        "id": "Wjtnfol2iZDL",
        "colab": {
          "base_uri": "https://localhost:8080/",
          "height": 35
        },
        "outputId": "3e93a076-310b-437b-8457-0b408fa98800"
      },
      "source": [
        "too_many_decimals = 1.912345897\n",
        "round(too_many_decimals, 6)\n",
        "#get more info\n",
        "#round?"
      ],
      "execution_count": null,
      "outputs": [
        {
          "output_type": "execute_result",
          "data": {
            "text/plain": [
              "1.912346"
            ]
          },
          "metadata": {
            "tags": []
          },
          "execution_count": 89
        }
      ]
    },
    {
      "cell_type": "markdown",
      "metadata": {
        "id": "SuJDUTLFWUJz"
      },
      "source": [
        "Numpy round"
      ]
    },
    {
      "cell_type": "code",
      "metadata": {
        "id": "PEabuAGGWXIF",
        "colab": {
          "base_uri": "https://localhost:8080/",
          "height": 35
        },
        "outputId": "a64e2566-4af9-4797-a3c9-2e90815ecbd4"
      },
      "source": [
        "import numpy as np\n",
        "np.round(too_many_decimals, 6)"
      ],
      "execution_count": null,
      "outputs": [
        {
          "output_type": "execute_result",
          "data": {
            "text/plain": [
              "1.912346"
            ]
          },
          "metadata": {
            "tags": []
          },
          "execution_count": 90
        }
      ]
    },
    {
      "cell_type": "markdown",
      "metadata": {
        "id": "X3aHIe6qW8ab"
      },
      "source": [
        "Pandas round"
      ]
    },
    {
      "cell_type": "code",
      "metadata": {
        "id": "J-x_sjiZW-gB",
        "colab": {
          "base_uri": "https://localhost:8080/",
          "height": 79
        },
        "outputId": "8db357f2-253d-4dca-8cc6-07b75a5d0481"
      },
      "source": [
        "import pandas as pd\n",
        "df = pd.DataFrame([too_many_decimals], columns=[\"A\"], index=[\"first\"])\n",
        "df.round(2)\n"
      ],
      "execution_count": null,
      "outputs": [
        {
          "output_type": "execute_result",
          "data": {
            "text/html": [
              "<div>\n",
              "<style scoped>\n",
              "    .dataframe tbody tr th:only-of-type {\n",
              "        vertical-align: middle;\n",
              "    }\n",
              "\n",
              "    .dataframe tbody tr th {\n",
              "        vertical-align: top;\n",
              "    }\n",
              "\n",
              "    .dataframe thead th {\n",
              "        text-align: right;\n",
              "    }\n",
              "</style>\n",
              "<table border=\"1\" class=\"dataframe\">\n",
              "  <thead>\n",
              "    <tr style=\"text-align: right;\">\n",
              "      <th></th>\n",
              "      <th>A</th>\n",
              "    </tr>\n",
              "  </thead>\n",
              "  <tbody>\n",
              "    <tr>\n",
              "      <th>first</th>\n",
              "      <td>1.91</td>\n",
              "    </tr>\n",
              "  </tbody>\n",
              "</table>\n",
              "</div>"
            ],
            "text/plain": [
              "          A\n",
              "first  1.91"
            ]
          },
          "metadata": {
            "tags": []
          },
          "execution_count": 92
        }
      ]
    },
    {
      "cell_type": "markdown",
      "metadata": {
        "id": "elnncfa0XtOt"
      },
      "source": [
        "Simple benchmark of all three (**Python**, **numpy** and **Pandas** round):   using **%timeit**\n",
        "\n",
        "*Depending on what is getting rounded (i.e. a very large DataFrame, performance may very, so knowing how to benchmark performance is important with round) *\n"
      ]
    },
    {
      "cell_type": "code",
      "metadata": {
        "id": "Yr1SXcF5Xw-L",
        "colab": {
          "base_uri": "https://localhost:8080/",
          "height": 156
        },
        "outputId": "9731ad35-030a-4af8-9ba1-97962a003928"
      },
      "source": [
        "print(\"built in Python Round\")\n",
        "%timeit round(too_many_decimals, 2)\n",
        "\n",
        "print(\"numpy round\")\n",
        "%timeit np.round(too_many_decimals, 2)\n",
        "\n",
        "print(\"Pandas DataFrame round\")\n",
        "%timeit df.round(2)"
      ],
      "execution_count": null,
      "outputs": [
        {
          "output_type": "stream",
          "text": [
            "built in Python Round\n",
            "The slowest run took 28.19 times longer than the fastest. This could mean that an intermediate result is being cached.\n",
            "1000000 loops, best of 3: 431 ns per loop\n",
            "numpy round\n",
            "The slowest run took 9.56 times longer than the fastest. This could mean that an intermediate result is being cached.\n",
            "100000 loops, best of 3: 8.26 µs per loop\n",
            "Pandas DataFrame round\n",
            "1000 loops, best of 3: 891 µs per loop\n"
          ],
          "name": "stdout"
        }
      ]
    },
    {
      "cell_type": "markdown",
      "metadata": {
        "id": "CuJ2OPSZiewO"
      },
      "source": [
        "### Presentation: Lists and Dictionaries\n",
        "Python has a couple of core Data Structures that are used very frequently\n",
        "\n",
        "* Lists\n",
        "* Dictionaries\n",
        "\n",
        "Dictionaries and lists are the real workhorses of Python, but there are also other Data Structers like tuples, sets, Counters, etc, that are worth exploring too."
      ]
    },
    {
      "cell_type": "markdown",
      "metadata": {
        "id": "rYrg60aboNTc"
      },
      "source": [
        "#### Python Dictionaries\n",
        "\n",
        "The workhorse of Python datastructures"
      ]
    },
    {
      "cell_type": "markdown",
      "metadata": {
        "id": "TJgbX5wb7yHD"
      },
      "source": [
        "##### Creating Python Dictionaries\n",
        "\n",
        "Creating Python Dictionaries can be done with* brackets {}*"
      ]
    },
    {
      "cell_type": "code",
      "metadata": {
        "id": "lPJxAjedZGGg"
      },
      "source": [
        "#bad_dictionary = {[2]:\"one\"}"
      ],
      "execution_count": null,
      "outputs": []
    },
    {
      "cell_type": "code",
      "metadata": {
        "id": "VtlC50y3GLam"
      },
      "source": [
        "new_dictionary = {\"one\":1}"
      ],
      "execution_count": null,
      "outputs": []
    },
    {
      "cell_type": "code",
      "metadata": {
        "id": "IEi6YTS2iZj7",
        "colab": {
          "base_uri": "https://localhost:8080/",
          "height": 87
        },
        "outputId": "d5a9b5ea-d0b4-4a0f-a52e-12249f6c0efa"
      },
      "source": [
        "submissions = {\"armbar\": \"upper_body\", \n",
        "               \"arm_triangle\": \"upper_body\", \n",
        "               \"heel_hook\": \"lower_body\", \n",
        "               \"knee_bar\": \"lower_body\"}\n",
        "#type(submissions)\n",
        "#submissions.items?\n",
        "submissions"
      ],
      "execution_count": null,
      "outputs": [
        {
          "output_type": "execute_result",
          "data": {
            "text/plain": [
              "{'arm_triangle': 'upper_body',\n",
              " 'armbar': 'upper_body',\n",
              " 'heel_hook': 'lower_body',\n",
              " 'knee_bar': 'lower_body'}"
            ]
          },
          "metadata": {
            "tags": []
          },
          "execution_count": 99
        }
      ]
    },
    {
      "cell_type": "code",
      "metadata": {
        "id": "4guKbqgfink8",
        "colab": {
          "base_uri": "https://localhost:8080/",
          "height": 35
        },
        "outputId": "5d88965e-2595-4f8a-9a1f-244c638ea34d"
      },
      "source": [
        "new_dict =dict(upper_body=\"lower_body\")\n",
        "new_dict"
      ],
      "execution_count": null,
      "outputs": [
        {
          "output_type": "execute_result",
          "data": {
            "text/plain": [
              "{'upper_body': 'lower_body'}"
            ]
          },
          "metadata": {
            "tags": []
          },
          "execution_count": 100
        }
      ]
    },
    {
      "cell_type": "markdown",
      "metadata": {
        "id": "TjNRS-YOjYxw"
      },
      "source": [
        "##### Using Python Dictionaries\n",
        "A common dictionary usage pattern is to *iterate* on a dictionary by using the items method. In the example below the key and the value are printed:"
      ]
    },
    {
      "cell_type": "code",
      "metadata": {
        "id": "oE1bzsiFGaOj"
      },
      "source": [
        "#submissions.items?\n"
      ],
      "execution_count": null,
      "outputs": []
    },
    {
      "cell_type": "code",
      "metadata": {
        "id": "kW1UR_yMi5bl",
        "colab": {
          "base_uri": "https://localhost:8080/",
          "height": 87
        },
        "outputId": "9f979027-7a76-4313-9690-56073000f6af"
      },
      "source": [
        "for submission, body_part in submissions.items():\n",
        "    print(f\"The {submission} is an attack on the {body_part}\")"
      ],
      "execution_count": null,
      "outputs": [
        {
          "output_type": "stream",
          "text": [
            "The armbar is an attack on the upper_body\n",
            "The arm_triangle is an attack on the upper_body\n",
            "The heel_hook is an attack on the lower_body\n",
            "The knee_bar is an attack on the lower_body\n"
          ],
          "name": "stdout"
        }
      ]
    },
    {
      "cell_type": "markdown",
      "metadata": {
        "id": "5cue3xbzjfhF"
      },
      "source": [
        "Dictionaries can also be used to *filter*.  In the example below, only the submission attacks on the lower body are displayed:"
      ]
    },
    {
      "cell_type": "code",
      "metadata": {
        "id": "c00Rxx84HAES",
        "colab": {
          "base_uri": "https://localhost:8080/",
          "height": 87
        },
        "outputId": "1d5a0eb3-3c3f-4cbd-8419-a9add42f1969"
      },
      "source": [
        "for _, body_parts in submissions.items():\n",
        "  print(body_parts)"
      ],
      "execution_count": null,
      "outputs": [
        {
          "output_type": "stream",
          "text": [
            "upper_body\n",
            "upper_body\n",
            "lower_body\n",
            "lower_body\n"
          ],
          "name": "stdout"
        }
      ]
    },
    {
      "cell_type": "code",
      "metadata": {
        "id": "buIoEo_Ajc1-",
        "colab": {
          "base_uri": "https://localhost:8080/",
          "height": 69
        },
        "outputId": "de59f87e-6976-4f92-fb7b-16fa709b85ec"
      },
      "source": [
        "print(f\"These are lower_body submission attacks in Brazilian Jiu Jitsu:\")\n",
        "for submission, body_part in submissions.items():\n",
        "    if body_part == \"lower_body\":\n",
        "        print(submission)"
      ],
      "execution_count": null,
      "outputs": [
        {
          "output_type": "stream",
          "text": [
            "These are lower_body submission attacks in Brazilian Jiu Jitsu:\n",
            "heel_hook\n",
            "knee_bar\n"
          ],
          "name": "stdout"
        }
      ]
    },
    {
      "cell_type": "markdown",
      "metadata": {
        "id": "9jkR5VTHjsc2"
      },
      "source": [
        "Dictionary keys and values can also be selected with built in *keys() * and *values()* methods"
      ]
    },
    {
      "cell_type": "code",
      "metadata": {
        "id": "SviUgzEfjjD-",
        "colab": {
          "base_uri": "https://localhost:8080/",
          "height": 52
        },
        "outputId": "d0edb393-56d1-47da-9e2c-ae60e7e3251a"
      },
      "source": [
        "print(f\"These are keys: {submissions.keys()}\")\n",
        "print(f\"These are values: {submissions.values()}\")"
      ],
      "execution_count": null,
      "outputs": [
        {
          "output_type": "stream",
          "text": [
            "These are keys: dict_keys(['armbar', 'arm_triangle', 'heel_hook', 'knee_bar'])\n",
            "These are values: dict_values(['upper_body', 'upper_body', 'lower_body', 'lower_body'])\n"
          ],
          "name": "stdout"
        }
      ]
    },
    {
      "cell_type": "markdown",
      "metadata": {
        "id": "sgPM6V_slmoy"
      },
      "source": [
        "Key lookup is very performant, and one of the most common ways to use a dictionary."
      ]
    },
    {
      "cell_type": "code",
      "metadata": {
        "id": "lOn5k2kRmk4K",
        "colab": {
          "base_uri": "https://localhost:8080/",
          "height": 35
        },
        "outputId": "13599809-1f69-44dc-91fe-f7767db3f275"
      },
      "source": [
        "if \"armbar\" in submissions:\n",
        "  print(\"found key\")\n",
        "  "
      ],
      "execution_count": null,
      "outputs": [
        {
          "output_type": "stream",
          "text": [
            "found key\n"
          ],
          "name": "stdout"
        }
      ]
    },
    {
      "cell_type": "code",
      "metadata": {
        "id": "ORI3ZxbqntAG",
        "colab": {
          "base_uri": "https://localhost:8080/",
          "height": 69
        },
        "outputId": "1b6f8d74-f698-472f-95f5-cae8946d6d45"
      },
      "source": [
        "print(\"timing key membership\")\n",
        "%timeit if \"armbar\" in submissions: pass "
      ],
      "execution_count": null,
      "outputs": [
        {
          "output_type": "stream",
          "text": [
            "timing key membership\n",
            "The slowest run took 43.71 times longer than the fastest. This could mean that an intermediate result is being cached.\n",
            "10000000 loops, best of 3: 32.1 ns per loop\n"
          ],
          "name": "stdout"
        }
      ]
    },
    {
      "cell_type": "markdown",
      "metadata": {
        "id": "IyHkox1Rj66y"
      },
      "source": [
        "#### Python Lists\n",
        "\n",
        "Lists are also very commonly used in Python. They allow for sequential collections. Lists can hold dictionaries, just as dictionaries can hold lists."
      ]
    },
    {
      "cell_type": "markdown",
      "metadata": {
        "id": "Xo7IMK567yHQ"
      },
      "source": [
        "##### Creating Lists\n",
        "\n",
        "One way to create lists is with *[] syntax*"
      ]
    },
    {
      "cell_type": "code",
      "metadata": {
        "id": "MI-S0FStj1o4"
      },
      "source": [
        "list_of_bjj_positions = [\"mount\", \"full-guard\", \"half-guard\", \n",
        "                         \"turtle\", \"side-control\", \"rear-mount\", \n",
        "                         \"knee-on-belly\", \"north-south\", \"open-guard\"]"
      ],
      "execution_count": null,
      "outputs": []
    },
    {
      "cell_type": "markdown",
      "metadata": {
        "id": "WUgrRDDsoobr"
      },
      "source": [
        "Another method os creating lists is with built in *list()* method\n"
      ]
    },
    {
      "cell_type": "code",
      "metadata": {
        "id": "o-3IP2FOw9yi",
        "colab": {
          "base_uri": "https://localhost:8080/",
          "height": 34
        },
        "outputId": "d3ce0d86-aa4f-4282-e36d-2d555d0a57ce"
      },
      "source": [
        "bjj_dominant_positions = list()\n",
        "bjj_dominant_positions.append(\"side-control\")\n",
        "bjj_dominant_positions.append(\"mount\")\n",
        "bjj_dominant_positions\n"
      ],
      "execution_count": null,
      "outputs": [
        {
          "output_type": "execute_result",
          "data": {
            "text/plain": [
              "['side-control', 'mount']"
            ]
          },
          "metadata": {
            "tags": []
          },
          "execution_count": 91
        }
      ]
    },
    {
      "cell_type": "markdown",
      "metadata": {
        "id": "i1gjso964T1T"
      },
      "source": [
        "Yet another way, very performant way to create lists is to use list comprehension syntax"
      ]
    },
    {
      "cell_type": "code",
      "metadata": {
        "id": "QeQt8XD_4T-D",
        "colab": {
          "base_uri": "https://localhost:8080/",
          "height": 35
        },
        "outputId": "f96978bc-a7df-416f-879a-d2dd0f4fffe3"
      },
      "source": [
        "guards = \"full, half, open\"\n",
        "guard_list = [f\"{guard}-guard\" for guard in guards.split(\",\")]\n",
        "guard_list\n"
      ],
      "execution_count": null,
      "outputs": [
        {
          "output_type": "execute_result",
          "data": {
            "text/plain": [
              "['full-guard', ' half-guard', ' open-guard']"
            ]
          },
          "metadata": {
            "tags": []
          },
          "execution_count": 108
        }
      ]
    },
    {
      "cell_type": "markdown",
      "metadata": {
        "id": "CBDIYoFB7yHS"
      },
      "source": [
        "##### Using Lists\n",
        "\n",
        "For loops are one of the simplist ways to use a list."
      ]
    },
    {
      "cell_type": "code",
      "metadata": {
        "id": "EoFWVpKYj94o",
        "colab": {
          "base_uri": "https://localhost:8080/",
          "height": 35
        },
        "outputId": "51f1213c-d174-49b3-ab20-6b84f6547efc"
      },
      "source": [
        "for position in list_of_bjj_positions:\n",
        "    if \"open\" in position: #explore on your own \"guard\"\n",
        "        print(position)"
      ],
      "execution_count": null,
      "outputs": [
        {
          "output_type": "stream",
          "text": [
            "open-guard\n"
          ],
          "name": "stdout"
        }
      ]
    },
    {
      "cell_type": "markdown",
      "metadata": {
        "id": "YAMxQJobkCy8"
      },
      "source": [
        "Lists can also be used to select elements by slicing."
      ]
    },
    {
      "cell_type": "code",
      "metadata": {
        "id": "Zi6PKsRIkAl_",
        "colab": {
          "base_uri": "https://localhost:8080/",
          "height": 69
        },
        "outputId": "b871af52-3a5d-4dac-e58c-257d8ec4be4d"
      },
      "source": [
        "print(f'First position: {list_of_bjj_positions[:1]}')\n",
        "print(f'Last position: {list_of_bjj_positions[-1:]}')\n",
        "print(f'First three positions: {list_of_bjj_positions[0:3]}')"
      ],
      "execution_count": null,
      "outputs": [
        {
          "output_type": "stream",
          "text": [
            "First position: ['mount']\n",
            "Last position: ['open-guard']\n",
            "First three positions: ['mount', 'full-guard', 'half-guard']\n"
          ],
          "name": "stdout"
        }
      ]
    },
    {
      "cell_type": "markdown",
      "metadata": {
        "id": "XgxwgI1I7Ex3"
      },
      "source": [
        "Lists can also be used to unpack powerful, succinct statements when used with built-in functions like zip.\n"
      ]
    },
    {
      "cell_type": "code",
      "metadata": {
        "id": "nkaMbTx77ddw",
        "colab": {
          "base_uri": "https://localhost:8080/",
          "height": 87
        },
        "outputId": "6befa394-dd61-488d-e158-a4448de18ae7"
      },
      "source": [
        "bjj_position_matrix = [\n",
        "    [\"dominant\", \"top-mount\", \"back-mount\", \"side-control\"],\n",
        "    [\"neutral\", \"open-guard\", \"full-guard\", \"standing\"],\n",
        "    [\"weak\", \"turtle\", \"bottom-back-mount\", \"bottom-mount\"]\n",
        "]\n",
        "list(zip(*bjj_position_matrix))"
      ],
      "execution_count": null,
      "outputs": [
        {
          "output_type": "execute_result",
          "data": {
            "text/plain": [
              "[('dominant', 'neutral', 'weak'),\n",
              " ('top-mount', 'open-guard', 'turtle'),\n",
              " ('back-mount', 'full-guard', 'bottom-back-mount'),\n",
              " ('side-control', 'standing', 'bottom-mount')]"
            ]
          },
          "metadata": {
            "tags": []
          },
          "execution_count": 113
        }
      ]
    },
    {
      "cell_type": "code",
      "metadata": {
        "id": "9ZA34gKvCi39"
      },
      "source": [
        "zip?"
      ],
      "execution_count": null,
      "outputs": []
    },
    {
      "cell_type": "markdown",
      "metadata": {
        "id": "YXalviiD7yHZ"
      },
      "source": [
        "#### Python Sets\n",
        "\n",
        "Sets are unordered unique collections"
      ]
    },
    {
      "cell_type": "markdown",
      "metadata": {
        "id": "1y5ahhJ699Gp"
      },
      "source": [
        "##### Creating Python Sets\n",
        "\n",
        "Sets can be created by using built-in *sets()* method\n"
      ]
    },
    {
      "cell_type": "code",
      "metadata": {
        "id": "ZT4d5Dxw9V4X",
        "colab": {
          "base_uri": "https://localhost:8080/",
          "height": 52
        },
        "outputId": "f90fe0ae-903a-4b35-f8f5-f1fce876706e"
      },
      "source": [
        "unique_attacks = set((\"armbar\",\"armbar\", \"armbar\", \"kimura\", \"kimura\", \"heel hook\"))\n",
        "print(type(unique_attacks))\n",
        "unique_attacks"
      ],
      "execution_count": null,
      "outputs": [
        {
          "output_type": "stream",
          "text": [
            "<class 'set'>\n"
          ],
          "name": "stdout"
        },
        {
          "output_type": "execute_result",
          "data": {
            "text/plain": [
              "{'armbar', 'heel hook', 'kimura'}"
            ]
          },
          "metadata": {
            "tags": []
          },
          "execution_count": 114
        }
      ]
    },
    {
      "cell_type": "markdown",
      "metadata": {
        "id": "Kj_JgH317yHZ"
      },
      "source": [
        "##### Using Sets\n",
        "\n",
        "One of the most powerful ways to use sets is to find the differences between to collections"
      ]
    },
    {
      "cell_type": "code",
      "metadata": {
        "id": "zbAUyYgk_c0s",
        "colab": {
          "base_uri": "https://localhost:8080/",
          "height": 35
        },
        "outputId": "16c32465-a804-4a77-f03c-7c2e5d9c8a8c"
      },
      "source": [
        "attacks_set_one = set((\"armbar\", \"kimura\", \"heal-hook\"))\n",
        "attacks_set_two = set((\"toe-hold\", \"knee-bar\", \"heal-hook\"))\n",
        "unique_set_one_attacks = attacks_set_one - attacks_set_two\n",
        "print(f\"Unique Set One Attacks {unique_set_one_attacks}\")\n"
      ],
      "execution_count": null,
      "outputs": [
        {
          "output_type": "stream",
          "text": [
            "Unique Set One Attacks {'armbar', 'kimura'}\n"
          ],
          "name": "stdout"
        }
      ]
    },
    {
      "cell_type": "markdown",
      "metadata": {
        "id": "s0y9Fv9eL1OR"
      },
      "source": [
        "### Exercise: Write a dictionary with a mutable key."
      ]
    },
    {
      "cell_type": "markdown",
      "metadata": {
        "id": "-PugvjDSL2zD"
      },
      "source": [
        ""
      ]
    },
    {
      "cell_type": "code",
      "metadata": {
        "id": "AM6pTL2yvlSk"
      },
      "source": [
        "good = {'one': 'two'}"
      ],
      "execution_count": null,
      "outputs": []
    },
    {
      "cell_type": "code",
      "metadata": {
        "id": "X-SkxPxPv4gZ",
        "colab": {
          "base_uri": "https://localhost:8080/",
          "height": 184
        },
        "outputId": "e0449e9c-aee3-4311-dee6-57935203571c"
      },
      "source": [
        "# A list is mutable\n",
        "var = [\"two\"]\n",
        "badone = {var:\"two\"}"
      ],
      "execution_count": null,
      "outputs": [
        {
          "output_type": "error",
          "ename": "TypeError",
          "evalue": "ignored",
          "traceback": [
            "\u001b[0;31m---------------------------------------------------------------------------\u001b[0m",
            "\u001b[0;31mTypeError\u001b[0m                                 Traceback (most recent call last)",
            "\u001b[0;32m<ipython-input-118-a867e485e813>\u001b[0m in \u001b[0;36m<module>\u001b[0;34m()\u001b[0m\n\u001b[1;32m      1\u001b[0m \u001b[0mvar\u001b[0m \u001b[0;34m=\u001b[0m \u001b[0;34m[\u001b[0m\u001b[0;34m\"two\"\u001b[0m\u001b[0;34m]\u001b[0m\u001b[0;34m\u001b[0m\u001b[0;34m\u001b[0m\u001b[0m\n\u001b[0;32m----> 2\u001b[0;31m \u001b[0mbadone\u001b[0m \u001b[0;34m=\u001b[0m \u001b[0;34m{\u001b[0m\u001b[0mvar\u001b[0m\u001b[0;34m:\u001b[0m\u001b[0;34m\"two\"\u001b[0m\u001b[0;34m}\u001b[0m\u001b[0;34m\u001b[0m\u001b[0;34m\u001b[0m\u001b[0m\n\u001b[0m",
            "\u001b[0;31mTypeError\u001b[0m: unhashable type: 'list'"
          ]
        }
      ]
    },
    {
      "cell_type": "code",
      "metadata": {
        "id": "T0fbKGMfwIlj"
      },
      "source": [
        "# be careful about mutating objects\n",
        "class Foo:pass\n",
        "foo = Foo()\n",
        "\n",
        "bad_two = {foo: \"two\"}"
      ],
      "execution_count": null,
      "outputs": []
    },
    {
      "cell_type": "code",
      "metadata": {
        "id": "hqdmW3A7wcsY"
      },
      "source": [
        "# try out why this is weird\n",
        "\n",
        "def fun():pass\n",
        "bad_three = {fun:\"one\"}\n"
      ],
      "execution_count": null,
      "outputs": []
    },
    {
      "cell_type": "markdown",
      "metadata": {
        "id": "1wY-GUQc3te-"
      },
      "source": [
        "### Presentation: Functions, Lazy Expressions, Async and Concurrency\n",
        "\n",
        "* [Read related material covered in Chapter 1 (Functions Section) of Pragmatic AI](https://www.safaribooksonline.com/library/view/pragmatic-ai-an/9780134863924/ch01.xhtml#ch01lev1sub17)\n",
        "\n",
        "* [Watch video section 2:  Writing and Applying Functions](https://www.safaribooksonline.com/videos/essential-machine-learning/9780135261118/9780135261118-EMLA_01_02_00) \n",
        "\n",
        "*  **Writing Functions**\n",
        "*  Function arguments:  positional, keyword\n",
        "*  Functional Currying:  Passing uncalled functions\n",
        "*  Functions that Yield\n",
        "*  Decorators:  Functions that wrap other functions\n",
        "*  Making Classes Behave Like Functions\n",
        "*  Applying a Function to a Pandas DataFrame\n",
        "*  Writing Lambdas"
      ]
    },
    {
      "cell_type": "markdown",
      "metadata": {
        "id": "8JmjS2H33wZP"
      },
      "source": [
        "#### Writing Functions\n",
        "Learning to write a function is the most fundamental skill to learn in Python.  With a basic mastery of functions, it is possible to have an almost full command of the language."
      ]
    },
    {
      "cell_type": "markdown",
      "metadata": {
        "id": "RHsiAy8N3-Cj"
      },
      "source": [
        "**Simple function**\n",
        "\n",
        "The simplest functions just return a value."
      ]
    },
    {
      "cell_type": "code",
      "metadata": {
        "id": "YsngH1Yh4BP3"
      },
      "source": [
        "def favorite_martial_art():\n",
        "    return \"bjj\""
      ],
      "execution_count": null,
      "outputs": []
    },
    {
      "cell_type": "code",
      "metadata": {
        "id": "hL4eSHZjjLSe",
        "colab": {
          "base_uri": "https://localhost:8080/",
          "height": 52
        },
        "outputId": "a134b36d-92de-4eb3-d0e6-1a76055f70e8"
      },
      "source": [
        "print(favorite_martial_art())\n",
        "# This is the same output\n",
        "my_variable = \"bjj\"\n",
        "my_variable"
      ],
      "execution_count": null,
      "outputs": [
        {
          "output_type": "stream",
          "text": [
            "bjj\n"
          ],
          "name": "stdout"
        },
        {
          "output_type": "execute_result",
          "data": {
            "text/plain": [
              "'bjj'"
            ]
          },
          "metadata": {
            "tags": []
          },
          "execution_count": 122
        }
      ]
    },
    {
      "cell_type": "code",
      "metadata": {
        "id": "lq9VQm0V4BTE"
      },
      "source": [
        "def myfunc():pass"
      ],
      "execution_count": null,
      "outputs": []
    },
    {
      "cell_type": "code",
      "metadata": {
        "id": "CCYhFgvvjGHt",
        "colab": {
          "base_uri": "https://localhost:8080/",
          "height": 35
        },
        "outputId": "c98b1f37-ec70-4db0-b151-b133f48a2cf0"
      },
      "source": [
        "res = myfunc()\n",
        "print(res)\n",
        "#result = myfunc()\n",
        "#print(result)"
      ],
      "execution_count": null,
      "outputs": [
        {
          "output_type": "stream",
          "text": [
            "None\n"
          ],
          "name": "stdout"
        }
      ]
    },
    {
      "cell_type": "markdown",
      "metadata": {
        "id": "AMPU657F4JWF"
      },
      "source": [
        "**Documenting Functions**\n",
        "\n",
        "It is a very good idea to document functions.  \n",
        "In Jupyter Notebook and IPython docstrings can be viewed by referring to the function with a ?.  ie.\n",
        "\n",
        "```\n",
        "In [2]: favorite_martial_art_with_docstring?\n",
        "Signature: favorite_martial_art_with_docstring()\n",
        "Docstring: This function returns the name of my favorite martial art\n",
        "File:      ~/src/functional_intro_to_python/<ipython-input-1-bef983c31735>\n",
        "Type:      function\n",
        "```"
      ]
    },
    {
      "cell_type": "code",
      "metadata": {
        "id": "ZKOHmIxg4Ply"
      },
      "source": [
        "def favorite_martial_art_with_docstring():\n",
        "    \"\"\"This function returns the name of my favorite martial art\n",
        "    This is more\n",
        "    This is even more\n",
        "    return \"string\"\n",
        "    \"\"\"\n",
        "    return \"bjj\""
      ],
      "execution_count": null,
      "outputs": []
    },
    {
      "cell_type": "markdown",
      "metadata": {
        "id": "8OW1SbDg4Rd1"
      },
      "source": [
        "**Docstrings of functions can be printed out by referring to *```__doc__```*** "
      ]
    },
    {
      "cell_type": "code",
      "metadata": {
        "id": "SuI6CO-E4ViO",
        "colab": {
          "base_uri": "https://localhost:8080/",
          "height": 35
        },
        "outputId": "8aa47172-532a-41ea-9d54-47acc695368e"
      },
      "source": [
        "favorite_martial_art_with_docstring.__doc__\n",
        "#favorite_martial_art_with_docstring?\n"
      ],
      "execution_count": null,
      "outputs": [
        {
          "output_type": "execute_result",
          "data": {
            "text/plain": [
              "'This function returns the name of my favorite martial art\\n    This is more\\n    This is even more\\n    return \"string\"\\n    '"
            ]
          },
          "metadata": {
            "tags": []
          },
          "execution_count": 127
        }
      ]
    },
    {
      "cell_type": "code",
      "metadata": {
        "id": "DeanvrdvKTV6"
      },
      "source": [
        "#favorite_martial_art_with_docstring?"
      ],
      "execution_count": null,
      "outputs": []
    },
    {
      "cell_type": "markdown",
      "metadata": {
        "id": "ew4-TwH84YJa"
      },
      "source": [
        "#### Function arguments: positional, keyword\n",
        "\n",
        "A function is most useful when arguments are passed to the function. New values for times are processed inside the function. This function is also a 'positional' argument, vs a keyword argument. Positional arguments are processed in the order they are created in."
      ]
    },
    {
      "cell_type": "code",
      "metadata": {
        "id": "rxL-hyuL4aws"
      },
      "source": [
        "def practice(times):\n",
        "    print(f\"I like to practice {times} times a day\")"
      ],
      "execution_count": null,
      "outputs": []
    },
    {
      "cell_type": "code",
      "metadata": {
        "id": "WqDUN33f4cyf",
        "colab": {
          "base_uri": "https://localhost:8080/",
          "height": 35
        },
        "outputId": "1aa30d27-abf8-479d-c7d0-51dc443a17d7"
      },
      "source": [
        "practice(2)"
      ],
      "execution_count": null,
      "outputs": [
        {
          "output_type": "stream",
          "text": [
            "I like to practice 2 times a day\n"
          ],
          "name": "stdout"
        }
      ]
    },
    {
      "cell_type": "code",
      "metadata": {
        "id": "C8h7Jo0y4ggH",
        "colab": {
          "base_uri": "https://localhost:8080/",
          "height": 35
        },
        "outputId": "1ed860ec-26fa-4dee-ad69-ff0472bcd0c6"
      },
      "source": [
        "practice(3)"
      ],
      "execution_count": null,
      "outputs": [
        {
          "output_type": "stream",
          "text": [
            "I like to practice 3 times a day\n"
          ],
          "name": "stdout"
        }
      ]
    },
    {
      "cell_type": "markdown",
      "metadata": {
        "id": "LILwF-Nt4iTm"
      },
      "source": [
        "**Positional Arguments are processed in order**\n",
        "\n",
        "Note, *position* is the key to pay attention to.\n",
        "\n"
      ]
    },
    {
      "cell_type": "code",
      "metadata": {
        "id": "Aw6DSXR64oVx"
      },
      "source": [
        "def practice(times, technique, duration):\n",
        "    print(f\"I like to practice {technique}, {times} times a day, for {duration} minutes\")"
      ],
      "execution_count": null,
      "outputs": []
    },
    {
      "cell_type": "code",
      "metadata": {
        "id": "3Gq1XUkB4qtM",
        "colab": {
          "base_uri": "https://localhost:8080/",
          "height": 35
        },
        "outputId": "a8531261-651d-41c9-ea45-f6219fea7819"
      },
      "source": [
        "practice(3, \"piano\", 45)"
      ],
      "execution_count": null,
      "outputs": [
        {
          "output_type": "stream",
          "text": [
            "I like to practice piano, 3 times a day, for 45 minutes\n"
          ],
          "name": "stdout"
        }
      ]
    },
    {
      "cell_type": "code",
      "metadata": {
        "id": "Sv9WBxWzuWAy",
        "colab": {
          "base_uri": "https://localhost:8080/",
          "height": 35
        },
        "outputId": "729544f3-7ecd-48a0-d8f7-180d117de80a"
      },
      "source": [
        "#Order is important, now the entire is incorrect and prints out nonsense\n",
        "practice(\"piano\", 7,60)"
      ],
      "execution_count": null,
      "outputs": [
        {
          "output_type": "stream",
          "text": [
            "I like to practice 7, piano times a day, for 60 minutes\n"
          ],
          "name": "stdout"
        }
      ]
    },
    {
      "cell_type": "markdown",
      "metadata": {
        "id": "ntX-r2Bp4uTw"
      },
      "source": [
        "**Keyword Arguments are processed by key, value and can have default values**\n",
        "\n",
        "One handy feature of keyword arguments is that you can set defaults and only change the defaults you want to change."
      ]
    },
    {
      "cell_type": "code",
      "metadata": {
        "id": "cSIg9mKs4zg_"
      },
      "source": [
        "def practice(times=2, technique=\"python\", duration=60):\n",
        "    print(f\"I like to practice {technique}, {times} times a day, for {duration} minutes\")"
      ],
      "execution_count": null,
      "outputs": []
    },
    {
      "cell_type": "code",
      "metadata": {
        "id": "Be5uDA_d41dg",
        "colab": {
          "base_uri": "https://localhost:8080/",
          "height": 35
        },
        "outputId": "2d8e0cc5-5fe5-4afa-ccc0-68d6e0fdb831"
      },
      "source": [
        "practice()"
      ],
      "execution_count": null,
      "outputs": [
        {
          "output_type": "stream",
          "text": [
            "I like to practice python, 2 times a day, for 60 minutes\n"
          ],
          "name": "stdout"
        }
      ]
    },
    {
      "cell_type": "code",
      "metadata": {
        "id": "qOwB-4Dz43HQ",
        "colab": {
          "base_uri": "https://localhost:8080/",
          "height": 35
        },
        "outputId": "2bc4a3fd-6003-4aa6-b4c7-3128697514aa"
      },
      "source": [
        "practice(duration=90, times=4)"
      ],
      "execution_count": null,
      "outputs": [
        {
          "output_type": "stream",
          "text": [
            "I like to practice python, 4 times a day, for 90 minutes\n"
          ],
          "name": "stdout"
        }
      ]
    },
    {
      "cell_type": "markdown",
      "metadata": {
        "id": "2wBL_tQ846Qd"
      },
      "source": [
        "*****args and ****kwargs\n",
        "\n",
        "allow dynamic argument passing to functions\n",
        "Should be used with discretion because it can make code hard to understand"
      ]
    },
    {
      "cell_type": "code",
      "metadata": {
        "id": "gJtpL1Ad5IUH"
      },
      "source": [
        "def attack_techniques(**kwargs):\n",
        "    \"\"\"This accepts any number of keyword arguments\"\"\"\n",
        "    \n",
        "    for name, attack in kwargs.items():\n",
        "        print(f\"This is an attack I would like to practice: {attack}\")"
      ],
      "execution_count": null,
      "outputs": []
    },
    {
      "cell_type": "code",
      "metadata": {
        "id": "ODHgMleb5KVa",
        "colab": {
          "base_uri": "https://localhost:8080/",
          "height": 87
        },
        "outputId": "492706cf-47c2-4c78-ba70-b7b06b452416"
      },
      "source": [
        "attack_techniques(arm_attack=\"kimura\", \n",
        "                  leg_attack=\"straight_ankle_lock\", \n",
        "                  neck_attack=\"arm_triangle\",\n",
        "                 body_attack=\"charge\")"
      ],
      "execution_count": null,
      "outputs": [
        {
          "output_type": "stream",
          "text": [
            "This is an attack I would like to practice: kimura\n",
            "This is an attack I would like to practice: straight_ankle_lock\n",
            "This is an attack I would like to practice: arm_triangle\n",
            "This is an attack I would like to practice: charge\n"
          ],
          "name": "stdout"
        }
      ]
    },
    {
      "cell_type": "code",
      "metadata": {
        "id": "rdvgasCNvwKt",
        "colab": {
          "base_uri": "https://localhost:8080/",
          "height": 104
        },
        "outputId": "dcb85f2c-f2b8-4dbf-a5e1-1619be8fd3b4"
      },
      "source": [
        "#I also can pass as many things as I wants\n",
        "attack_techniques(arm_attack=\"kimura\", \n",
        "                  leg_attack=\"straight_ankle_lock\", \n",
        "                  neck_attach=\"arm_triangle\",\n",
        "                  attack4=\"rear nake choke\", attack5=\"key lock\")"
      ],
      "execution_count": null,
      "outputs": [
        {
          "output_type": "stream",
          "text": [
            "This is an attack I would like to practice: kimura\n",
            "This is an attack I would like to practice: straight_ankle_lock\n",
            "This is an attack I would like to practice: arm_triangle\n",
            "This is an attack I would like to practice: rear nake choke\n",
            "This is an attack I would like to practice: key lock\n"
          ],
          "name": "stdout"
        }
      ]
    },
    {
      "cell_type": "markdown",
      "metadata": {
        "id": "6Bd0PwiD5NnI"
      },
      "source": [
        "**passing dictionary of keywords to function**\n",
        "\n",
        "**kwargs syntax can also be used to pass in arguments all at once"
      ]
    },
    {
      "cell_type": "code",
      "metadata": {
        "id": "Rxjc3U7-5QlB"
      },
      "source": [
        "attacks = {\"arm_attack\":\"kimura\", \n",
        "           \"leg_attack\":\"straight_ankle_lock\", \n",
        "           \"neck_attach\":\"arm_triangle\"}"
      ],
      "execution_count": null,
      "outputs": []
    },
    {
      "cell_type": "code",
      "metadata": {
        "id": "0BmMRBOC5SG-",
        "colab": {
          "base_uri": "https://localhost:8080/",
          "height": 69
        },
        "outputId": "c9436287-a3bb-4b1d-a579-42b381416701"
      },
      "source": [
        "attack_techniques(**attacks)"
      ],
      "execution_count": null,
      "outputs": [
        {
          "output_type": "stream",
          "text": [
            "This is an attack I would like to practice: kimura\n",
            "This is an attack I would like to practice: straight_ankle_lock\n",
            "This is an attack I would like to practice: arm_triangle\n"
          ],
          "name": "stdout"
        }
      ]
    },
    {
      "cell_type": "markdown",
      "metadata": {
        "id": "3Srgz3C65Vdk"
      },
      "source": [
        "**Passing Around Functions**\n",
        "\n",
        "Object-Oriented programming is a very popular way to program, but it isn't the only style available in Python. For concurrency and for Data Science, functional programming fits as a complementary style.\n",
        "\n",
        "In the example, below a function can be used inside of another function by being passed into the function itself as an argument."
      ]
    },
    {
      "cell_type": "code",
      "metadata": {
        "id": "inzYwQSq5XPy"
      },
      "source": [
        "def attack_location(technique):\n",
        "    \"\"\"Return the location of an attack\"\"\"\n",
        "    \n",
        "    attacks = {\"kimura\": \"arm_attack\",\n",
        "           \"straight_ankle_lock\":\"leg_attack\", \n",
        "           \"arm_triangle\":\"neck_attach\"}\n",
        "    if technique in attacks:\n",
        "        return attacks[technique]\n",
        "    return \"Unknown\""
      ],
      "execution_count": null,
      "outputs": []
    },
    {
      "cell_type": "code",
      "metadata": {
        "id": "VfnYsD895ZFC",
        "colab": {
          "base_uri": "https://localhost:8080/",
          "height": 35
        },
        "outputId": "6cbfc55a-fa1e-45cc-a864-b7e0b48babc4"
      },
      "source": [
        "attack_location(\"kimura\")"
      ],
      "execution_count": null,
      "outputs": [
        {
          "output_type": "execute_result",
          "data": {
            "text/plain": [
              "'arm_attack'"
            ]
          },
          "metadata": {
            "tags": []
          },
          "execution_count": 145
        }
      ]
    },
    {
      "cell_type": "code",
      "metadata": {
        "id": "eK6NR4F-5aqT",
        "colab": {
          "base_uri": "https://localhost:8080/",
          "height": 35
        },
        "outputId": "c2eae6ee-df4f-4411-8cf9-aeb8b3f348ef"
      },
      "source": [
        "attack_location(\"bear hug\")"
      ],
      "execution_count": null,
      "outputs": [
        {
          "output_type": "execute_result",
          "data": {
            "text/plain": [
              "'Unknown'"
            ]
          },
          "metadata": {
            "tags": []
          },
          "execution_count": 146
        }
      ]
    },
    {
      "cell_type": "code",
      "metadata": {
        "id": "cOARK2b65f-k"
      },
      "source": [
        "def multiple_attacks(attack_location_function):\n",
        "    \"\"\"Takes a function that categorizes attacks and returns location\"\"\"\n",
        "    \n",
        "    new_attacks_list = [\"rear_naked_choke\", \"americana\", \"kimura\"]\n",
        "    for attack in new_attacks_list:\n",
        "        attack_location = attack_location_function(attack)\n",
        "        print(f\"The location of attack {attack} is {attack_location}\")"
      ],
      "execution_count": null,
      "outputs": []
    },
    {
      "cell_type": "code",
      "metadata": {
        "id": "WzgM8VU85iju",
        "colab": {
          "base_uri": "https://localhost:8080/",
          "height": 69
        },
        "outputId": "a0097509-a51f-4096-be85-a7957f9c5097"
      },
      "source": [
        "multiple_attacks(attack_location)"
      ],
      "execution_count": null,
      "outputs": [
        {
          "output_type": "stream",
          "text": [
            "The location of attack rear_naked_choke is Unknown\n",
            "The location of attack americana is Unknown\n",
            "The location of attack kimura is arm_attack\n"
          ],
          "name": "stdout"
        }
      ]
    },
    {
      "cell_type": "markdown",
      "metadata": {
        "id": "bCdDA35S5mQ4"
      },
      "source": [
        "#### Closures and Functional Currying\n",
        "\n",
        "Closures are functions that contain other nested functions with state from outer function.\n",
        "\n",
        "In Python, a common way to use them is to keep track of the state. In the example below, the outer function, attack_counter keeps track of counts of attacks. The inner fuction attack_filter uses the \"nonlocal\" keyword in Python3, to modify the variable in the outer function.\n",
        "\n",
        "This approach is called \"functional currying\". It allows for a specialized function to be created from general functions. As shown below, this style of function could be the basis of a simple video game or maybe for the statistics crew of a mma match."
      ]
    },
    {
      "cell_type": "code",
      "metadata": {
        "id": "QeG9UZfL6THb"
      },
      "source": [
        "#nonlocal cannot modify this variable\n",
        "#lower_body_counter=5\n",
        "def attack_counter():\n",
        "    \"\"\"Counts number of attacks on part of body\"\"\"\n",
        "    lower_body_counter = 0\n",
        "    upper_body_counter = 0\n",
        "    #print(lower_body_counter)\n",
        "    def attack_filter(attack):\n",
        "        nonlocal lower_body_counter\n",
        "        nonlocal upper_body_counter\n",
        "        attacks = {\"kimura\": \"upper_body\",\n",
        "           \"straight_ankle_lock\":\"lower_body\", \n",
        "           \"arm_triangle\":\"upper_body\",\n",
        "            \"keylock\": \"upper_body\",\n",
        "            \"knee_bar\": \"lower_body\"}\n",
        "        if attack in attacks:\n",
        "            if attacks[attack] == \"upper_body\":\n",
        "                upper_body_counter +=1\n",
        "            if attacks[attack] == \"lower_body\":\n",
        "                lower_body_counter +=1\n",
        "        print(f\"Upper Body Attacks {upper_body_counter}, Lower Body Attacks {lower_body_counter}\")\n",
        "    return attack_filter"
      ],
      "execution_count": null,
      "outputs": []
    },
    {
      "cell_type": "code",
      "metadata": {
        "id": "YT_Tk-iT6WiR"
      },
      "source": [
        "fight = attack_counter()"
      ],
      "execution_count": null,
      "outputs": []
    },
    {
      "cell_type": "code",
      "metadata": {
        "id": "DdBJ_0_C1s89",
        "colab": {
          "base_uri": "https://localhost:8080/",
          "height": 35
        },
        "outputId": "00bd53c6-2cc2-4ee9-bd7c-39d2d970e320"
      },
      "source": [
        "type(fight)"
      ],
      "execution_count": null,
      "outputs": [
        {
          "output_type": "execute_result",
          "data": {
            "text/plain": [
              "function"
            ]
          },
          "metadata": {
            "tags": []
          },
          "execution_count": 152
        }
      ]
    },
    {
      "cell_type": "code",
      "metadata": {
        "id": "J1p7hvGb6Y3m",
        "colab": {
          "base_uri": "https://localhost:8080/",
          "height": 35
        },
        "outputId": "70b6daf1-285d-4751-dd46-9c496b38dd72"
      },
      "source": [
        "fight(\"kimura\")"
      ],
      "execution_count": null,
      "outputs": [
        {
          "output_type": "stream",
          "text": [
            "Upper Body Attacks 1, Lower Body Attacks 0\n"
          ],
          "name": "stdout"
        }
      ]
    },
    {
      "cell_type": "code",
      "metadata": {
        "id": "gCoFnKDJ6aTS",
        "colab": {
          "base_uri": "https://localhost:8080/",
          "height": 35
        },
        "outputId": "fe9e1ea9-1186-4756-bbc8-39bdad4f3647"
      },
      "source": [
        "fight(\"knee_bar\")"
      ],
      "execution_count": null,
      "outputs": [
        {
          "output_type": "stream",
          "text": [
            "Upper Body Attacks 1, Lower Body Attacks 1\n"
          ],
          "name": "stdout"
        }
      ]
    },
    {
      "cell_type": "code",
      "metadata": {
        "id": "_3MRMBkS6bmy",
        "colab": {
          "base_uri": "https://localhost:8080/",
          "height": 35
        },
        "outputId": "dfd055da-7e91-427d-b341-6b87dd5c690f"
      },
      "source": [
        "fight(\"keylock\")"
      ],
      "execution_count": null,
      "outputs": [
        {
          "output_type": "stream",
          "text": [
            "Upper Body Attacks 2, Lower Body Attacks 1\n"
          ],
          "name": "stdout"
        }
      ]
    },
    {
      "cell_type": "markdown",
      "metadata": {
        "id": "hZx708yd7lpU"
      },
      "source": [
        "#### Partial Functions\n",
        "\n",
        "Useful to partial assign default values to functions"
      ]
    },
    {
      "cell_type": "code",
      "metadata": {
        "id": "fOhajVSK7oeX",
        "colab": {
          "base_uri": "https://localhost:8080/",
          "height": 35
        },
        "outputId": "eaa64020-7762-40b3-fdf5-6d02327931c1"
      },
      "source": [
        "from functools import partial\n",
        "\n",
        "def multiple_attacks(attack_one, attack_two):\n",
        "  \"\"\"Performs two attacks\"\"\"\n",
        "  \n",
        "  print(f\"First Attack {attack_one}\")\n",
        "  print(f\"Second Attack {attack_two}\")\n",
        "  \n",
        "attack_this = partial(multiple_attacks, \"kimura\")\n",
        "type(attack_this)"
      ],
      "execution_count": null,
      "outputs": [
        {
          "output_type": "execute_result",
          "data": {
            "text/plain": [
              "functools.partial"
            ]
          },
          "metadata": {
            "tags": []
          },
          "execution_count": 157
        }
      ]
    },
    {
      "cell_type": "markdown",
      "metadata": {
        "id": "ymZDwSka7rrh"
      },
      "source": [
        "By using this partial function, only one argument is needed"
      ]
    },
    {
      "cell_type": "code",
      "metadata": {
        "id": "jJv6HePw7tkH",
        "colab": {
          "base_uri": "https://localhost:8080/",
          "height": 52
        },
        "outputId": "baed09ad-fed9-4474-d04d-57ba99b1eb16"
      },
      "source": [
        "attack_this(\"knee-bar\")"
      ],
      "execution_count": null,
      "outputs": [
        {
          "output_type": "stream",
          "text": [
            "First Attack kimura\n",
            "Second Attack knee-bar\n"
          ],
          "name": "stdout"
        }
      ]
    },
    {
      "cell_type": "markdown",
      "metadata": {
        "id": "2CIWXwv27uPW"
      },
      "source": [
        "Alternately, the original function can also be called with a different two attacks"
      ]
    },
    {
      "cell_type": "code",
      "metadata": {
        "id": "QVudEj-h7wO_",
        "colab": {
          "base_uri": "https://localhost:8080/",
          "height": 52
        },
        "outputId": "596b6285-c71b-4a6e-cea7-e91a9ca46f29"
      },
      "source": [
        "multiple_attacks(\"Darce Choke\", \"Bicep Slicer\")"
      ],
      "execution_count": null,
      "outputs": [
        {
          "output_type": "stream",
          "text": [
            "First Attack Darce Choke\n",
            "Second Attack Bicep Slicer\n"
          ],
          "name": "stdout"
        }
      ]
    },
    {
      "cell_type": "markdown",
      "metadata": {
        "id": "5-tKvYXt6ftS"
      },
      "source": [
        "#### Lazy Evaluated Functions (Generators)\n",
        "\n",
        "A very useful style of programming is \"lazy evaluation\". A generator is an example of that. Generators yield an items at a time.\n",
        "\n",
        "The example below return an \"infinite\" random sequence of attacks. The lazy portion comes into play in that while there is an infinite amount of values, they are only returned when the function is called."
      ]
    },
    {
      "cell_type": "code",
      "metadata": {
        "id": "P-hOWZyV6jCt"
      },
      "source": [
        "def lazy_return_random_attacks():\n",
        "    \"\"\"Yield attacks each time\"\"\"\n",
        "    import random\n",
        "    attacks = {\"kimura\": \"upper_body\",\n",
        "           \"straight_ankle_lock\":\"lower_body\", \n",
        "           \"arm_triangle\":\"upper_body\",\n",
        "            \"keylock\": \"upper_body\",\n",
        "            \"knee_bar\": \"lower_body\"}\n",
        "    while True:\n",
        "        random_attack = random.choices(list(attacks.keys()))\n",
        "        yield random_attack"
      ],
      "execution_count": null,
      "outputs": []
    },
    {
      "cell_type": "code",
      "metadata": {
        "id": "NrhrDOAL6u0b"
      },
      "source": [
        "attack = lazy_return_random_attacks()"
      ],
      "execution_count": null,
      "outputs": []
    },
    {
      "cell_type": "code",
      "metadata": {
        "id": "NyxMi57a6wA4",
        "colab": {
          "base_uri": "https://localhost:8080/",
          "height": 35
        },
        "outputId": "4f2270fa-56de-45cc-c80a-f73e89a0941c"
      },
      "source": [
        "type(attack)"
      ],
      "execution_count": null,
      "outputs": [
        {
          "output_type": "execute_result",
          "data": {
            "text/plain": [
              "generator"
            ]
          },
          "metadata": {
            "tags": []
          },
          "execution_count": 162
        }
      ]
    },
    {
      "cell_type": "code",
      "metadata": {
        "id": "0IxoCkJu6y-B",
        "colab": {
          "base_uri": "https://localhost:8080/",
          "height": 121
        },
        "outputId": "50c2cda7-79d3-4c08-f58e-0cc6884fd402"
      },
      "source": [
        "for _ in range(6):\n",
        "    print(next(attack))"
      ],
      "execution_count": null,
      "outputs": [
        {
          "output_type": "stream",
          "text": [
            "['arm_triangle']\n",
            "['arm_triangle']\n",
            "['arm_triangle']\n",
            "['arm_triangle']\n",
            "['knee_bar']\n",
            "['arm_triangle']\n"
          ],
          "name": "stdout"
        }
      ]
    },
    {
      "cell_type": "markdown",
      "metadata": {
        "id": "hlJXHUVq6391"
      },
      "source": [
        "#### Decorators:   Functions that wrap other functions"
      ]
    },
    {
      "cell_type": "markdown",
      "metadata": {
        "id": "9KQ2Cmcelcy-"
      },
      "source": [
        "##### Randomized Sleep Decorator\n",
        "\n",
        "Another useful technique in Python is to use the decorator syntax to wrap one function with another function. In the example below, a decorator is written that adds random sleep to each function call. When combined with the previous \"infinite\" attack generator, it generates random sleeps between each function call."
      ]
    },
    {
      "cell_type": "code",
      "metadata": {
        "id": "JvNzAVBT6695"
      },
      "source": [
        "def randomized_speed_attack_decorator(function):\n",
        "    \"\"\"Randomizes the speed of attacks\"\"\"\n",
        "    \n",
        "    import time\n",
        "    import random\n",
        "    \n",
        "    def wrapper_func(*args, **kwargs):\n",
        "        sleep_time = random.randint(0,3)\n",
        "        print(f\"Attacking after {sleep_time} seconds\")\n",
        "        time.sleep(sleep_time)\n",
        "        return function(*args, **kwargs)\n",
        "    return wrapper_func"
      ],
      "execution_count": null,
      "outputs": []
    },
    {
      "cell_type": "code",
      "metadata": {
        "id": "5BGrwIl96-PX"
      },
      "source": [
        "@randomized_speed_attack_decorator\n",
        "def lazy_return_random_attacks():\n",
        "    \"\"\"Yield attacks each time\"\"\"\n",
        "    import random\n",
        "    attacks = {\"kimura\": \"upper_body\",\n",
        "           \"straight_ankle_lock\":\"lower_body\", \n",
        "           \"arm_triangle\":\"upper_body\",\n",
        "            \"keylock\": \"upper_body\",\n",
        "            \"knee_bar\": \"lower_body\"}\n",
        "    while True:\n",
        "        random_attack = random.choices(list(attacks.keys()))\n",
        "        yield random_attack"
      ],
      "execution_count": null,
      "outputs": []
    },
    {
      "cell_type": "code",
      "metadata": {
        "id": "HAEY8I7M7AL5",
        "colab": {
          "base_uri": "https://localhost:8080/",
          "height": 191
        },
        "outputId": "89697340-abc2-45bf-e3c1-2ecf64c2609d"
      },
      "source": [
        "for _ in range(5):\n",
        "    print(next(lazy_return_random_attacks()))"
      ],
      "execution_count": null,
      "outputs": [
        {
          "output_type": "stream",
          "text": [
            "Attacking after 3 seconds\n",
            "['arm_triangle']\n",
            "Attacking after 3 seconds\n",
            "['straight_ankle_lock']\n",
            "Attacking after 1 seconds\n",
            "['knee_bar']\n",
            "Attacking after 1 seconds\n",
            "['keylock']\n",
            "Attacking after 2 seconds\n",
            "['straight_ankle_lock']\n"
          ],
          "name": "stdout"
        }
      ]
    },
    {
      "cell_type": "markdown",
      "metadata": {
        "id": "qO-uoYUClvqr"
      },
      "source": [
        "##### Timing Decorator"
      ]
    },
    {
      "cell_type": "markdown",
      "metadata": {
        "id": "McePAV81l2Cm"
      },
      "source": [
        "Using a decorator to time code is very common"
      ]
    },
    {
      "cell_type": "code",
      "metadata": {
        "id": "pRtnp32Rl5jt"
      },
      "source": [
        "from functools import wraps\n",
        "from time import time\n",
        "\n",
        "def timing(f):\n",
        "    @wraps(f)\n",
        "    def wrap(*args, **kw):\n",
        "        ts = time()\n",
        "        result = f(*args, **kw)\n",
        "        te = time()\n",
        "        print(f\"fun: {f.__name__}, args: [{args}, {kw}] took: {te-ts} sec\")\n",
        "        return result\n",
        "    return wrap"
      ],
      "execution_count": null,
      "outputs": []
    },
    {
      "cell_type": "markdown",
      "metadata": {
        "id": "SFisqs8tmJer"
      },
      "source": [
        "Using decorator to time execution of a function"
      ]
    },
    {
      "cell_type": "code",
      "metadata": {
        "id": "h3B4RLEbmpie",
        "colab": {
          "base_uri": "https://localhost:8080/",
          "height": 156
        },
        "outputId": "130292a7-f0ef-4e16-ed4e-1a29e9739623"
      },
      "source": [
        "@timing\n",
        "def some_attacks(foo):\n",
        "  print(f\"this was passed in: {foo}\")\n",
        "  attack = lazy_return_random_attacks()\n",
        "  for _ in range(5):\n",
        "    print(next(attack))\n",
        "    \n",
        "some_attacks(\"bar\")\n",
        "  "
      ],
      "execution_count": null,
      "outputs": [
        {
          "output_type": "stream",
          "text": [
            "this was passed in: bar\n",
            "Attacking after 0 seconds\n",
            "['arm_triangle']\n",
            "['kimura']\n",
            "['knee_bar']\n",
            "['keylock']\n",
            "['kimura']\n",
            "fun: some_attacks, args: [('bar',), {}] took: 0.0030469894409179688 sec\n"
          ],
          "name": "stdout"
        }
      ]
    },
    {
      "cell_type": "markdown",
      "metadata": {
        "id": "WT4sChux989o"
      },
      "source": [
        "#### Making Classes Behave Like Functions\n",
        "\n",
        "Creating callable functions"
      ]
    },
    {
      "cell_type": "code",
      "metadata": {
        "id": "y2ykyfI79_6E"
      },
      "source": [
        "class AttackFinder:\n",
        "  \"\"\"Finds the attack location\"\"\"\n",
        "  \n",
        "  \n",
        "  def __init__(self, attack):\n",
        "    self.attack = attack\n",
        "  \n",
        "  def __call__(self):\n",
        "    attacks = {\"kimura\": \"upper_body\",\n",
        "           \"straight_ankle_lock\":\"lower_body\", \n",
        "           \"arm_triangle\":\"upper_body\",\n",
        "            \"keylock\": \"upper_body\",\n",
        "            \"knee_bar\": \"lower_body\"}\n",
        "    if not self.attack in attacks:\n",
        "      return \"unknown location\"\n",
        "    return attacks[self.attack]\n",
        "    "
      ],
      "execution_count": null,
      "outputs": []
    },
    {
      "cell_type": "code",
      "metadata": {
        "id": "NKyd_XhOJCSk",
        "colab": {
          "base_uri": "https://localhost:8080/",
          "height": 35
        },
        "outputId": "937ef1a6-0ec1-4a9e-9811-a0a1f1a7f3dd"
      },
      "source": [
        "my_attack = AttackFinder(\"kimura\")\n",
        "my_attack()"
      ],
      "execution_count": null,
      "outputs": [
        {
          "output_type": "execute_result",
          "data": {
            "text/plain": [
              "'upper_body'"
            ]
          },
          "metadata": {
            "tags": []
          },
          "execution_count": 178
        }
      ]
    },
    {
      "cell_type": "markdown",
      "metadata": {
        "id": "hQpf0vu_-Cnk"
      },
      "source": [
        "#### Applying Functions to Pandas DataFrames\n",
        "\n",
        "The final lesson on functions is to take this knowledge and use it on a DataFrame in Pandas. One of the more fundamental concepts in Pandas is use apply on a column vs iterating through all of the values. An example is shown below where all of the numbers are rounded to a whole digit."
      ]
    },
    {
      "cell_type": "code",
      "metadata": {
        "id": "WLWOOacP-KDz",
        "colab": {
          "base_uri": "https://localhost:8080/",
          "height": 141
        },
        "outputId": "fc64b581-cd64-46a6-ffaa-04b5694b5266"
      },
      "source": [
        "import pandas as pd\n",
        "iris = pd.read_csv('https://raw.githubusercontent.com/mwaskom/seaborn-data/master/iris.csv')\n",
        "iris.head(3)"
      ],
      "execution_count": null,
      "outputs": [
        {
          "output_type": "execute_result",
          "data": {
            "text/html": [
              "<div>\n",
              "<style scoped>\n",
              "    .dataframe tbody tr th:only-of-type {\n",
              "        vertical-align: middle;\n",
              "    }\n",
              "\n",
              "    .dataframe tbody tr th {\n",
              "        vertical-align: top;\n",
              "    }\n",
              "\n",
              "    .dataframe thead th {\n",
              "        text-align: right;\n",
              "    }\n",
              "</style>\n",
              "<table border=\"1\" class=\"dataframe\">\n",
              "  <thead>\n",
              "    <tr style=\"text-align: right;\">\n",
              "      <th></th>\n",
              "      <th>sepal_length</th>\n",
              "      <th>sepal_width</th>\n",
              "      <th>petal_length</th>\n",
              "      <th>petal_width</th>\n",
              "      <th>species</th>\n",
              "    </tr>\n",
              "  </thead>\n",
              "  <tbody>\n",
              "    <tr>\n",
              "      <th>0</th>\n",
              "      <td>5.1</td>\n",
              "      <td>3.5</td>\n",
              "      <td>1.4</td>\n",
              "      <td>0.2</td>\n",
              "      <td>setosa</td>\n",
              "    </tr>\n",
              "    <tr>\n",
              "      <th>1</th>\n",
              "      <td>4.9</td>\n",
              "      <td>3.0</td>\n",
              "      <td>1.4</td>\n",
              "      <td>0.2</td>\n",
              "      <td>setosa</td>\n",
              "    </tr>\n",
              "    <tr>\n",
              "      <th>2</th>\n",
              "      <td>4.7</td>\n",
              "      <td>3.2</td>\n",
              "      <td>1.3</td>\n",
              "      <td>0.2</td>\n",
              "      <td>setosa</td>\n",
              "    </tr>\n",
              "  </tbody>\n",
              "</table>\n",
              "</div>"
            ],
            "text/plain": [
              "   sepal_length  sepal_width  petal_length  petal_width species\n",
              "0           5.1          3.5           1.4          0.2  setosa\n",
              "1           4.9          3.0           1.4          0.2  setosa\n",
              "2           4.7          3.2           1.3          0.2  setosa"
            ]
          },
          "metadata": {
            "tags": []
          },
          "execution_count": 179
        }
      ]
    },
    {
      "cell_type": "code",
      "metadata": {
        "id": "EZTzZku3hZFM",
        "colab": {
          "base_uri": "https://localhost:8080/",
          "height": 35
        },
        "outputId": "f6653ce9-ef6f-481a-bb5a-8977f415438a"
      },
      "source": [
        "iris.shape"
      ],
      "execution_count": null,
      "outputs": [
        {
          "output_type": "execute_result",
          "data": {
            "text/plain": [
              "(150, 5)"
            ]
          },
          "metadata": {
            "tags": []
          },
          "execution_count": 180
        }
      ]
    },
    {
      "cell_type": "code",
      "metadata": {
        "id": "S8jXLfVq-Nrb",
        "colab": {
          "base_uri": "https://localhost:8080/",
          "height": 202
        },
        "outputId": "49a332ad-fdad-40cf-de41-6965c3e5c7cb"
      },
      "source": [
        "iris['rounded_sepal_length'] = iris[['sepal_length']].apply(pd.Series.round)\n",
        "iris.head()"
      ],
      "execution_count": null,
      "outputs": [
        {
          "output_type": "execute_result",
          "data": {
            "text/html": [
              "<div>\n",
              "<style scoped>\n",
              "    .dataframe tbody tr th:only-of-type {\n",
              "        vertical-align: middle;\n",
              "    }\n",
              "\n",
              "    .dataframe tbody tr th {\n",
              "        vertical-align: top;\n",
              "    }\n",
              "\n",
              "    .dataframe thead th {\n",
              "        text-align: right;\n",
              "    }\n",
              "</style>\n",
              "<table border=\"1\" class=\"dataframe\">\n",
              "  <thead>\n",
              "    <tr style=\"text-align: right;\">\n",
              "      <th></th>\n",
              "      <th>sepal_length</th>\n",
              "      <th>sepal_width</th>\n",
              "      <th>petal_length</th>\n",
              "      <th>petal_width</th>\n",
              "      <th>species</th>\n",
              "      <th>rounded_sepal_length</th>\n",
              "    </tr>\n",
              "  </thead>\n",
              "  <tbody>\n",
              "    <tr>\n",
              "      <th>0</th>\n",
              "      <td>5.1</td>\n",
              "      <td>3.5</td>\n",
              "      <td>1.4</td>\n",
              "      <td>0.2</td>\n",
              "      <td>setosa</td>\n",
              "      <td>5.0</td>\n",
              "    </tr>\n",
              "    <tr>\n",
              "      <th>1</th>\n",
              "      <td>4.9</td>\n",
              "      <td>3.0</td>\n",
              "      <td>1.4</td>\n",
              "      <td>0.2</td>\n",
              "      <td>setosa</td>\n",
              "      <td>5.0</td>\n",
              "    </tr>\n",
              "    <tr>\n",
              "      <th>2</th>\n",
              "      <td>4.7</td>\n",
              "      <td>3.2</td>\n",
              "      <td>1.3</td>\n",
              "      <td>0.2</td>\n",
              "      <td>setosa</td>\n",
              "      <td>5.0</td>\n",
              "    </tr>\n",
              "    <tr>\n",
              "      <th>3</th>\n",
              "      <td>4.6</td>\n",
              "      <td>3.1</td>\n",
              "      <td>1.5</td>\n",
              "      <td>0.2</td>\n",
              "      <td>setosa</td>\n",
              "      <td>5.0</td>\n",
              "    </tr>\n",
              "    <tr>\n",
              "      <th>4</th>\n",
              "      <td>5.0</td>\n",
              "      <td>3.6</td>\n",
              "      <td>1.4</td>\n",
              "      <td>0.2</td>\n",
              "      <td>setosa</td>\n",
              "      <td>5.0</td>\n",
              "    </tr>\n",
              "  </tbody>\n",
              "</table>\n",
              "</div>"
            ],
            "text/plain": [
              "   sepal_length  sepal_width  ...  species  rounded_sepal_length\n",
              "0           5.1          3.5  ...   setosa                   5.0\n",
              "1           4.9          3.0  ...   setosa                   5.0\n",
              "2           4.7          3.2  ...   setosa                   5.0\n",
              "3           4.6          3.1  ...   setosa                   5.0\n",
              "4           5.0          3.6  ...   setosa                   5.0\n",
              "\n",
              "[5 rows x 6 columns]"
            ]
          },
          "metadata": {
            "tags": []
          },
          "execution_count": 181
        }
      ]
    },
    {
      "cell_type": "code",
      "metadata": {
        "id": "TBxKbJk8kjit",
        "colab": {
          "base_uri": "https://localhost:8080/",
          "height": 35
        },
        "outputId": "68f4efd0-4efd-48dd-d5e0-37f433ae66a7"
      },
      "source": [
        "iris.shape"
      ],
      "execution_count": null,
      "outputs": [
        {
          "output_type": "execute_result",
          "data": {
            "text/plain": [
              "(150, 6)"
            ]
          },
          "metadata": {
            "tags": []
          },
          "execution_count": 182
        }
      ]
    },
    {
      "cell_type": "markdown",
      "metadata": {
        "id": "QrQiWvRC-QY9"
      },
      "source": [
        "This was done with a built in function, but a custom function can also be written and applied to a column. In the example below, the values are multiplied by 100. The alternative way to accomplish this would be to create a loop, transform the data and then write it back. In Pandas, it is straightforward and simple to apply custom functions instead."
      ]
    },
    {
      "cell_type": "code",
      "metadata": {
        "id": "6WlPQ823-SMS",
        "colab": {
          "base_uri": "https://localhost:8080/",
          "height": 202
        },
        "outputId": "7371cd1f-83b0-4186-b3f3-ec7fa13c3586"
      },
      "source": [
        "def multiply_by_100(x):\n",
        "    \"\"\"Multiplies by 100\"\"\"\n",
        "    \n",
        "    res = x * 100\n",
        "    #print(f\"This was passed in {x}, and this result was generated {res}\")\n",
        "    return res\n",
        "  \n",
        "  \n",
        "iris['100x_sepal_length'] = iris[['sepal_length']].apply(multiply_by_100)\n",
        "iris.head()"
      ],
      "execution_count": null,
      "outputs": [
        {
          "output_type": "execute_result",
          "data": {
            "text/html": [
              "<div>\n",
              "<style scoped>\n",
              "    .dataframe tbody tr th:only-of-type {\n",
              "        vertical-align: middle;\n",
              "    }\n",
              "\n",
              "    .dataframe tbody tr th {\n",
              "        vertical-align: top;\n",
              "    }\n",
              "\n",
              "    .dataframe thead th {\n",
              "        text-align: right;\n",
              "    }\n",
              "</style>\n",
              "<table border=\"1\" class=\"dataframe\">\n",
              "  <thead>\n",
              "    <tr style=\"text-align: right;\">\n",
              "      <th></th>\n",
              "      <th>sepal_length</th>\n",
              "      <th>sepal_width</th>\n",
              "      <th>petal_length</th>\n",
              "      <th>petal_width</th>\n",
              "      <th>species</th>\n",
              "      <th>rounded_sepal_length</th>\n",
              "      <th>100x_sepal_length</th>\n",
              "    </tr>\n",
              "  </thead>\n",
              "  <tbody>\n",
              "    <tr>\n",
              "      <th>0</th>\n",
              "      <td>5.1</td>\n",
              "      <td>3.5</td>\n",
              "      <td>1.4</td>\n",
              "      <td>0.2</td>\n",
              "      <td>setosa</td>\n",
              "      <td>5.0</td>\n",
              "      <td>510.0</td>\n",
              "    </tr>\n",
              "    <tr>\n",
              "      <th>1</th>\n",
              "      <td>4.9</td>\n",
              "      <td>3.0</td>\n",
              "      <td>1.4</td>\n",
              "      <td>0.2</td>\n",
              "      <td>setosa</td>\n",
              "      <td>5.0</td>\n",
              "      <td>490.0</td>\n",
              "    </tr>\n",
              "    <tr>\n",
              "      <th>2</th>\n",
              "      <td>4.7</td>\n",
              "      <td>3.2</td>\n",
              "      <td>1.3</td>\n",
              "      <td>0.2</td>\n",
              "      <td>setosa</td>\n",
              "      <td>5.0</td>\n",
              "      <td>470.0</td>\n",
              "    </tr>\n",
              "    <tr>\n",
              "      <th>3</th>\n",
              "      <td>4.6</td>\n",
              "      <td>3.1</td>\n",
              "      <td>1.5</td>\n",
              "      <td>0.2</td>\n",
              "      <td>setosa</td>\n",
              "      <td>5.0</td>\n",
              "      <td>460.0</td>\n",
              "    </tr>\n",
              "    <tr>\n",
              "      <th>4</th>\n",
              "      <td>5.0</td>\n",
              "      <td>3.6</td>\n",
              "      <td>1.4</td>\n",
              "      <td>0.2</td>\n",
              "      <td>setosa</td>\n",
              "      <td>5.0</td>\n",
              "      <td>500.0</td>\n",
              "    </tr>\n",
              "  </tbody>\n",
              "</table>\n",
              "</div>"
            ],
            "text/plain": [
              "   sepal_length  sepal_width  ...  rounded_sepal_length  100x_sepal_length\n",
              "0           5.1          3.5  ...                   5.0              510.0\n",
              "1           4.9          3.0  ...                   5.0              490.0\n",
              "2           4.7          3.2  ...                   5.0              470.0\n",
              "3           4.6          3.1  ...                   5.0              460.0\n",
              "4           5.0          3.6  ...                   5.0              500.0\n",
              "\n",
              "[5 rows x 7 columns]"
            ]
          },
          "metadata": {
            "tags": []
          },
          "execution_count": 183
        }
      ]
    },
    {
      "cell_type": "code",
      "metadata": {
        "id": "pYg2Lz05ly7Q",
        "colab": {
          "base_uri": "https://localhost:8080/",
          "height": 202
        },
        "outputId": "1e828dc9-f15d-4ec2-a7bd-47b382916150"
      },
      "source": [
        "iris[\"new_column\"] = iris[['sepal_length']]\n",
        "iris.head()"
      ],
      "execution_count": null,
      "outputs": [
        {
          "output_type": "execute_result",
          "data": {
            "text/html": [
              "<div>\n",
              "<style scoped>\n",
              "    .dataframe tbody tr th:only-of-type {\n",
              "        vertical-align: middle;\n",
              "    }\n",
              "\n",
              "    .dataframe tbody tr th {\n",
              "        vertical-align: top;\n",
              "    }\n",
              "\n",
              "    .dataframe thead th {\n",
              "        text-align: right;\n",
              "    }\n",
              "</style>\n",
              "<table border=\"1\" class=\"dataframe\">\n",
              "  <thead>\n",
              "    <tr style=\"text-align: right;\">\n",
              "      <th></th>\n",
              "      <th>sepal_length</th>\n",
              "      <th>sepal_width</th>\n",
              "      <th>petal_length</th>\n",
              "      <th>petal_width</th>\n",
              "      <th>species</th>\n",
              "      <th>rounded_sepal_length</th>\n",
              "      <th>100x_sepal_length</th>\n",
              "      <th>new_column</th>\n",
              "    </tr>\n",
              "  </thead>\n",
              "  <tbody>\n",
              "    <tr>\n",
              "      <th>0</th>\n",
              "      <td>5.1</td>\n",
              "      <td>3.5</td>\n",
              "      <td>1.4</td>\n",
              "      <td>0.2</td>\n",
              "      <td>setosa</td>\n",
              "      <td>5.0</td>\n",
              "      <td>510.0</td>\n",
              "      <td>5.1</td>\n",
              "    </tr>\n",
              "    <tr>\n",
              "      <th>1</th>\n",
              "      <td>4.9</td>\n",
              "      <td>3.0</td>\n",
              "      <td>1.4</td>\n",
              "      <td>0.2</td>\n",
              "      <td>setosa</td>\n",
              "      <td>5.0</td>\n",
              "      <td>490.0</td>\n",
              "      <td>4.9</td>\n",
              "    </tr>\n",
              "    <tr>\n",
              "      <th>2</th>\n",
              "      <td>4.7</td>\n",
              "      <td>3.2</td>\n",
              "      <td>1.3</td>\n",
              "      <td>0.2</td>\n",
              "      <td>setosa</td>\n",
              "      <td>5.0</td>\n",
              "      <td>470.0</td>\n",
              "      <td>4.7</td>\n",
              "    </tr>\n",
              "    <tr>\n",
              "      <th>3</th>\n",
              "      <td>4.6</td>\n",
              "      <td>3.1</td>\n",
              "      <td>1.5</td>\n",
              "      <td>0.2</td>\n",
              "      <td>setosa</td>\n",
              "      <td>5.0</td>\n",
              "      <td>460.0</td>\n",
              "      <td>4.6</td>\n",
              "    </tr>\n",
              "    <tr>\n",
              "      <th>4</th>\n",
              "      <td>5.0</td>\n",
              "      <td>3.6</td>\n",
              "      <td>1.4</td>\n",
              "      <td>0.2</td>\n",
              "      <td>setosa</td>\n",
              "      <td>5.0</td>\n",
              "      <td>500.0</td>\n",
              "      <td>5.0</td>\n",
              "    </tr>\n",
              "  </tbody>\n",
              "</table>\n",
              "</div>"
            ],
            "text/plain": [
              "   sepal_length  sepal_width  ...  100x_sepal_length  new_column\n",
              "0           5.1          3.5  ...              510.0         5.1\n",
              "1           4.9          3.0  ...              490.0         4.9\n",
              "2           4.7          3.2  ...              470.0         4.7\n",
              "3           4.6          3.1  ...              460.0         4.6\n",
              "4           5.0          3.6  ...              500.0         5.0\n",
              "\n",
              "[5 rows x 8 columns]"
            ]
          },
          "metadata": {
            "tags": []
          },
          "execution_count": 184
        }
      ]
    },
    {
      "cell_type": "code",
      "metadata": {
        "id": "T66Ll8etnuxK",
        "colab": {
          "base_uri": "https://localhost:8080/",
          "height": 171
        },
        "outputId": "ff39b95d-085a-4d43-fabb-db621ca1e459"
      },
      "source": [
        "iris.groupby(\"species\").max()"
      ],
      "execution_count": null,
      "outputs": [
        {
          "output_type": "execute_result",
          "data": {
            "text/html": [
              "<div>\n",
              "<style scoped>\n",
              "    .dataframe tbody tr th:only-of-type {\n",
              "        vertical-align: middle;\n",
              "    }\n",
              "\n",
              "    .dataframe tbody tr th {\n",
              "        vertical-align: top;\n",
              "    }\n",
              "\n",
              "    .dataframe thead th {\n",
              "        text-align: right;\n",
              "    }\n",
              "</style>\n",
              "<table border=\"1\" class=\"dataframe\">\n",
              "  <thead>\n",
              "    <tr style=\"text-align: right;\">\n",
              "      <th></th>\n",
              "      <th>sepal_length</th>\n",
              "      <th>sepal_width</th>\n",
              "      <th>petal_length</th>\n",
              "      <th>petal_width</th>\n",
              "      <th>rounded_sepal_length</th>\n",
              "      <th>100x_sepal_length</th>\n",
              "      <th>new_column</th>\n",
              "    </tr>\n",
              "    <tr>\n",
              "      <th>species</th>\n",
              "      <th></th>\n",
              "      <th></th>\n",
              "      <th></th>\n",
              "      <th></th>\n",
              "      <th></th>\n",
              "      <th></th>\n",
              "      <th></th>\n",
              "    </tr>\n",
              "  </thead>\n",
              "  <tbody>\n",
              "    <tr>\n",
              "      <th>setosa</th>\n",
              "      <td>5.8</td>\n",
              "      <td>4.4</td>\n",
              "      <td>1.9</td>\n",
              "      <td>0.6</td>\n",
              "      <td>6.0</td>\n",
              "      <td>580.0</td>\n",
              "      <td>5.8</td>\n",
              "    </tr>\n",
              "    <tr>\n",
              "      <th>versicolor</th>\n",
              "      <td>7.0</td>\n",
              "      <td>3.4</td>\n",
              "      <td>5.1</td>\n",
              "      <td>1.8</td>\n",
              "      <td>7.0</td>\n",
              "      <td>700.0</td>\n",
              "      <td>7.0</td>\n",
              "    </tr>\n",
              "    <tr>\n",
              "      <th>virginica</th>\n",
              "      <td>7.9</td>\n",
              "      <td>3.8</td>\n",
              "      <td>6.9</td>\n",
              "      <td>2.5</td>\n",
              "      <td>8.0</td>\n",
              "      <td>790.0</td>\n",
              "      <td>7.9</td>\n",
              "    </tr>\n",
              "  </tbody>\n",
              "</table>\n",
              "</div>"
            ],
            "text/plain": [
              "            sepal_length  sepal_width  ...  100x_sepal_length  new_column\n",
              "species                                ...                               \n",
              "setosa               5.8          4.4  ...              580.0         5.8\n",
              "versicolor           7.0          3.4  ...              700.0         7.0\n",
              "virginica            7.9          3.8  ...              790.0         7.9\n",
              "\n",
              "[3 rows x 7 columns]"
            ]
          },
          "metadata": {
            "tags": []
          },
          "execution_count": 185
        }
      ]
    },
    {
      "cell_type": "code",
      "metadata": {
        "id": "7nerC1KunT8u"
      },
      "source": [
        "#iris.apply(pd.Series.round, axis=1)"
      ],
      "execution_count": null,
      "outputs": []
    },
    {
      "cell_type": "code",
      "metadata": {
        "id": "PaPz8q3pjWZQ"
      },
      "source": [
        "#def sepal_category(x):\n",
        "  \n",
        "#  if x == 4:\n",
        "#  return \"big\"\n",
        "\n",
        "#iris['sepal_category'] = iris[['sepal_width']].apply(sepal_category)\n",
        "#iris.head()\n",
        "  "
      ],
      "execution_count": null,
      "outputs": []
    },
    {
      "cell_type": "code",
      "metadata": {
        "id": "gq3i_yeDWWHt",
        "colab": {
          "base_uri": "https://localhost:8080/",
          "height": 87
        },
        "outputId": "fea43304-cf2a-4a76-acd1-bdeb66e51476"
      },
      "source": [
        "#example of a smarter function\n",
        "def smart_multiply_by_100(x):\n",
        "  if x > 5:\n",
        "    return 1\n",
        "  return x\n",
        "\n",
        "inputs = [1,2,6,10]\n",
        "for input in inputs:\n",
        "  print(smart_multiply_by_100(input))\n",
        "  \n",
        "  "
      ],
      "execution_count": null,
      "outputs": [
        {
          "output_type": "stream",
          "text": [
            "1\n",
            "2\n",
            "1\n",
            "1\n"
          ],
          "name": "stdout"
        }
      ]
    },
    {
      "cell_type": "code",
      "metadata": {
        "id": "6ox8_LbHW_vQ"
      },
      "source": [
        ""
      ],
      "execution_count": null,
      "outputs": []
    },
    {
      "cell_type": "markdown",
      "metadata": {
        "id": "C95FIjW5-rJc"
      },
      "source": [
        "#### Writing Lambdas\n",
        "\n",
        "Generally considered to be unnecessary.  A Python lambda is an inline python and it can often lead to confusing code.  \n"
      ]
    },
    {
      "cell_type": "code",
      "metadata": {
        "id": "1Zibl40rD6Qg",
        "colab": {
          "base_uri": "https://localhost:8080/",
          "height": 381
        },
        "outputId": "8cd0c6ec-6438-41eb-fe37-5478070e13da"
      },
      "source": [
        "import this"
      ],
      "execution_count": null,
      "outputs": [
        {
          "output_type": "stream",
          "text": [
            "The Zen of Python, by Tim Peters\n",
            "\n",
            "Beautiful is better than ugly.\n",
            "Explicit is better than implicit.\n",
            "Simple is better than complex.\n",
            "Complex is better than complicated.\n",
            "Flat is better than nested.\n",
            "Sparse is better than dense.\n",
            "Readability counts.\n",
            "Special cases aren't special enough to break the rules.\n",
            "Although practicality beats purity.\n",
            "Errors should never pass silently.\n",
            "Unless explicitly silenced.\n",
            "In the face of ambiguity, refuse the temptation to guess.\n",
            "There should be one-- and preferably only one --obvious way to do it.\n",
            "Although that way may not be obvious at first unless you're Dutch.\n",
            "Now is better than never.\n",
            "Although never is often better than *right* now.\n",
            "If the implementation is hard to explain, it's a bad idea.\n",
            "If the implementation is easy to explain, it may be a good idea.\n",
            "Namespaces are one honking great idea -- let's do more of those!\n"
          ],
          "name": "stdout"
        }
      ]
    },
    {
      "cell_type": "code",
      "metadata": {
        "id": "dEvuisbJ-tc2",
        "colab": {
          "base_uri": "https://localhost:8080/",
          "height": 35
        },
        "outputId": "49021143-966c-4ba9-b5de-9e5548929bbf"
      },
      "source": [
        "func = lambda x: x**2\n",
        "func(4)"
      ],
      "execution_count": null,
      "outputs": [
        {
          "output_type": "execute_result",
          "data": {
            "text/plain": [
              "16"
            ]
          },
          "metadata": {
            "tags": []
          },
          "execution_count": 187
        }
      ]
    },
    {
      "cell_type": "code",
      "metadata": {
        "id": "Cq9-b_1N-tpI",
        "colab": {
          "base_uri": "https://localhost:8080/",
          "height": 35
        },
        "outputId": "510ceb16-137a-4d9a-e2ec-69a2c2ff117b"
      },
      "source": [
        "def regular_func(x):\n",
        "  return x**2\n",
        "\n",
        "regular_func(4)"
      ],
      "execution_count": null,
      "outputs": [
        {
          "output_type": "execute_result",
          "data": {
            "text/plain": [
              "16"
            ]
          },
          "metadata": {
            "tags": []
          },
          "execution_count": 189
        }
      ]
    },
    {
      "cell_type": "code",
      "metadata": {
        "id": "FlIAJo2GK7KL"
      },
      "source": [
        "def regular_func2(x):\n",
        "  \"\"\"This makes my variable go to the second power\"\"\"\n",
        "  return x**2"
      ],
      "execution_count": null,
      "outputs": []
    },
    {
      "cell_type": "code",
      "metadata": {
        "id": "ZOMmTXtSLF9W",
        "colab": {
          "base_uri": "https://localhost:8080/",
          "height": 35
        },
        "outputId": "4089a1d4-a04b-4e56-c949-2496b8740d60"
      },
      "source": [
        "regular_func2(2)"
      ],
      "execution_count": null,
      "outputs": [
        {
          "output_type": "execute_result",
          "data": {
            "text/plain": [
              "4"
            ]
          },
          "metadata": {
            "tags": []
          },
          "execution_count": 178
        }
      ]
    },
    {
      "cell_type": "code",
      "metadata": {
        "id": "rnXLQ6rZLKj5"
      },
      "source": [
        ""
      ],
      "execution_count": null,
      "outputs": []
    },
    {
      "cell_type": "code",
      "metadata": {
        "id": "QS-zJFR-DlPI"
      },
      "source": [
        "import random"
      ],
      "execution_count": null,
      "outputs": []
    },
    {
      "cell_type": "code",
      "metadata": {
        "id": "YAcj5rn5DnEI"
      },
      "source": [
        "random.seed"
      ],
      "execution_count": null,
      "outputs": []
    },
    {
      "cell_type": "markdown",
      "metadata": {
        "id": "EnmY9K44MD8V"
      },
      "source": [
        ""
      ]
    },
    {
      "cell_type": "markdown",
      "metadata": {
        "id": "nqKDdhHRL7bs"
      },
      "source": [
        "### Exercise: Write a function that returns infinite values"
      ]
    },
    {
      "cell_type": "code",
      "metadata": {
        "id": "jxAK_PSN3iHt"
      },
      "source": [
        "def forever():\n",
        "    while True:\n",
        "        yield 1\n"
      ],
      "execution_count": null,
      "outputs": []
    },
    {
      "cell_type": "code",
      "metadata": {
        "id": "NjSxSrZH3zP_",
        "colab": {
          "base_uri": "https://localhost:8080/",
          "height": 35
        },
        "outputId": "54595cb2-3374-4dec-d0b8-9124e69e637d"
      },
      "source": [
        "res = forever()\n",
        "type(res)"
      ],
      "execution_count": null,
      "outputs": [
        {
          "output_type": "execute_result",
          "data": {
            "text/plain": [
              "generator"
            ]
          },
          "metadata": {
            "tags": []
          },
          "execution_count": 192
        }
      ]
    },
    {
      "cell_type": "code",
      "metadata": {
        "id": "ci5oMfTY34yU",
        "colab": {
          "base_uri": "https://localhost:8080/",
          "height": 35
        },
        "outputId": "11ea9cae-224d-412e-862f-63ec19c8037a"
      },
      "source": [
        "next(res)"
      ],
      "execution_count": null,
      "outputs": [
        {
          "output_type": "execute_result",
          "data": {
            "text/plain": [
              "1"
            ]
          },
          "metadata": {
            "tags": []
          },
          "execution_count": 195
        }
      ]
    },
    {
      "cell_type": "code",
      "metadata": {
        "id": "j7lDdPgS4RR8"
      },
      "source": [
        "#Finite\n",
        "def not_forever():\n",
        "    vars = [1,2,3,5]\n",
        "    for var in vars:\n",
        "        yield var\n"
      ],
      "execution_count": null,
      "outputs": []
    },
    {
      "cell_type": "code",
      "metadata": {
        "id": "Cv7qba4m4dIG"
      },
      "source": [
        "res2 = not_forever()"
      ],
      "execution_count": null,
      "outputs": []
    },
    {
      "cell_type": "code",
      "metadata": {
        "id": "azWB311x4i2W",
        "colab": {
          "base_uri": "https://localhost:8080/",
          "height": 167
        },
        "outputId": "a28510a4-4eca-4eef-df00-cb417a351c91"
      },
      "source": [
        "next(res2)"
      ],
      "execution_count": null,
      "outputs": [
        {
          "output_type": "error",
          "ename": "StopIteration",
          "evalue": "ignored",
          "traceback": [
            "\u001b[0;31m---------------------------------------------------------------------------\u001b[0m",
            "\u001b[0;31mStopIteration\u001b[0m                             Traceback (most recent call last)",
            "\u001b[0;32m<ipython-input-202-45c410d5a3dc>\u001b[0m in \u001b[0;36m<module>\u001b[0;34m()\u001b[0m\n\u001b[0;32m----> 1\u001b[0;31m \u001b[0mnext\u001b[0m\u001b[0;34m(\u001b[0m\u001b[0mres2\u001b[0m\u001b[0;34m)\u001b[0m\u001b[0;34m\u001b[0m\u001b[0;34m\u001b[0m\u001b[0m\n\u001b[0m",
            "\u001b[0;31mStopIteration\u001b[0m: "
          ]
        }
      ]
    },
    {
      "cell_type": "markdown",
      "metadata": {
        "id": "FfOtUt8NMFtR"
      },
      "source": [
        "### Exercise: Capture the output of a shell command using the ! operator and parse with SList grep"
      ]
    },
    {
      "cell_type": "code",
      "metadata": {
        "id": "72sCdojn4wiV",
        "colab": {
          "base_uri": "https://localhost:8080/",
          "height": 87
        },
        "outputId": "4a8bbe77-22e6-4827-9b14-9c53c8023c30"
      },
      "source": [
        "!ls -l"
      ],
      "execution_count": null,
      "outputs": [
        {
          "output_type": "stream",
          "text": [
            "total 12\n",
            "-rw-r--r-- 1 root root 2610 Jan  8 13:34 adc.json\n",
            "-rw-r--r-- 1 root root  407 Jan  8 13:27 magic_stuff.py\n",
            "drwxr-xr-x 1 root root 4096 Dec 18 16:52 sample_data\n"
          ],
          "name": "stdout"
        }
      ]
    },
    {
      "cell_type": "code",
      "metadata": {
        "id": "HJcJA5Q444ii",
        "colab": {
          "base_uri": "https://localhost:8080/",
          "height": 35
        },
        "outputId": "659d5ef3-4852-41c0-a0b0-351326622026"
      },
      "source": [
        "directory_listing = !ls -l\n",
        "type(directory_listing)"
      ],
      "execution_count": null,
      "outputs": [
        {
          "output_type": "execute_result",
          "data": {
            "text/plain": [
              "IPython.utils.text.SList"
            ]
          },
          "metadata": {
            "tags": []
          },
          "execution_count": 204
        }
      ]
    },
    {
      "cell_type": "code",
      "metadata": {
        "id": "mLJVR-pi5BMk",
        "colab": {
          "base_uri": "https://localhost:8080/",
          "height": 35
        },
        "outputId": "ef8756bd-27a8-4297-c751-bbd0b20f8540"
      },
      "source": [
        "directory_listing.grep(\".py\")"
      ],
      "execution_count": null,
      "outputs": [
        {
          "output_type": "execute_result",
          "data": {
            "text/plain": [
              "['-rw-r--r-- 1 root root  407 Jan  8 13:27 magic_stuff.py']"
            ]
          },
          "metadata": {
            "tags": []
          },
          "execution_count": 207
        }
      ]
    },
    {
      "cell_type": "markdown",
      "metadata": {
        "id": "I98BmWesoVG7"
      },
      "source": [
        "Q/A: HOW DO I CONTINUE TO A NEW LINE"
      ]
    },
    {
      "cell_type": "code",
      "metadata": {
        "id": "U0IbP1XhobdP"
      },
      "source": [
        "var = \"\"\"This is a a very long string\n",
        " and it needs to be continued\"\"\""
      ],
      "execution_count": null,
      "outputs": []
    },
    {
      "cell_type": "code",
      "metadata": {
        "id": "9e8YB8_YomtP"
      },
      "source": [
        "long_list = [12,3,5,\n",
        "             6,7,7,8]"
      ],
      "execution_count": null,
      "outputs": []
    },
    {
      "cell_type": "code",
      "metadata": {
        "id": "2XF73XozovSF"
      },
      "source": [
        "#\\"
      ],
      "execution_count": null,
      "outputs": []
    },
    {
      "cell_type": "markdown",
      "metadata": {
        "id": "c1MbWXS8GEYt"
      },
      "source": [
        "## Automating Text and Filesystem"
      ]
    },
    {
      "cell_type": "markdown",
      "metadata": {
        "id": "_QcBIV2kHFXf"
      },
      "source": [
        "### Presentation: Reading, Writing and Using files: TXT, CSV, and YAML"
      ]
    },
    {
      "cell_type": "markdown",
      "metadata": {
        "id": "Kfwkhkd6uFie"
      },
      "source": [
        "#### Writing to a file\n",
        "\n",
        "* *[Watch Video Lesson 6.1:  Use write file operations](https://www.safaribooksonline.com/videos/essential-machine-learning/9780135261118/9780135261118-EMLA_01_06_01)*"
      ]
    },
    {
      "cell_type": "code",
      "metadata": {
        "id": "BXIgWwb_u5To",
        "colab": {
          "base_uri": "https://localhost:8080/",
          "height": 69
        },
        "outputId": "cd2f6b6b-df9c-4795-ebeb-0b0d0ad65f64"
      },
      "source": [
        "f = open('workfile.txt', 'w')\n",
        "f.write(\"foo20\\n\")\n",
        "f.write(\"foo3\\n\")\n",
        "f.write(\"foo4\\n\")\n",
        "f.close()\n",
        "!cat workfile.txt\n",
        "\n",
        "#!ls -l"
      ],
      "execution_count": null,
      "outputs": [
        {
          "output_type": "stream",
          "text": [
            "foo20\n",
            "foo3\n",
            "foo4\n"
          ],
          "name": "stdout"
        }
      ]
    },
    {
      "cell_type": "code",
      "metadata": {
        "id": "GURQsbCZApwI",
        "colab": {
          "base_uri": "https://localhost:8080/",
          "height": 69
        },
        "outputId": "2c11da69-aae7-46f1-a865-a6ea8cd74178"
      },
      "source": [
        "my_writes = [\"foo2\\n\",\"foo3\\n\",\"foo4\\n\"]\n",
        "f = open('workfile2.txt', 'w')\n",
        "for line in my_writes:\n",
        "  f.write(line)\n",
        "f.close()\n",
        "!cat workfile2.txt"
      ],
      "execution_count": null,
      "outputs": [
        {
          "output_type": "stream",
          "text": [
            "foo2\n",
            "foo3\n",
            "foo4\n"
          ],
          "name": "stdout"
        }
      ]
    },
    {
      "cell_type": "markdown",
      "metadata": {
        "id": "ANVzyHdUu6vz"
      },
      "source": [
        "#### Writing to a file with 'context'"
      ]
    },
    {
      "cell_type": "code",
      "metadata": {
        "id": "h_Q944tSu62P",
        "colab": {
          "base_uri": "https://localhost:8080/",
          "height": 35
        },
        "outputId": "7abb84f9-7df6-4a3a-f66a-57de56638be0"
      },
      "source": [
        "with open(\"workfile.txt\", \"w\") as workfile:\n",
        "    workfile.write(\"bam\")\n",
        "!cat workfile.txt"
      ],
      "execution_count": null,
      "outputs": [
        {
          "output_type": "stream",
          "text": [
            "bam"
          ],
          "name": "stdout"
        }
      ]
    },
    {
      "cell_type": "markdown",
      "metadata": {
        "id": "8Flny7vIvBfE"
      },
      "source": [
        "#### Reading a file in\n",
        "\n",
        "* *[Watch Video Lesson 6.2:  Use read file operations](https://www.safaribooksonline.com/videos/essential-machine-learning/9780135261118/9780135261118-EMLA_01_06_02)*\n"
      ]
    },
    {
      "cell_type": "code",
      "metadata": {
        "id": "My_lNi5dvBm5",
        "colab": {
          "base_uri": "https://localhost:8080/",
          "height": 52
        },
        "outputId": "0ef53c3a-03f2-4add-ebcf-aba5a2752b61"
      },
      "source": [
        "f = open(\"workfile.txt\", \"r\")\n",
        "out = f.readlines() #r.read() works as well\n",
        "# Maybe we want to create a generator pipeline\n",
        "for line in out:\n",
        "  print(line)\n",
        "  #  yield line\n",
        "f.close()\n",
        "print(out)"
      ],
      "execution_count": null,
      "outputs": [
        {
          "output_type": "stream",
          "text": [
            "bam\n",
            "['bam']\n"
          ],
          "name": "stdout"
        }
      ]
    },
    {
      "cell_type": "markdown",
      "metadata": {
        "id": "TEP1eI7SvHnu"
      },
      "source": [
        "#### Reading a file with 'context'"
      ]
    },
    {
      "cell_type": "code",
      "metadata": {
        "id": "-hk5VpDsvHxH",
        "colab": {
          "base_uri": "https://localhost:8080/",
          "height": 35
        },
        "outputId": "4c09452f-0ac5-4d79-faba-50b84dc89646"
      },
      "source": [
        "with open(\"workfile.txt\", \"r\") as workfile:\n",
        "    print(workfile.readlines())\n",
        "    #print(workfile.read())\n"
      ],
      "execution_count": null,
      "outputs": [
        {
          "output_type": "stream",
          "text": [
            "['bam']\n"
          ],
          "name": "stdout"
        }
      ]
    },
    {
      "cell_type": "markdown",
      "metadata": {
        "id": "A_qp5vlUSJIw"
      },
      "source": [
        ""
      ]
    },
    {
      "cell_type": "markdown",
      "metadata": {
        "id": "rqj1rvHgwSwv"
      },
      "source": [
        "#### Serialize a Python Dictionary to Pickle"
      ]
    },
    {
      "cell_type": "code",
      "metadata": {
        "id": "xhNF4RNxwY3e"
      },
      "source": [
        "mydict = {\"one\":1, \"two\":2}"
      ],
      "execution_count": null,
      "outputs": []
    },
    {
      "cell_type": "code",
      "metadata": {
        "id": "DMDCokXsweu8"
      },
      "source": [
        "import pickle"
      ],
      "execution_count": null,
      "outputs": []
    },
    {
      "cell_type": "code",
      "metadata": {
        "id": "eVqqAXrEwhPS"
      },
      "source": [
        "pickle.dump(mydict, open('mydictionary.pickle', 'wb'))"
      ],
      "execution_count": null,
      "outputs": []
    },
    {
      "cell_type": "code",
      "metadata": {
        "id": "QoRWp5MawitC",
        "colab": {
          "base_uri": "https://localhost:8080/",
          "height": 35
        },
        "outputId": "326d4b8c-7081-4a4b-a001-bb27a2447c8f"
      },
      "source": [
        "!ls -lh mydictionary.pickle"
      ],
      "execution_count": null,
      "outputs": [
        {
          "output_type": "stream",
          "text": [
            "-rw-r--r-- 1 root root 32 Jan  8 15:14 mydictionary.pickle\n"
          ],
          "name": "stdout"
        }
      ]
    },
    {
      "cell_type": "code",
      "metadata": {
        "id": "zwiN7WnpwkhZ"
      },
      "source": [
        "#!cat mydictionary.pickle"
      ],
      "execution_count": null,
      "outputs": []
    },
    {
      "cell_type": "code",
      "metadata": {
        "id": "dGU7RVunwoAK"
      },
      "source": [
        "res = pickle.load(open('mydictionary.pickle', \"rb\"))"
      ],
      "execution_count": null,
      "outputs": []
    },
    {
      "cell_type": "code",
      "metadata": {
        "id": "eC4gJSRkwp3C",
        "colab": {
          "base_uri": "https://localhost:8080/",
          "height": 35
        },
        "outputId": "627cd778-11bf-42b2-f495-3f5dd6cd3868"
      },
      "source": [
        "print(res)"
      ],
      "execution_count": null,
      "outputs": [
        {
          "output_type": "stream",
          "text": [
            "{'one': 1, 'two': 2}\n"
          ],
          "name": "stdout"
        }
      ]
    },
    {
      "cell_type": "markdown",
      "metadata": {
        "id": "hM20ft66wxm3"
      },
      "source": [
        "#### Serialize a Python Dictionary to JSON\n"
      ]
    },
    {
      "cell_type": "code",
      "metadata": {
        "id": "GLHcnEjyw0Sy"
      },
      "source": [
        "import json\n",
        "with open('data.json', 'w') as outfile:\n",
        "    json.dump(res, outfile)"
      ],
      "execution_count": null,
      "outputs": []
    },
    {
      "cell_type": "code",
      "metadata": {
        "id": "yeFPhSkbw2Du",
        "colab": {
          "base_uri": "https://localhost:8080/",
          "height": 35
        },
        "outputId": "ed8ad02c-2179-4d6b-dad5-b227e9b6d11e"
      },
      "source": [
        "!cat data.json"
      ],
      "execution_count": null,
      "outputs": [
        {
          "output_type": "stream",
          "text": [
            "{\"one\": 1, \"two\": 2}"
          ],
          "name": "stdout"
        }
      ]
    },
    {
      "cell_type": "code",
      "metadata": {
        "id": "-IM3TA0Pw4tC"
      },
      "source": [
        "with open('data.json', 'rb') as outfile:\n",
        "    res2 = json.load(outfile)"
      ],
      "execution_count": null,
      "outputs": []
    },
    {
      "cell_type": "code",
      "metadata": {
        "id": "cWW27L2aw6lz",
        "colab": {
          "base_uri": "https://localhost:8080/",
          "height": 52
        },
        "outputId": "53c41b9f-cbe1-4767-f99d-7b687616e70e"
      },
      "source": [
        "print(res2)\n",
        "type(res2)"
      ],
      "execution_count": null,
      "outputs": [
        {
          "output_type": "stream",
          "text": [
            "{'one': 1, 'two': 2}\n"
          ],
          "name": "stdout"
        },
        {
          "output_type": "execute_result",
          "data": {
            "text/plain": [
              "dict"
            ]
          },
          "metadata": {
            "tags": []
          },
          "execution_count": 228
        }
      ]
    },
    {
      "cell_type": "markdown",
      "metadata": {
        "id": "rh8w9HQ7xbYp"
      },
      "source": [
        "#### Save to Yaml"
      ]
    },
    {
      "cell_type": "code",
      "metadata": {
        "id": "gbHq08eBxgH-"
      },
      "source": [
        "import yaml"
      ],
      "execution_count": null,
      "outputs": []
    },
    {
      "cell_type": "code",
      "metadata": {
        "id": "jwXd4158xgT8"
      },
      "source": [
        "with open(\"data.yaml\", \"w\") as yamlfile:                                               \n",
        "    yaml.safe_dump(res2, yamlfile, default_flow_style=False)"
      ],
      "execution_count": null,
      "outputs": []
    },
    {
      "cell_type": "code",
      "metadata": {
        "id": "OWvZMStHxgex",
        "colab": {
          "base_uri": "https://localhost:8080/",
          "height": 52
        },
        "outputId": "e1afa4f8-56ad-4998-dd6d-056fc9d854bb"
      },
      "source": [
        "!cat data.yaml"
      ],
      "execution_count": null,
      "outputs": [
        {
          "output_type": "stream",
          "text": [
            "one: 1\n",
            "two: 2\n"
          ],
          "name": "stdout"
        }
      ]
    },
    {
      "cell_type": "markdown",
      "metadata": {
        "id": "UfbzysQGxsR3"
      },
      "source": [
        "#### Load Yaml"
      ]
    },
    {
      "cell_type": "code",
      "metadata": {
        "id": "VgBxjVHExwtI"
      },
      "source": [
        "with open(\"data.yaml\", \"rb\") as yamlfile:                                               \n",
        "    res3 = yaml.safe_load(yamlfile) "
      ],
      "execution_count": null,
      "outputs": []
    },
    {
      "cell_type": "code",
      "metadata": {
        "id": "dDrmL9p5xyFk",
        "colab": {
          "base_uri": "https://localhost:8080/",
          "height": 52
        },
        "outputId": "ea59e502-6bfd-4d4d-a09b-e9a7e7da2d09"
      },
      "source": [
        "print(res3)\n",
        "type(res3)"
      ],
      "execution_count": null,
      "outputs": [
        {
          "output_type": "stream",
          "text": [
            "{'one': 1, 'two': 2}\n"
          ],
          "name": "stdout"
        },
        {
          "output_type": "execute_result",
          "data": {
            "text/plain": [
              "dict"
            ]
          },
          "metadata": {
            "tags": []
          },
          "execution_count": 234
        }
      ]
    },
    {
      "cell_type": "markdown",
      "metadata": {
        "id": "-TNs6mfm97X0"
      },
      "source": [
        "### TO DO Protobuff Example"
      ]
    },
    {
      "cell_type": "markdown",
      "metadata": {
        "id": "VawMwOlX9_r_"
      },
      "source": [
        ""
      ]
    },
    {
      "cell_type": "markdown",
      "metadata": {
        "id": "WrRrxofUSJqe"
      },
      "source": [
        "### Exercise: Read and Write a YAML file"
      ]
    },
    {
      "cell_type": "markdown",
      "metadata": {
        "id": "IJJPbByISJte"
      },
      "source": [
        ""
      ]
    },
    {
      "cell_type": "code",
      "metadata": {
        "id": "jJrxkgnx8Oq5"
      },
      "source": [
        "new_variable = {\"IP_Address\": \"Hostname\"}\n",
        "with open(\"hosts.yaml\", \"w\") as yamlfile:\n",
        "     yaml.safe_dump(new_variable, yamlfile, default_flow_style=False)"
      ],
      "execution_count": null,
      "outputs": []
    },
    {
      "cell_type": "code",
      "metadata": {
        "id": "AMZa6pKp8rLJ",
        "colab": {
          "base_uri": "https://localhost:8080/",
          "height": 35
        },
        "outputId": "2972cb77-e4c7-4331-dba0-fc0d5745276f"
      },
      "source": [
        "!cat hosts.yaml"
      ],
      "execution_count": null,
      "outputs": [
        {
          "output_type": "stream",
          "text": [
            "IP_Address: Hostname\n"
          ],
          "name": "stdout"
        }
      ]
    },
    {
      "cell_type": "markdown",
      "metadata": {
        "id": "ja91sLQ88zY-"
      },
      "source": [
        "Q: So what is the difference between pickle and json libraries? they seem to do the same thing?![alt text](![alt text](https://))"
      ]
    },
    {
      "cell_type": "code",
      "metadata": {
        "id": "JYKHIVSf81lj"
      },
      "source": [
        "var = {\"one\":\"two\"}\n",
        "pickle.dump(var, open('unreadable.pickle', 'wb'))"
      ],
      "execution_count": null,
      "outputs": []
    },
    {
      "cell_type": "code",
      "metadata": {
        "id": "DOpRigaC9IiD",
        "colab": {
          "base_uri": "https://localhost:8080/",
          "height": 34
        },
        "outputId": "def12e9b-8d52-43b9-b18f-2a00af8b38bd"
      },
      "source": [
        "!ls -lh unreadable.pickle"
      ],
      "execution_count": null,
      "outputs": [
        {
          "output_type": "stream",
          "text": [
            "-rw-r--r-- 1 root root 27 Nov 11 14:53 unreadable.pickle\n"
          ],
          "name": "stdout"
        }
      ]
    },
    {
      "cell_type": "code",
      "metadata": {
        "id": "M4s0eS3u9iNJ"
      },
      "source": [
        "with open('var.json', 'w') as outfile:\n",
        "    json.dump(var, outfile)"
      ],
      "execution_count": null,
      "outputs": []
    },
    {
      "cell_type": "code",
      "metadata": {
        "id": "wOTwJ0Vp9sl4",
        "colab": {
          "base_uri": "https://localhost:8080/",
          "height": 34
        },
        "outputId": "bdf51732-4ef8-49f4-8ed4-0da3920c1540"
      },
      "source": [
        "!ls -lh var.json"
      ],
      "execution_count": null,
      "outputs": [
        {
          "output_type": "stream",
          "text": [
            "-rw-r--r-- 1 root root 14 Nov 11 14:55 var.json\n"
          ],
          "name": "stdout"
        }
      ]
    },
    {
      "cell_type": "markdown",
      "metadata": {
        "id": "54BxP4dT9HyS"
      },
      "source": [
        "Q:  How would you really compare pickle size vs JSON (test it out)..?"
      ]
    },
    {
      "cell_type": "markdown",
      "metadata": {
        "id": "-hsimY7KSQCD"
      },
      "source": [
        "### Presentation: Managing files and directories using os.path and pathlib"
      ]
    },
    {
      "cell_type": "markdown",
      "metadata": {
        "id": "R1dKjjhpSQFK"
      },
      "source": [
        ""
      ]
    },
    {
      "cell_type": "code",
      "metadata": {
        "id": "I6jV7wQYgGVL"
      },
      "source": [
        "# Make some dirs\n",
        "import pathlib\n",
        "import os\n",
        "\n",
        "path = \"somedir\"\n",
        "#Depending on the script you are writing maybe you want this False\n",
        "pathlib.Path(path).mkdir(parents=True, exist_ok=True)"
      ],
      "execution_count": null,
      "outputs": []
    },
    {
      "cell_type": "code",
      "metadata": {
        "id": "tgOXVqFBgTef",
        "colab": {
          "base_uri": "https://localhost:8080/",
          "height": 69
        },
        "outputId": "d419074f-14fe-41c1-eebd-69fe275e7926"
      },
      "source": [
        "ls -la somedir"
      ],
      "execution_count": null,
      "outputs": [
        {
          "output_type": "stream",
          "text": [
            "total 12\n",
            "drwxr-xr-x 2 root root 4096 Jan  8 15:20 \u001b[0m\u001b[01;34m.\u001b[0m/\n",
            "drwxr-xr-x 1 root root 4096 Jan  8 15:20 \u001b[01;34m..\u001b[0m/\n"
          ],
          "name": "stdout"
        }
      ]
    },
    {
      "cell_type": "code",
      "metadata": {
        "id": "OAuM8rwjCs9x"
      },
      "source": [
        "import pathlib\n",
        "pathvar = pathlib.Path(\"newfile.txt\")\n",
        "pathvar2 = pathlib.Path(\"somedir\")"
      ],
      "execution_count": null,
      "outputs": []
    },
    {
      "cell_type": "markdown",
      "metadata": {
        "id": "GX8yZ6SxDKDG"
      },
      "source": [
        "Check if path exists?"
      ]
    },
    {
      "cell_type": "code",
      "metadata": {
        "id": "QJhTeiWHC1Yu",
        "colab": {
          "base_uri": "https://localhost:8080/",
          "height": 35
        },
        "outputId": "6724eab5-611e-45dc-b4d8-8325338f7fc9"
      },
      "source": [
        "pathvar.exists()"
      ],
      "execution_count": null,
      "outputs": [
        {
          "output_type": "execute_result",
          "data": {
            "text/plain": [
              "False"
            ]
          },
          "metadata": {
            "tags": []
          },
          "execution_count": 248
        }
      ]
    },
    {
      "cell_type": "code",
      "metadata": {
        "id": "Vbsy-GMeDCFV",
        "colab": {
          "base_uri": "https://localhost:8080/",
          "height": 35
        },
        "outputId": "498899ed-46df-4ac3-9670-bb63714d1113"
      },
      "source": [
        "pathvar2.exists()"
      ],
      "execution_count": null,
      "outputs": [
        {
          "output_type": "execute_result",
          "data": {
            "text/plain": [
              "True"
            ]
          },
          "metadata": {
            "tags": []
          },
          "execution_count": 244
        }
      ]
    },
    {
      "cell_type": "code",
      "metadata": {
        "id": "rw-wpPqJDM0t",
        "colab": {
          "base_uri": "https://localhost:8080/",
          "height": 35
        },
        "outputId": "bf14a7f3-64b0-4bdc-e3a7-8b557bfe8864"
      },
      "source": [
        "pathvar.write_text(\"foo\")"
      ],
      "execution_count": null,
      "outputs": [
        {
          "output_type": "execute_result",
          "data": {
            "text/plain": [
              "3"
            ]
          },
          "metadata": {
            "tags": []
          },
          "execution_count": 249
        }
      ]
    },
    {
      "cell_type": "code",
      "metadata": {
        "id": "EQOSDCm9DaOJ",
        "colab": {
          "base_uri": "https://localhost:8080/",
          "height": 35
        },
        "outputId": "fd92d1b3-120f-4c1d-d78b-779c2d2f9bd5"
      },
      "source": [
        "cat newfile.txt"
      ],
      "execution_count": null,
      "outputs": [
        {
          "output_type": "stream",
          "text": [
            "foo"
          ],
          "name": "stdout"
        }
      ]
    },
    {
      "cell_type": "markdown",
      "metadata": {
        "id": "4NO023xTSVwE"
      },
      "source": [
        "### Exercise: Use pathlib to rename files"
      ]
    },
    {
      "cell_type": "markdown",
      "metadata": {
        "id": "81Q9__deSVzf"
      },
      "source": [
        ""
      ]
    },
    {
      "cell_type": "code",
      "metadata": {
        "id": "KYEP5xmuh0eI",
        "colab": {
          "base_uri": "https://localhost:8080/",
          "height": 191
        },
        "outputId": "ee229ea7-5c79-4c5e-8802-8611f5c37f4d"
      },
      "source": [
        "from pathlib import Path\n",
        "p = Path('foo.txt')\n",
        "p.open('w').write('bam')\n",
        "\n",
        "#This file is created\n",
        "print(\"Before rename\")\n",
        "!ls -l *.txt\n",
        "\n",
        "out = Path('bar.txt')\n",
        "p.rename(out)\n",
        "\n",
        "#It is renamed\n",
        "print(\"After rename\")\n",
        "!ls -l *.txt\n",
        "#!rm bar.txt"
      ],
      "execution_count": null,
      "outputs": [
        {
          "output_type": "stream",
          "text": [
            "Before rename\n",
            "-rw-r--r-- 1 root root  3 Jan  8 15:25 foo.txt\n",
            "-rw-r--r-- 1 root root  3 Jan  8 15:23 newfile.txt\n",
            "-rw-r--r-- 1 root root 15 Jan  8 15:11 workfile2.txt\n",
            "-rw-r--r-- 1 root root  3 Jan  8 15:12 workfile.txt\n",
            "After rename\n",
            "-rw-r--r-- 1 root root  3 Jan  8 15:25 bar.txt\n",
            "-rw-r--r-- 1 root root  3 Jan  8 15:23 newfile.txt\n",
            "-rw-r--r-- 1 root root 15 Jan  8 15:11 workfile2.txt\n",
            "-rw-r--r-- 1 root root  3 Jan  8 15:12 workfile.txt\n"
          ],
          "name": "stdout"
        }
      ]
    },
    {
      "cell_type": "code",
      "metadata": {
        "id": "W6CzcDJwwnaO",
        "colab": {
          "base_uri": "https://localhost:8080/",
          "height": 35
        },
        "outputId": "0ea3b031-7d30-4612-cd25-200bf9519a66"
      },
      "source": [
        "cat bar.txt"
      ],
      "execution_count": null,
      "outputs": [
        {
          "output_type": "stream",
          "text": [
            "bam"
          ],
          "name": "stdout"
        }
      ]
    },
    {
      "cell_type": "code",
      "metadata": {
        "id": "xLfi4UR7w2sT"
      },
      "source": [
        "mypath = Path('bar.txt')"
      ],
      "execution_count": null,
      "outputs": []
    },
    {
      "cell_type": "markdown",
      "metadata": {
        "id": "9VeytCZ1xCDG"
      },
      "source": [
        "Try things out"
      ]
    },
    {
      "cell_type": "code",
      "metadata": {
        "id": "LIv2Rc0mw70I",
        "colab": {
          "base_uri": "https://localhost:8080/",
          "height": 35
        },
        "outputId": "8a10f395-235c-4de3-d234-3dd8175759ce"
      },
      "source": [
        "mypath.absolute()"
      ],
      "execution_count": null,
      "outputs": [
        {
          "output_type": "execute_result",
          "data": {
            "text/plain": [
              "PosixPath('/content/bar.txt')"
            ]
          },
          "metadata": {
            "tags": []
          },
          "execution_count": 256
        }
      ]
    },
    {
      "cell_type": "code",
      "metadata": {
        "id": "zCJdK_qRxEEV",
        "colab": {
          "base_uri": "https://localhost:8080/",
          "height": 35
        },
        "outputId": "f332eb12-bca5-4e42-b64a-9dc340bede36"
      },
      "source": [
        "mypath.cwd()"
      ],
      "execution_count": null,
      "outputs": [
        {
          "output_type": "execute_result",
          "data": {
            "text/plain": [
              "PosixPath('/content')"
            ]
          },
          "metadata": {
            "tags": []
          },
          "execution_count": 257
        }
      ]
    },
    {
      "cell_type": "markdown",
      "metadata": {
        "id": "IMgQrTLsBVUR"
      },
      "source": [
        "\n",
        "Fnmatch\n",
        "```python\n",
        "import fnmatch\n",
        "\n",
        "files = [\"data1.csv\", \"script.py\", \"image.png\", \"data2.csv\", \"all.py\"]\n",
        "\n",
        "\n",
        "def csv_matches(files):\n",
        "    \"\"\"Return matches for csv files\"\"\"\n",
        "\n",
        "    matches = fnmatch.filter(files, \"*.csv\")\n",
        "    return matches\n",
        "\n",
        "\n",
        "# Print matches to pattern\n",
        "print(f\"Found matches: {csv_matches(files)}\")\n",
        "```\n",
        "\n"
      ]
    },
    {
      "cell_type": "markdown",
      "metadata": {
        "id": "cgnt87WDBnk8"
      },
      "source": [
        "Archive?\n",
        "\n",
        "\n",
        "\n",
        "```python\n",
        "from shutil import make_archive\n",
        "import os\n",
        "\n",
        "username = \"user1\"\n",
        "root_dir = \"/tmp\"\n",
        "# archive path\n",
        "path = f\"{root_dir}/{username}\"\n",
        "\n",
        "# create tar and gzipped archive\n",
        "make_archive(username, \"gztar\", root_dir)\n",
        "\n",
        "# create zip archive\n",
        "make_archive(username, \"zip\", root_dir)\n",
        "\n",
        "print(os.listdir(\"/tmp\"))\n",
        "```\n",
        "\n"
      ]
    },
    {
      "cell_type": "markdown",
      "metadata": {
        "id": "k2u1noABSY7Z"
      },
      "source": [
        "### Presentation: Walking directory trees using os.walk"
      ]
    },
    {
      "cell_type": "markdown",
      "metadata": {
        "id": "9ZfRJfD2SY-b"
      },
      "source": [
        "Example from standard library docs...but lets change.\n",
        "\n",
        "```python\n",
        "import os\n",
        "from os.path import join, getsize\n",
        "for root, dirs, files in os.walk('somedir'):\n",
        "    print(root, \"consumes\", end=\" \")\n",
        "    print(sum(getsize(join(root, name)) for name in files), end=\" \")\n",
        "    print(\"bytes in\", len(files), \"non-directory files\")\n",
        "    if 'CVS' in dirs:\n",
        "        dirs.remove('CVS')  # don't visit CVS directories\n",
        "```\n",
        "\n"
      ]
    },
    {
      "cell_type": "markdown",
      "metadata": {
        "id": "7OSRDtFTGUQH"
      },
      "source": [
        "These are the hooks to walk the file system..."
      ]
    },
    {
      "cell_type": "code",
      "metadata": {
        "id": "xxDHcAJSFXCn",
        "colab": {
          "base_uri": "https://localhost:8080/",
          "height": 159
        },
        "outputId": "f2a062f4-0306-4dd6-d419-383a04716e9a"
      },
      "source": [
        "import os\n",
        "from os.path import join, getsize\n",
        "for root, dirs, files in os.walk('sample_data'):\n",
        "    print(f\"files I found: {files}\")\n",
        "    #full path\n",
        "    for name in files:\n",
        "        full_path = join(root, name)\n",
        "        print(f\"full path to files: {full_path}\")"
      ],
      "execution_count": null,
      "outputs": [
        {
          "output_type": "stream",
          "text": [
            "files I found: ['README.md', 'anscombe.json', 'mnist_test.csv', 'mnist_train_small.csv', 'california_housing_test.csv', 'california_housing_train.csv']\n",
            "full path to files: sample_data/README.md\n",
            "full path to files: sample_data/anscombe.json\n",
            "full path to files: sample_data/mnist_test.csv\n",
            "full path to files: sample_data/mnist_train_small.csv\n",
            "full path to files: sample_data/california_housing_test.csv\n",
            "full path to files: sample_data/california_housing_train.csv\n"
          ],
          "name": "stdout"
        }
      ]
    },
    {
      "cell_type": "markdown",
      "metadata": {
        "id": "BnkhWhAVSZGG"
      },
      "source": [
        "### Presentation: Getting stat information on files and directories"
      ]
    },
    {
      "cell_type": "markdown",
      "metadata": {
        "id": "T44g0aDbBTQ9"
      },
      "source": [
        "Use the same technique to explore the stat methods"
      ]
    },
    {
      "cell_type": "code",
      "metadata": {
        "id": "XaDUwugRGt4X"
      },
      "source": [
        "import os\n",
        "location = \"sample_data/anscombe.json\"\n",
        "result = os.stat(location)"
      ],
      "execution_count": null,
      "outputs": []
    },
    {
      "cell_type": "code",
      "metadata": {
        "id": "Ke_p-0GjG7CH",
        "colab": {
          "base_uri": "https://localhost:8080/",
          "height": 35
        },
        "outputId": "d340c94c-ca39-4008-8d46-0cfd09a46bcb"
      },
      "source": [
        "result.st_gid"
      ],
      "execution_count": null,
      "outputs": [
        {
          "output_type": "execute_result",
          "data": {
            "text/plain": [
              "0"
            ]
          },
          "metadata": {
            "tags": []
          },
          "execution_count": 260
        }
      ]
    },
    {
      "cell_type": "code",
      "metadata": {
        "id": "e338KmC2ylFo",
        "colab": {
          "base_uri": "https://localhost:8080/",
          "height": 35
        },
        "outputId": "2c5b62c7-28c5-4ea8-9745-d6f4f5130e4f"
      },
      "source": [
        "result.st_size"
      ],
      "execution_count": null,
      "outputs": [
        {
          "output_type": "execute_result",
          "data": {
            "text/plain": [
              "1697"
            ]
          },
          "metadata": {
            "tags": []
          },
          "execution_count": 262
        }
      ]
    },
    {
      "cell_type": "markdown",
      "metadata": {
        "id": "JgPZWw-cA_0B"
      },
      "source": [
        "### Subprocess.run"
      ]
    },
    {
      "cell_type": "markdown",
      "metadata": {
        "id": "b9pNy1bTBDP0"
      },
      "source": [
        "\n",
        "\n",
        "```python\n",
        "import subprocess\n",
        "import shlex\n",
        "\n",
        "print(\"Enter a list of directories to calculate storage total: \\n\")\n",
        "user_input = \"pluto mars jupyter\"\n",
        "sanitized_user_input = shlex.split(user_input)\n",
        "print(f\"raw_user_input: {user_input} |  sanitized_user_input: {sanitized_user_input}\")\n",
        "cmd = [\"du\", \"-sh\", \"--total\"]\n",
        "cmd.extend(sanitized_user_input)\n",
        "print(f\"cmd: {cmd}\")\n",
        "disk_total = subprocess.run(cmd, stdout=subprocess.PIPE)\n",
        "print(disk_total)\n",
        "```\n",
        "\n"
      ]
    },
    {
      "cell_type": "markdown",
      "metadata": {
        "id": "EsZu4zjxSfP_"
      },
      "source": [
        "\n",
        "# Example health check\n",
        "```python\n",
        "import subprocess\n",
        "import os\n",
        "\n",
        "# setup\n",
        "file_location = \"/tmp/file.txt\"\n",
        "expected_uid = 501\n",
        "# touch a file\n",
        "proc = subprocess.Popen([\"touch\", file_location])\n",
        "\n",
        "# check user permissions\n",
        "stat = os.stat(file_location)\n",
        "```\n",
        "\n"
      ]
    },
    {
      "cell_type": "markdown",
      "metadata": {
        "id": "8Hd2HFK2SfbH"
      },
      "source": [
        "### Presentation: Finding files: duplicates, globbing, and patterns"
      ]
    },
    {
      "cell_type": "markdown",
      "metadata": {
        "id": "Vp-hgWj2SffK"
      },
      "source": [
        "\n",
        "#subprocess find\n",
        "```python\n",
        "import subprocess\n",
        "\n",
        "print(\"Enter a path to search for directories: \\n\")\n",
        "user_input = input()\n",
        "print(f\"user_input: {user_input}\")\n",
        "with subprocess.Popen(\n",
        "    [\"find\", user_input, \"-type\", \"d\"], stdout=subprocess.PIPE\n",
        ") as find:\n",
        "    result = find.stdout.readlines()\n",
        "    for line in result:\n",
        "        print(f\"Found Directory: {line}\")\n",
        "```\n",
        "\n"
      ]
    },
    {
      "cell_type": "code",
      "metadata": {
        "id": "PjXLYlsQfuPj",
        "colab": {
          "base_uri": "https://localhost:8080/",
          "height": 35
        },
        "outputId": "837a02af-c9c3-4fc6-87ea-a041b0ee8693"
      },
      "source": [
        "!touch foo.csv && touch bar.txt\n",
        "import glob\n",
        "glob.glob(\"*.csv\")"
      ],
      "execution_count": null,
      "outputs": [
        {
          "output_type": "execute_result",
          "data": {
            "text/plain": [
              "['foo.csv']"
            ]
          },
          "metadata": {
            "tags": []
          },
          "execution_count": 264
        }
      ]
    },
    {
      "cell_type": "markdown",
      "metadata": {
        "id": "TEpmglHZSiGX"
      },
      "source": [
        "### Exercise: Find files using glob"
      ]
    },
    {
      "cell_type": "markdown",
      "metadata": {
        "id": "Wal4LPEOSmBR"
      },
      "source": [
        ""
      ]
    },
    {
      "cell_type": "code",
      "metadata": {
        "id": "BPv951NsIRS4",
        "colab": {
          "base_uri": "https://localhost:8080/",
          "height": 104
        },
        "outputId": "4b671e3d-adfd-47b0-8af3-cb1e30cac5dc"
      },
      "source": [
        "path = \"sample_data\"\n",
        "results = glob.glob(f\"{path}/*.csv\")\n",
        "\n",
        "#how many many CSV did you find?\n",
        "print(len(results))\n",
        "results"
      ],
      "execution_count": null,
      "outputs": [
        {
          "output_type": "stream",
          "text": [
            "4\n"
          ],
          "name": "stdout"
        },
        {
          "output_type": "execute_result",
          "data": {
            "text/plain": [
              "['sample_data/mnist_test.csv',\n",
              " 'sample_data/mnist_train_small.csv',\n",
              " 'sample_data/california_housing_test.csv',\n",
              " 'sample_data/california_housing_train.csv']"
            ]
          },
          "metadata": {
            "tags": []
          },
          "execution_count": 265
        }
      ]
    },
    {
      "cell_type": "code",
      "metadata": {
        "id": "ekqeCDxsIqCh",
        "colab": {
          "base_uri": "https://localhost:8080/",
          "height": 52
        },
        "outputId": "cce3761c-2a56-4dad-f6d1-6014cc13f409"
      },
      "source": [
        "path = \"sample_data\"\n",
        "results = glob.glob(f\"{path}/*.json\")\n",
        "\n",
        "#how many many CSV did you find?\n",
        "print(len(results))\n",
        "results"
      ],
      "execution_count": null,
      "outputs": [
        {
          "output_type": "stream",
          "text": [
            "1\n"
          ],
          "name": "stdout"
        },
        {
          "output_type": "execute_result",
          "data": {
            "text/plain": [
              "['sample_data/anscombe.json']"
            ]
          },
          "metadata": {
            "tags": []
          },
          "execution_count": 266
        }
      ]
    },
    {
      "cell_type": "markdown",
      "metadata": {
        "id": "3rIS-eHrHGAX"
      },
      "source": [
        "## Developing with the Command Line"
      ]
    },
    {
      "cell_type": "markdown",
      "metadata": {
        "id": "3-epgMWYHRIY"
      },
      "source": [
        "### Presentation: Setting up a Python project with VSCode and pip"
      ]
    },
    {
      "cell_type": "markdown",
      "metadata": {
        "id": "8oevsZYBTFFX"
      },
      "source": [
        "\n",
        "Setup Virtual Environment workflow\n",
        "```\n",
        "    1  python3\n",
        "    2  sudo yum update\n",
        "    3  python3 -m venv ~/.python-devops-course\n",
        "    4  which python3\n",
        "    5  source ~/.python-devops-course/bin/activate\n",
        "    6  which python3\n",
        "    7  python3\n",
        "    8  history\n",
        "```\n",
        "\n"
      ]
    },
    {
      "cell_type": "markdown",
      "metadata": {
        "id": "03sKQHy_TFIj"
      },
      "source": [
        "### Presentation: Using sys.argv"
      ]
    },
    {
      "cell_type": "markdown",
      "metadata": {
        "id": "bHAEIX_-THFp"
      },
      "source": [
        ""
      ]
    },
    {
      "cell_type": "markdown",
      "metadata": {
        "id": "M0dVUfeETK4a"
      },
      "source": [
        "### Exercise: Write a command-line tool with sys.argv"
      ]
    },
    {
      "cell_type": "markdown",
      "metadata": {
        "id": "DdwBULNtTXcj"
      },
      "source": [
        ""
      ]
    },
    {
      "cell_type": "markdown",
      "metadata": {
        "id": "VaNfwqzsTNcm"
      },
      "source": [
        "### Presentation: Using click CLI Framework"
      ]
    },
    {
      "cell_type": "markdown",
      "metadata": {
        "id": "Y1bWeR0wTPzO"
      },
      "source": [
        "### Write a command-line tool with click"
      ]
    },
    {
      "cell_type": "markdown",
      "metadata": {
        "id": "yHi_dqaZTSd8"
      },
      "source": [
        "Reference:  https://click.palletsprojects.com/en/5.x/quickstart/"
      ]
    },
    {
      "cell_type": "code",
      "metadata": {
        "id": "cEMmQESUe8WR",
        "colab": {
          "base_uri": "https://localhost:8080/",
          "height": 34
        },
        "outputId": "65247bfa-988e-41a0-a514-56d6309b781e"
      },
      "source": [
        "%%writefile hello-click.py\n",
        "import click\n",
        "\n",
        "@click.command()\n",
        "def hello():\n",
        "    click.echo('Hello World!')\n",
        "\n",
        "if __name__ == '__main__':\n",
        "    hello()"
      ],
      "execution_count": null,
      "outputs": [
        {
          "output_type": "stream",
          "text": [
            "Writing hello-click.py\n"
          ],
          "name": "stdout"
        }
      ]
    },
    {
      "cell_type": "code",
      "metadata": {
        "id": "s9k7usChfMPW",
        "colab": {
          "base_uri": "https://localhost:8080/",
          "height": 34
        },
        "outputId": "65d025ef-b858-42bb-cba3-bf2b7bd1643c"
      },
      "source": [
        "!python hello-click.py"
      ],
      "execution_count": null,
      "outputs": [
        {
          "output_type": "stream",
          "text": [
            "Hello World!\n"
          ],
          "name": "stdout"
        }
      ]
    },
    {
      "cell_type": "markdown",
      "metadata": {
        "id": "slemlZcgTT2W"
      },
      "source": [
        "### Presentation: click, subprocess.run, and mixing shell and Python together"
      ]
    },
    {
      "cell_type": "markdown",
      "metadata": {
        "id": "21UVe2NETVCP"
      },
      "source": [
        ""
      ]
    },
    {
      "cell_type": "markdown",
      "metadata": {
        "id": "iD-9dU8DI6j9"
      },
      "source": [
        "## Continuous Integration and Delivery"
      ]
    },
    {
      "cell_type": "markdown",
      "metadata": {
        "id": "nNeuZROzI-pI"
      },
      "source": [
        ""
      ]
    },
    {
      "cell_type": "markdown",
      "metadata": {
        "id": "K-rwZGi1UJPb"
      },
      "source": [
        "### Presentation: Creating Makefiles"
      ]
    },
    {
      "cell_type": "markdown",
      "metadata": {
        "id": "wqUr1XEAUL4-"
      },
      "source": [
        ""
      ]
    },
    {
      "cell_type": "markdown",
      "metadata": {
        "id": "8yduXBcZUL8-"
      },
      "source": [
        "### Exercise: Create a Makefile"
      ]
    },
    {
      "cell_type": "markdown",
      "metadata": {
        "id": "EYw4GHuLUORG"
      },
      "source": [
        ""
      ]
    },
    {
      "cell_type": "markdown",
      "metadata": {
        "id": "ZUiGf3pSUOUN"
      },
      "source": [
        "### Presentation: Creating Python virtualenv"
      ]
    },
    {
      "cell_type": "markdown",
      "metadata": {
        "id": "AzmzrRQfUTAK"
      },
      "source": [
        ""
      ]
    },
    {
      "cell_type": "markdown",
      "metadata": {
        "id": "dKcauKdOUTDQ"
      },
      "source": [
        "### Exercise: Create and use virtualenv"
      ]
    },
    {
      "cell_type": "markdown",
      "metadata": {
        "id": "kUEq2tVsUWlx"
      },
      "source": [
        ""
      ]
    },
    {
      "cell_type": "markdown",
      "metadata": {
        "id": "dJ2jbaVHUWo0"
      },
      "source": [
        "### Presentation: Linting and testing Python code with Pylint and PyTest"
      ]
    },
    {
      "cell_type": "markdown",
      "metadata": {
        "id": "xrrKjQ6iUZOo"
      },
      "source": [
        ""
      ]
    },
    {
      "cell_type": "markdown",
      "metadata": {
        "id": "qimXAGPDUZaE"
      },
      "source": [
        "### Exercise: Lint code with Pylint"
      ]
    },
    {
      "cell_type": "markdown",
      "metadata": {
        "id": "Ns4fQErGVQYN"
      },
      "source": [
        ""
      ]
    },
    {
      "cell_type": "markdown",
      "metadata": {
        "id": "kS6oxmbhVQ5f"
      },
      "source": [
        "### Presentation: Configuring CircleCI Continuous Integration with Github"
      ]
    },
    {
      "cell_type": "markdown",
      "metadata": {
        "id": "_Hehf5WXXfZY"
      },
      "source": [
        "### Exercise: Setup github repo to build with CircleCI"
      ]
    },
    {
      "cell_type": "markdown",
      "metadata": {
        "id": "f6LzSpGRXgQo"
      },
      "source": [
        ""
      ]
    },
    {
      "cell_type": "markdown",
      "metadata": {
        "id": "DAq-rESbXgmS"
      },
      "source": [
        "### Presentation: What is Continuous Delivery?"
      ]
    },
    {
      "cell_type": "markdown",
      "metadata": {
        "id": "cICr0LtxXgvx"
      },
      "source": [
        ""
      ]
    }
  ]
}